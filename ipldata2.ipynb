{
 "cells": [
  {
   "cell_type": "code",
   "execution_count": 1,
   "id": "deacd140",
   "metadata": {},
   "outputs": [],
   "source": [
    "import pandas as pd\n",
    "import numpy as np\n",
    "import matplotlib.pyplot as plt\n",
    "import seaborn as sns\n",
    "%matplotlib inline"
   ]
  },
  {
   "cell_type": "code",
   "execution_count": 2,
   "id": "40a3ab03",
   "metadata": {},
   "outputs": [],
   "source": [
    "match_data=pd.read_csv('matches.csv')"
   ]
  },
  {
   "cell_type": "code",
   "execution_count": 3,
   "id": "f61fe79c",
   "metadata": {},
   "outputs": [
    {
     "data": {
      "text/html": [
       "<div>\n",
       "<style scoped>\n",
       "    .dataframe tbody tr th:only-of-type {\n",
       "        vertical-align: middle;\n",
       "    }\n",
       "\n",
       "    .dataframe tbody tr th {\n",
       "        vertical-align: top;\n",
       "    }\n",
       "\n",
       "    .dataframe thead th {\n",
       "        text-align: right;\n",
       "    }\n",
       "</style>\n",
       "<table border=\"1\" class=\"dataframe\">\n",
       "  <thead>\n",
       "    <tr style=\"text-align: right;\">\n",
       "      <th></th>\n",
       "      <th>id</th>\n",
       "      <th>season</th>\n",
       "      <th>city</th>\n",
       "      <th>date</th>\n",
       "      <th>team1</th>\n",
       "      <th>team2</th>\n",
       "      <th>toss_winner</th>\n",
       "      <th>toss_decision</th>\n",
       "      <th>result</th>\n",
       "      <th>dl_applied</th>\n",
       "      <th>winner</th>\n",
       "      <th>win_by_runs</th>\n",
       "      <th>win_by_wickets</th>\n",
       "      <th>player_of_match</th>\n",
       "      <th>venue</th>\n",
       "      <th>umpire1</th>\n",
       "      <th>umpire2</th>\n",
       "      <th>umpire3</th>\n",
       "    </tr>\n",
       "  </thead>\n",
       "  <tbody>\n",
       "    <tr>\n",
       "      <th>0</th>\n",
       "      <td>1</td>\n",
       "      <td>2017</td>\n",
       "      <td>Hyderabad</td>\n",
       "      <td>4/5/2017</td>\n",
       "      <td>Sunrisers Hyderabad</td>\n",
       "      <td>Royal Challengers Bangalore</td>\n",
       "      <td>Royal Challengers Bangalore</td>\n",
       "      <td>field</td>\n",
       "      <td>normal</td>\n",
       "      <td>0</td>\n",
       "      <td>Sunrisers Hyderabad</td>\n",
       "      <td>35</td>\n",
       "      <td>0</td>\n",
       "      <td>Yuvraj Singh</td>\n",
       "      <td>Rajiv Gandhi International Stadium, Uppal</td>\n",
       "      <td>AY Dandekar</td>\n",
       "      <td>NJ Llong</td>\n",
       "      <td>NaN</td>\n",
       "    </tr>\n",
       "    <tr>\n",
       "      <th>1</th>\n",
       "      <td>2</td>\n",
       "      <td>2017</td>\n",
       "      <td>Pune</td>\n",
       "      <td>4/6/2017</td>\n",
       "      <td>Mumbai Indians</td>\n",
       "      <td>Rising Pune Supergiant</td>\n",
       "      <td>Rising Pune Supergiant</td>\n",
       "      <td>field</td>\n",
       "      <td>normal</td>\n",
       "      <td>0</td>\n",
       "      <td>Rising Pune Supergiant</td>\n",
       "      <td>0</td>\n",
       "      <td>7</td>\n",
       "      <td>SPD Smith</td>\n",
       "      <td>Maharashtra Cricket Association Stadium</td>\n",
       "      <td>A Nand Kishore</td>\n",
       "      <td>S Ravi</td>\n",
       "      <td>NaN</td>\n",
       "    </tr>\n",
       "    <tr>\n",
       "      <th>2</th>\n",
       "      <td>3</td>\n",
       "      <td>2017</td>\n",
       "      <td>Rajkot</td>\n",
       "      <td>4/7/2017</td>\n",
       "      <td>Gujarat Lions</td>\n",
       "      <td>Kolkata Knight Riders</td>\n",
       "      <td>Kolkata Knight Riders</td>\n",
       "      <td>field</td>\n",
       "      <td>normal</td>\n",
       "      <td>0</td>\n",
       "      <td>Kolkata Knight Riders</td>\n",
       "      <td>0</td>\n",
       "      <td>10</td>\n",
       "      <td>CA Lynn</td>\n",
       "      <td>Saurashtra Cricket Association Stadium</td>\n",
       "      <td>Nitin Menon</td>\n",
       "      <td>CK Nandan</td>\n",
       "      <td>NaN</td>\n",
       "    </tr>\n",
       "    <tr>\n",
       "      <th>3</th>\n",
       "      <td>4</td>\n",
       "      <td>2017</td>\n",
       "      <td>Indore</td>\n",
       "      <td>4/8/2017</td>\n",
       "      <td>Rising Pune Supergiant</td>\n",
       "      <td>Kings XI Punjab</td>\n",
       "      <td>Kings XI Punjab</td>\n",
       "      <td>field</td>\n",
       "      <td>normal</td>\n",
       "      <td>0</td>\n",
       "      <td>Kings XI Punjab</td>\n",
       "      <td>0</td>\n",
       "      <td>6</td>\n",
       "      <td>GJ Maxwell</td>\n",
       "      <td>Holkar Cricket Stadium</td>\n",
       "      <td>AK Chaudhary</td>\n",
       "      <td>C Shamshuddin</td>\n",
       "      <td>NaN</td>\n",
       "    </tr>\n",
       "    <tr>\n",
       "      <th>4</th>\n",
       "      <td>5</td>\n",
       "      <td>2017</td>\n",
       "      <td>Bangalore</td>\n",
       "      <td>4/8/2017</td>\n",
       "      <td>Royal Challengers Bangalore</td>\n",
       "      <td>Delhi Daredevils</td>\n",
       "      <td>Royal Challengers Bangalore</td>\n",
       "      <td>bat</td>\n",
       "      <td>normal</td>\n",
       "      <td>0</td>\n",
       "      <td>Royal Challengers Bangalore</td>\n",
       "      <td>15</td>\n",
       "      <td>0</td>\n",
       "      <td>KM Jadhav</td>\n",
       "      <td>M Chinnaswamy Stadium</td>\n",
       "      <td>NaN</td>\n",
       "      <td>NaN</td>\n",
       "      <td>NaN</td>\n",
       "    </tr>\n",
       "    <tr>\n",
       "      <th>...</th>\n",
       "      <td>...</td>\n",
       "      <td>...</td>\n",
       "      <td>...</td>\n",
       "      <td>...</td>\n",
       "      <td>...</td>\n",
       "      <td>...</td>\n",
       "      <td>...</td>\n",
       "      <td>...</td>\n",
       "      <td>...</td>\n",
       "      <td>...</td>\n",
       "      <td>...</td>\n",
       "      <td>...</td>\n",
       "      <td>...</td>\n",
       "      <td>...</td>\n",
       "      <td>...</td>\n",
       "      <td>...</td>\n",
       "      <td>...</td>\n",
       "      <td>...</td>\n",
       "    </tr>\n",
       "    <tr>\n",
       "      <th>631</th>\n",
       "      <td>632</td>\n",
       "      <td>2016</td>\n",
       "      <td>Raipur</td>\n",
       "      <td>5/22/2016</td>\n",
       "      <td>Delhi Daredevils</td>\n",
       "      <td>Royal Challengers Bangalore</td>\n",
       "      <td>Royal Challengers Bangalore</td>\n",
       "      <td>field</td>\n",
       "      <td>normal</td>\n",
       "      <td>0</td>\n",
       "      <td>Royal Challengers Bangalore</td>\n",
       "      <td>0</td>\n",
       "      <td>6</td>\n",
       "      <td>V Kohli</td>\n",
       "      <td>Shaheed Veer Narayan Singh International Stadium</td>\n",
       "      <td>A Nand Kishore</td>\n",
       "      <td>BNJ Oxenford</td>\n",
       "      <td>NaN</td>\n",
       "    </tr>\n",
       "    <tr>\n",
       "      <th>632</th>\n",
       "      <td>633</td>\n",
       "      <td>2016</td>\n",
       "      <td>Bangalore</td>\n",
       "      <td>5/24/2016</td>\n",
       "      <td>Gujarat Lions</td>\n",
       "      <td>Royal Challengers Bangalore</td>\n",
       "      <td>Royal Challengers Bangalore</td>\n",
       "      <td>field</td>\n",
       "      <td>normal</td>\n",
       "      <td>0</td>\n",
       "      <td>Royal Challengers Bangalore</td>\n",
       "      <td>0</td>\n",
       "      <td>4</td>\n",
       "      <td>AB de Villiers</td>\n",
       "      <td>M Chinnaswamy Stadium</td>\n",
       "      <td>AK Chaudhary</td>\n",
       "      <td>HDPK Dharmasena</td>\n",
       "      <td>NaN</td>\n",
       "    </tr>\n",
       "    <tr>\n",
       "      <th>633</th>\n",
       "      <td>634</td>\n",
       "      <td>2016</td>\n",
       "      <td>Delhi</td>\n",
       "      <td>5/25/2016</td>\n",
       "      <td>Sunrisers Hyderabad</td>\n",
       "      <td>Kolkata Knight Riders</td>\n",
       "      <td>Kolkata Knight Riders</td>\n",
       "      <td>field</td>\n",
       "      <td>normal</td>\n",
       "      <td>0</td>\n",
       "      <td>Sunrisers Hyderabad</td>\n",
       "      <td>22</td>\n",
       "      <td>0</td>\n",
       "      <td>MC Henriques</td>\n",
       "      <td>Feroz Shah Kotla</td>\n",
       "      <td>M Erasmus</td>\n",
       "      <td>C Shamshuddin</td>\n",
       "      <td>NaN</td>\n",
       "    </tr>\n",
       "    <tr>\n",
       "      <th>634</th>\n",
       "      <td>635</td>\n",
       "      <td>2016</td>\n",
       "      <td>Delhi</td>\n",
       "      <td>5/27/2016</td>\n",
       "      <td>Gujarat Lions</td>\n",
       "      <td>Sunrisers Hyderabad</td>\n",
       "      <td>Sunrisers Hyderabad</td>\n",
       "      <td>field</td>\n",
       "      <td>normal</td>\n",
       "      <td>0</td>\n",
       "      <td>Sunrisers Hyderabad</td>\n",
       "      <td>0</td>\n",
       "      <td>4</td>\n",
       "      <td>DA Warner</td>\n",
       "      <td>Feroz Shah Kotla</td>\n",
       "      <td>M Erasmus</td>\n",
       "      <td>CK Nandan</td>\n",
       "      <td>NaN</td>\n",
       "    </tr>\n",
       "    <tr>\n",
       "      <th>635</th>\n",
       "      <td>636</td>\n",
       "      <td>2016</td>\n",
       "      <td>Bangalore</td>\n",
       "      <td>5/29/2016</td>\n",
       "      <td>Sunrisers Hyderabad</td>\n",
       "      <td>Royal Challengers Bangalore</td>\n",
       "      <td>Sunrisers Hyderabad</td>\n",
       "      <td>bat</td>\n",
       "      <td>normal</td>\n",
       "      <td>0</td>\n",
       "      <td>Sunrisers Hyderabad</td>\n",
       "      <td>8</td>\n",
       "      <td>0</td>\n",
       "      <td>BCJ Cutting</td>\n",
       "      <td>M Chinnaswamy Stadium</td>\n",
       "      <td>HDPK Dharmasena</td>\n",
       "      <td>BNJ Oxenford</td>\n",
       "      <td>NaN</td>\n",
       "    </tr>\n",
       "  </tbody>\n",
       "</table>\n",
       "<p>636 rows × 18 columns</p>\n",
       "</div>"
      ],
      "text/plain": [
       "      id  season       city       date                        team1  \\\n",
       "0      1    2017  Hyderabad   4/5/2017          Sunrisers Hyderabad   \n",
       "1      2    2017       Pune   4/6/2017               Mumbai Indians   \n",
       "2      3    2017     Rajkot   4/7/2017                Gujarat Lions   \n",
       "3      4    2017     Indore   4/8/2017       Rising Pune Supergiant   \n",
       "4      5    2017  Bangalore   4/8/2017  Royal Challengers Bangalore   \n",
       "..   ...     ...        ...        ...                          ...   \n",
       "631  632    2016     Raipur  5/22/2016             Delhi Daredevils   \n",
       "632  633    2016  Bangalore  5/24/2016                Gujarat Lions   \n",
       "633  634    2016      Delhi  5/25/2016          Sunrisers Hyderabad   \n",
       "634  635    2016      Delhi  5/27/2016                Gujarat Lions   \n",
       "635  636    2016  Bangalore  5/29/2016          Sunrisers Hyderabad   \n",
       "\n",
       "                           team2                  toss_winner toss_decision  \\\n",
       "0    Royal Challengers Bangalore  Royal Challengers Bangalore         field   \n",
       "1         Rising Pune Supergiant       Rising Pune Supergiant         field   \n",
       "2          Kolkata Knight Riders        Kolkata Knight Riders         field   \n",
       "3                Kings XI Punjab              Kings XI Punjab         field   \n",
       "4               Delhi Daredevils  Royal Challengers Bangalore           bat   \n",
       "..                           ...                          ...           ...   \n",
       "631  Royal Challengers Bangalore  Royal Challengers Bangalore         field   \n",
       "632  Royal Challengers Bangalore  Royal Challengers Bangalore         field   \n",
       "633        Kolkata Knight Riders        Kolkata Knight Riders         field   \n",
       "634          Sunrisers Hyderabad          Sunrisers Hyderabad         field   \n",
       "635  Royal Challengers Bangalore          Sunrisers Hyderabad           bat   \n",
       "\n",
       "     result  dl_applied                       winner  win_by_runs  \\\n",
       "0    normal           0          Sunrisers Hyderabad           35   \n",
       "1    normal           0       Rising Pune Supergiant            0   \n",
       "2    normal           0        Kolkata Knight Riders            0   \n",
       "3    normal           0              Kings XI Punjab            0   \n",
       "4    normal           0  Royal Challengers Bangalore           15   \n",
       "..      ...         ...                          ...          ...   \n",
       "631  normal           0  Royal Challengers Bangalore            0   \n",
       "632  normal           0  Royal Challengers Bangalore            0   \n",
       "633  normal           0          Sunrisers Hyderabad           22   \n",
       "634  normal           0          Sunrisers Hyderabad            0   \n",
       "635  normal           0          Sunrisers Hyderabad            8   \n",
       "\n",
       "     win_by_wickets player_of_match  \\\n",
       "0                 0    Yuvraj Singh   \n",
       "1                 7       SPD Smith   \n",
       "2                10         CA Lynn   \n",
       "3                 6      GJ Maxwell   \n",
       "4                 0       KM Jadhav   \n",
       "..              ...             ...   \n",
       "631               6         V Kohli   \n",
       "632               4  AB de Villiers   \n",
       "633               0    MC Henriques   \n",
       "634               4       DA Warner   \n",
       "635               0     BCJ Cutting   \n",
       "\n",
       "                                                venue          umpire1  \\\n",
       "0           Rajiv Gandhi International Stadium, Uppal      AY Dandekar   \n",
       "1             Maharashtra Cricket Association Stadium   A Nand Kishore   \n",
       "2              Saurashtra Cricket Association Stadium      Nitin Menon   \n",
       "3                              Holkar Cricket Stadium     AK Chaudhary   \n",
       "4                               M Chinnaswamy Stadium              NaN   \n",
       "..                                                ...              ...   \n",
       "631  Shaheed Veer Narayan Singh International Stadium   A Nand Kishore   \n",
       "632                             M Chinnaswamy Stadium     AK Chaudhary   \n",
       "633                                  Feroz Shah Kotla        M Erasmus   \n",
       "634                                  Feroz Shah Kotla        M Erasmus   \n",
       "635                             M Chinnaswamy Stadium  HDPK Dharmasena   \n",
       "\n",
       "             umpire2  umpire3  \n",
       "0           NJ Llong      NaN  \n",
       "1             S Ravi      NaN  \n",
       "2          CK Nandan      NaN  \n",
       "3      C Shamshuddin      NaN  \n",
       "4                NaN      NaN  \n",
       "..               ...      ...  \n",
       "631     BNJ Oxenford      NaN  \n",
       "632  HDPK Dharmasena      NaN  \n",
       "633    C Shamshuddin      NaN  \n",
       "634        CK Nandan      NaN  \n",
       "635     BNJ Oxenford      NaN  \n",
       "\n",
       "[636 rows x 18 columns]"
      ]
     },
     "execution_count": 3,
     "metadata": {},
     "output_type": "execute_result"
    }
   ],
   "source": [
    "match_data"
   ]
  },
  {
   "cell_type": "code",
   "execution_count": 4,
   "id": "df2d0703",
   "metadata": {},
   "outputs": [
    {
     "name": "stdout",
     "output_type": "stream",
     "text": [
      "<class 'pandas.core.frame.DataFrame'>\n",
      "RangeIndex: 636 entries, 0 to 635\n",
      "Data columns (total 18 columns):\n",
      " #   Column           Non-Null Count  Dtype  \n",
      "---  ------           --------------  -----  \n",
      " 0   id               636 non-null    int64  \n",
      " 1   season           636 non-null    int64  \n",
      " 2   city             629 non-null    object \n",
      " 3   date             636 non-null    object \n",
      " 4   team1            636 non-null    object \n",
      " 5   team2            636 non-null    object \n",
      " 6   toss_winner      636 non-null    object \n",
      " 7   toss_decision    636 non-null    object \n",
      " 8   result           636 non-null    object \n",
      " 9   dl_applied       636 non-null    int64  \n",
      " 10  winner           633 non-null    object \n",
      " 11  win_by_runs      636 non-null    int64  \n",
      " 12  win_by_wickets   636 non-null    int64  \n",
      " 13  player_of_match  633 non-null    object \n",
      " 14  venue            636 non-null    object \n",
      " 15  umpire1          635 non-null    object \n",
      " 16  umpire2          635 non-null    object \n",
      " 17  umpire3          0 non-null      float64\n",
      "dtypes: float64(1), int64(5), object(12)\n",
      "memory usage: 89.6+ KB\n"
     ]
    }
   ],
   "source": [
    "match_data.info()"
   ]
  },
  {
   "cell_type": "code",
   "execution_count": 5,
   "id": "017df1b9",
   "metadata": {},
   "outputs": [
    {
     "data": {
      "text/html": [
       "<div>\n",
       "<style scoped>\n",
       "    .dataframe tbody tr th:only-of-type {\n",
       "        vertical-align: middle;\n",
       "    }\n",
       "\n",
       "    .dataframe tbody tr th {\n",
       "        vertical-align: top;\n",
       "    }\n",
       "\n",
       "    .dataframe thead th {\n",
       "        text-align: right;\n",
       "    }\n",
       "</style>\n",
       "<table border=\"1\" class=\"dataframe\">\n",
       "  <thead>\n",
       "    <tr style=\"text-align: right;\">\n",
       "      <th></th>\n",
       "      <th>id</th>\n",
       "      <th>season</th>\n",
       "      <th>dl_applied</th>\n",
       "      <th>win_by_runs</th>\n",
       "      <th>win_by_wickets</th>\n",
       "      <th>umpire3</th>\n",
       "    </tr>\n",
       "  </thead>\n",
       "  <tbody>\n",
       "    <tr>\n",
       "      <th>count</th>\n",
       "      <td>636.000000</td>\n",
       "      <td>636.000000</td>\n",
       "      <td>636.000000</td>\n",
       "      <td>636.000000</td>\n",
       "      <td>636.000000</td>\n",
       "      <td>0.0</td>\n",
       "    </tr>\n",
       "    <tr>\n",
       "      <th>mean</th>\n",
       "      <td>318.500000</td>\n",
       "      <td>2012.490566</td>\n",
       "      <td>0.025157</td>\n",
       "      <td>13.682390</td>\n",
       "      <td>3.372642</td>\n",
       "      <td>NaN</td>\n",
       "    </tr>\n",
       "    <tr>\n",
       "      <th>std</th>\n",
       "      <td>183.741666</td>\n",
       "      <td>2.773026</td>\n",
       "      <td>0.156726</td>\n",
       "      <td>23.908877</td>\n",
       "      <td>3.420338</td>\n",
       "      <td>NaN</td>\n",
       "    </tr>\n",
       "    <tr>\n",
       "      <th>min</th>\n",
       "      <td>1.000000</td>\n",
       "      <td>2008.000000</td>\n",
       "      <td>0.000000</td>\n",
       "      <td>0.000000</td>\n",
       "      <td>0.000000</td>\n",
       "      <td>NaN</td>\n",
       "    </tr>\n",
       "    <tr>\n",
       "      <th>25%</th>\n",
       "      <td>159.750000</td>\n",
       "      <td>2010.000000</td>\n",
       "      <td>0.000000</td>\n",
       "      <td>0.000000</td>\n",
       "      <td>0.000000</td>\n",
       "      <td>NaN</td>\n",
       "    </tr>\n",
       "    <tr>\n",
       "      <th>50%</th>\n",
       "      <td>318.500000</td>\n",
       "      <td>2012.000000</td>\n",
       "      <td>0.000000</td>\n",
       "      <td>0.000000</td>\n",
       "      <td>4.000000</td>\n",
       "      <td>NaN</td>\n",
       "    </tr>\n",
       "    <tr>\n",
       "      <th>75%</th>\n",
       "      <td>477.250000</td>\n",
       "      <td>2015.000000</td>\n",
       "      <td>0.000000</td>\n",
       "      <td>20.000000</td>\n",
       "      <td>7.000000</td>\n",
       "      <td>NaN</td>\n",
       "    </tr>\n",
       "    <tr>\n",
       "      <th>max</th>\n",
       "      <td>636.000000</td>\n",
       "      <td>2017.000000</td>\n",
       "      <td>1.000000</td>\n",
       "      <td>146.000000</td>\n",
       "      <td>10.000000</td>\n",
       "      <td>NaN</td>\n",
       "    </tr>\n",
       "  </tbody>\n",
       "</table>\n",
       "</div>"
      ],
      "text/plain": [
       "               id       season  dl_applied  win_by_runs  win_by_wickets  \\\n",
       "count  636.000000   636.000000  636.000000   636.000000      636.000000   \n",
       "mean   318.500000  2012.490566    0.025157    13.682390        3.372642   \n",
       "std    183.741666     2.773026    0.156726    23.908877        3.420338   \n",
       "min      1.000000  2008.000000    0.000000     0.000000        0.000000   \n",
       "25%    159.750000  2010.000000    0.000000     0.000000        0.000000   \n",
       "50%    318.500000  2012.000000    0.000000     0.000000        4.000000   \n",
       "75%    477.250000  2015.000000    0.000000    20.000000        7.000000   \n",
       "max    636.000000  2017.000000    1.000000   146.000000       10.000000   \n",
       "\n",
       "       umpire3  \n",
       "count      0.0  \n",
       "mean       NaN  \n",
       "std        NaN  \n",
       "min        NaN  \n",
       "25%        NaN  \n",
       "50%        NaN  \n",
       "75%        NaN  \n",
       "max        NaN  "
      ]
     },
     "execution_count": 5,
     "metadata": {},
     "output_type": "execute_result"
    }
   ],
   "source": [
    "match_data.describe()"
   ]
  },
  {
   "cell_type": "markdown",
   "id": "714cfbc8",
   "metadata": {},
   "source": []
  },
  {
   "cell_type": "code",
   "execution_count": 6,
   "id": "6cbf2cf1",
   "metadata": {},
   "outputs": [
    {
     "data": {
      "text/plain": [
       "array(['Sunrisers Hyderabad', 'Rising Pune Supergiant',\n",
       "       'Kolkata Knight Riders', 'Kings XI Punjab',\n",
       "       'Royal Challengers Bangalore', 'Mumbai Indians',\n",
       "       'Delhi Daredevils', 'Gujarat Lions', 'Chennai Super Kings',\n",
       "       'Rajasthan Royals', 'Deccan Chargers', 'Pune Warriors',\n",
       "       'Kochi Tuskers Kerala', nan, 'Rising Pune Supergiants'],\n",
       "      dtype=object)"
      ]
     },
     "execution_count": 6,
     "metadata": {},
     "output_type": "execute_result"
    }
   ],
   "source": [
    "match_data[\"winner\"].unique()"
   ]
  },
  {
   "cell_type": "code",
   "execution_count": 7,
   "id": "b0c063e2",
   "metadata": {},
   "outputs": [],
   "source": [
    "teamsss={'Sunrisers Hyderabad':'SRH', 'Rising Pune Supergiant':\"RPS\",\n",
    "       'Kolkata Knight Riders':\"KKR\", 'Kings XI Punjab':'KXIP',\n",
    "       'Royal Challengers Bangalore':\"RCB\", 'Mumbai Indians':'MI',\n",
    "       'Delhi Daredevils':\"DD\", 'Gujarat Lions':'GJ', 'Chennai Super Kings':\"CSK\",\n",
    "       'Rajasthan Royals':\"RR\", 'Deccan Chargers':\"DC\", 'Pune Warriors':\"PW\",\n",
    "       'Kochi Tuskers Kerala':\"KTK\", 'Rising Pune Supergiants':\"RPS\"}"
   ]
  },
  {
   "cell_type": "code",
   "execution_count": 8,
   "id": "322464cf",
   "metadata": {},
   "outputs": [
    {
     "data": {
      "text/html": [
       "<div>\n",
       "<style scoped>\n",
       "    .dataframe tbody tr th:only-of-type {\n",
       "        vertical-align: middle;\n",
       "    }\n",
       "\n",
       "    .dataframe tbody tr th {\n",
       "        vertical-align: top;\n",
       "    }\n",
       "\n",
       "    .dataframe thead th {\n",
       "        text-align: right;\n",
       "    }\n",
       "</style>\n",
       "<table border=\"1\" class=\"dataframe\">\n",
       "  <thead>\n",
       "    <tr style=\"text-align: right;\">\n",
       "      <th></th>\n",
       "      <th>id</th>\n",
       "      <th>season</th>\n",
       "      <th>city</th>\n",
       "      <th>date</th>\n",
       "      <th>team1</th>\n",
       "      <th>team2</th>\n",
       "      <th>toss_winner</th>\n",
       "      <th>toss_decision</th>\n",
       "      <th>result</th>\n",
       "      <th>dl_applied</th>\n",
       "      <th>winner</th>\n",
       "      <th>win_by_runs</th>\n",
       "      <th>win_by_wickets</th>\n",
       "      <th>player_of_match</th>\n",
       "      <th>venue</th>\n",
       "      <th>umpire1</th>\n",
       "      <th>umpire2</th>\n",
       "      <th>umpire3</th>\n",
       "    </tr>\n",
       "  </thead>\n",
       "  <tbody>\n",
       "    <tr>\n",
       "      <th>0</th>\n",
       "      <td>1</td>\n",
       "      <td>2017</td>\n",
       "      <td>Hyderabad</td>\n",
       "      <td>4/5/2017</td>\n",
       "      <td>SRH</td>\n",
       "      <td>RCB</td>\n",
       "      <td>RCB</td>\n",
       "      <td>field</td>\n",
       "      <td>normal</td>\n",
       "      <td>0</td>\n",
       "      <td>SRH</td>\n",
       "      <td>35</td>\n",
       "      <td>0</td>\n",
       "      <td>Yuvraj Singh</td>\n",
       "      <td>Rajiv Gandhi International Stadium, Uppal</td>\n",
       "      <td>AY Dandekar</td>\n",
       "      <td>NJ Llong</td>\n",
       "      <td>NaN</td>\n",
       "    </tr>\n",
       "    <tr>\n",
       "      <th>1</th>\n",
       "      <td>2</td>\n",
       "      <td>2017</td>\n",
       "      <td>Pune</td>\n",
       "      <td>4/6/2017</td>\n",
       "      <td>MI</td>\n",
       "      <td>RPS</td>\n",
       "      <td>RPS</td>\n",
       "      <td>field</td>\n",
       "      <td>normal</td>\n",
       "      <td>0</td>\n",
       "      <td>RPS</td>\n",
       "      <td>0</td>\n",
       "      <td>7</td>\n",
       "      <td>SPD Smith</td>\n",
       "      <td>Maharashtra Cricket Association Stadium</td>\n",
       "      <td>A Nand Kishore</td>\n",
       "      <td>S Ravi</td>\n",
       "      <td>NaN</td>\n",
       "    </tr>\n",
       "    <tr>\n",
       "      <th>2</th>\n",
       "      <td>3</td>\n",
       "      <td>2017</td>\n",
       "      <td>Rajkot</td>\n",
       "      <td>4/7/2017</td>\n",
       "      <td>GJ</td>\n",
       "      <td>KKR</td>\n",
       "      <td>KKR</td>\n",
       "      <td>field</td>\n",
       "      <td>normal</td>\n",
       "      <td>0</td>\n",
       "      <td>KKR</td>\n",
       "      <td>0</td>\n",
       "      <td>10</td>\n",
       "      <td>CA Lynn</td>\n",
       "      <td>Saurashtra Cricket Association Stadium</td>\n",
       "      <td>Nitin Menon</td>\n",
       "      <td>CK Nandan</td>\n",
       "      <td>NaN</td>\n",
       "    </tr>\n",
       "    <tr>\n",
       "      <th>3</th>\n",
       "      <td>4</td>\n",
       "      <td>2017</td>\n",
       "      <td>Indore</td>\n",
       "      <td>4/8/2017</td>\n",
       "      <td>RPS</td>\n",
       "      <td>KXIP</td>\n",
       "      <td>KXIP</td>\n",
       "      <td>field</td>\n",
       "      <td>normal</td>\n",
       "      <td>0</td>\n",
       "      <td>KXIP</td>\n",
       "      <td>0</td>\n",
       "      <td>6</td>\n",
       "      <td>GJ Maxwell</td>\n",
       "      <td>Holkar Cricket Stadium</td>\n",
       "      <td>AK Chaudhary</td>\n",
       "      <td>C Shamshuddin</td>\n",
       "      <td>NaN</td>\n",
       "    </tr>\n",
       "    <tr>\n",
       "      <th>4</th>\n",
       "      <td>5</td>\n",
       "      <td>2017</td>\n",
       "      <td>Bangalore</td>\n",
       "      <td>4/8/2017</td>\n",
       "      <td>RCB</td>\n",
       "      <td>DD</td>\n",
       "      <td>RCB</td>\n",
       "      <td>bat</td>\n",
       "      <td>normal</td>\n",
       "      <td>0</td>\n",
       "      <td>RCB</td>\n",
       "      <td>15</td>\n",
       "      <td>0</td>\n",
       "      <td>KM Jadhav</td>\n",
       "      <td>M Chinnaswamy Stadium</td>\n",
       "      <td>NaN</td>\n",
       "      <td>NaN</td>\n",
       "      <td>NaN</td>\n",
       "    </tr>\n",
       "    <tr>\n",
       "      <th>...</th>\n",
       "      <td>...</td>\n",
       "      <td>...</td>\n",
       "      <td>...</td>\n",
       "      <td>...</td>\n",
       "      <td>...</td>\n",
       "      <td>...</td>\n",
       "      <td>...</td>\n",
       "      <td>...</td>\n",
       "      <td>...</td>\n",
       "      <td>...</td>\n",
       "      <td>...</td>\n",
       "      <td>...</td>\n",
       "      <td>...</td>\n",
       "      <td>...</td>\n",
       "      <td>...</td>\n",
       "      <td>...</td>\n",
       "      <td>...</td>\n",
       "      <td>...</td>\n",
       "    </tr>\n",
       "    <tr>\n",
       "      <th>631</th>\n",
       "      <td>632</td>\n",
       "      <td>2016</td>\n",
       "      <td>Raipur</td>\n",
       "      <td>5/22/2016</td>\n",
       "      <td>DD</td>\n",
       "      <td>RCB</td>\n",
       "      <td>RCB</td>\n",
       "      <td>field</td>\n",
       "      <td>normal</td>\n",
       "      <td>0</td>\n",
       "      <td>RCB</td>\n",
       "      <td>0</td>\n",
       "      <td>6</td>\n",
       "      <td>V Kohli</td>\n",
       "      <td>Shaheed Veer Narayan Singh International Stadium</td>\n",
       "      <td>A Nand Kishore</td>\n",
       "      <td>BNJ Oxenford</td>\n",
       "      <td>NaN</td>\n",
       "    </tr>\n",
       "    <tr>\n",
       "      <th>632</th>\n",
       "      <td>633</td>\n",
       "      <td>2016</td>\n",
       "      <td>Bangalore</td>\n",
       "      <td>5/24/2016</td>\n",
       "      <td>GJ</td>\n",
       "      <td>RCB</td>\n",
       "      <td>RCB</td>\n",
       "      <td>field</td>\n",
       "      <td>normal</td>\n",
       "      <td>0</td>\n",
       "      <td>RCB</td>\n",
       "      <td>0</td>\n",
       "      <td>4</td>\n",
       "      <td>AB de Villiers</td>\n",
       "      <td>M Chinnaswamy Stadium</td>\n",
       "      <td>AK Chaudhary</td>\n",
       "      <td>HDPK Dharmasena</td>\n",
       "      <td>NaN</td>\n",
       "    </tr>\n",
       "    <tr>\n",
       "      <th>633</th>\n",
       "      <td>634</td>\n",
       "      <td>2016</td>\n",
       "      <td>Delhi</td>\n",
       "      <td>5/25/2016</td>\n",
       "      <td>SRH</td>\n",
       "      <td>KKR</td>\n",
       "      <td>KKR</td>\n",
       "      <td>field</td>\n",
       "      <td>normal</td>\n",
       "      <td>0</td>\n",
       "      <td>SRH</td>\n",
       "      <td>22</td>\n",
       "      <td>0</td>\n",
       "      <td>MC Henriques</td>\n",
       "      <td>Feroz Shah Kotla</td>\n",
       "      <td>M Erasmus</td>\n",
       "      <td>C Shamshuddin</td>\n",
       "      <td>NaN</td>\n",
       "    </tr>\n",
       "    <tr>\n",
       "      <th>634</th>\n",
       "      <td>635</td>\n",
       "      <td>2016</td>\n",
       "      <td>Delhi</td>\n",
       "      <td>5/27/2016</td>\n",
       "      <td>GJ</td>\n",
       "      <td>SRH</td>\n",
       "      <td>SRH</td>\n",
       "      <td>field</td>\n",
       "      <td>normal</td>\n",
       "      <td>0</td>\n",
       "      <td>SRH</td>\n",
       "      <td>0</td>\n",
       "      <td>4</td>\n",
       "      <td>DA Warner</td>\n",
       "      <td>Feroz Shah Kotla</td>\n",
       "      <td>M Erasmus</td>\n",
       "      <td>CK Nandan</td>\n",
       "      <td>NaN</td>\n",
       "    </tr>\n",
       "    <tr>\n",
       "      <th>635</th>\n",
       "      <td>636</td>\n",
       "      <td>2016</td>\n",
       "      <td>Bangalore</td>\n",
       "      <td>5/29/2016</td>\n",
       "      <td>SRH</td>\n",
       "      <td>RCB</td>\n",
       "      <td>SRH</td>\n",
       "      <td>bat</td>\n",
       "      <td>normal</td>\n",
       "      <td>0</td>\n",
       "      <td>SRH</td>\n",
       "      <td>8</td>\n",
       "      <td>0</td>\n",
       "      <td>BCJ Cutting</td>\n",
       "      <td>M Chinnaswamy Stadium</td>\n",
       "      <td>HDPK Dharmasena</td>\n",
       "      <td>BNJ Oxenford</td>\n",
       "      <td>NaN</td>\n",
       "    </tr>\n",
       "  </tbody>\n",
       "</table>\n",
       "<p>636 rows × 18 columns</p>\n",
       "</div>"
      ],
      "text/plain": [
       "      id  season       city       date team1 team2 toss_winner toss_decision  \\\n",
       "0      1    2017  Hyderabad   4/5/2017   SRH   RCB         RCB         field   \n",
       "1      2    2017       Pune   4/6/2017    MI   RPS         RPS         field   \n",
       "2      3    2017     Rajkot   4/7/2017    GJ   KKR         KKR         field   \n",
       "3      4    2017     Indore   4/8/2017   RPS  KXIP        KXIP         field   \n",
       "4      5    2017  Bangalore   4/8/2017   RCB    DD         RCB           bat   \n",
       "..   ...     ...        ...        ...   ...   ...         ...           ...   \n",
       "631  632    2016     Raipur  5/22/2016    DD   RCB         RCB         field   \n",
       "632  633    2016  Bangalore  5/24/2016    GJ   RCB         RCB         field   \n",
       "633  634    2016      Delhi  5/25/2016   SRH   KKR         KKR         field   \n",
       "634  635    2016      Delhi  5/27/2016    GJ   SRH         SRH         field   \n",
       "635  636    2016  Bangalore  5/29/2016   SRH   RCB         SRH           bat   \n",
       "\n",
       "     result  dl_applied winner  win_by_runs  win_by_wickets player_of_match  \\\n",
       "0    normal           0    SRH           35               0    Yuvraj Singh   \n",
       "1    normal           0    RPS            0               7       SPD Smith   \n",
       "2    normal           0    KKR            0              10         CA Lynn   \n",
       "3    normal           0   KXIP            0               6      GJ Maxwell   \n",
       "4    normal           0    RCB           15               0       KM Jadhav   \n",
       "..      ...         ...    ...          ...             ...             ...   \n",
       "631  normal           0    RCB            0               6         V Kohli   \n",
       "632  normal           0    RCB            0               4  AB de Villiers   \n",
       "633  normal           0    SRH           22               0    MC Henriques   \n",
       "634  normal           0    SRH            0               4       DA Warner   \n",
       "635  normal           0    SRH            8               0     BCJ Cutting   \n",
       "\n",
       "                                                venue          umpire1  \\\n",
       "0           Rajiv Gandhi International Stadium, Uppal      AY Dandekar   \n",
       "1             Maharashtra Cricket Association Stadium   A Nand Kishore   \n",
       "2              Saurashtra Cricket Association Stadium      Nitin Menon   \n",
       "3                              Holkar Cricket Stadium     AK Chaudhary   \n",
       "4                               M Chinnaswamy Stadium              NaN   \n",
       "..                                                ...              ...   \n",
       "631  Shaheed Veer Narayan Singh International Stadium   A Nand Kishore   \n",
       "632                             M Chinnaswamy Stadium     AK Chaudhary   \n",
       "633                                  Feroz Shah Kotla        M Erasmus   \n",
       "634                                  Feroz Shah Kotla        M Erasmus   \n",
       "635                             M Chinnaswamy Stadium  HDPK Dharmasena   \n",
       "\n",
       "             umpire2  umpire3  \n",
       "0           NJ Llong      NaN  \n",
       "1             S Ravi      NaN  \n",
       "2          CK Nandan      NaN  \n",
       "3      C Shamshuddin      NaN  \n",
       "4                NaN      NaN  \n",
       "..               ...      ...  \n",
       "631     BNJ Oxenford      NaN  \n",
       "632  HDPK Dharmasena      NaN  \n",
       "633    C Shamshuddin      NaN  \n",
       "634        CK Nandan      NaN  \n",
       "635     BNJ Oxenford      NaN  \n",
       "\n",
       "[636 rows x 18 columns]"
      ]
     },
     "execution_count": 8,
     "metadata": {},
     "output_type": "execute_result"
    }
   ],
   "source": [
    "match_data[\"winner\"]=match_data[\"winner\"].map(teamsss)\n",
    "match_data[\"team1\"]=match_data[\"team1\"].map(teamsss)\n",
    "match_data[\"team2\"]=match_data[\"team2\"].map(teamsss)\n",
    "match_data[\"toss_winner\"]=match_data[\"toss_winner\"].map(teamsss)\n",
    "match_data"
   ]
  },
  {
   "cell_type": "markdown",
   "id": "430c2e43",
   "metadata": {},
   "source": [
    "### TOTAL MATCHES PLAYED"
   ]
  },
  {
   "cell_type": "code",
   "execution_count": 9,
   "id": "86d296dd",
   "metadata": {},
   "outputs": [
    {
     "name": "stdout",
     "output_type": "stream",
     "text": [
      "There are 636 matches played\n"
     ]
    }
   ],
   "source": [
    "print(f\"There are {match_data.shape[0]} matches played\")\n"
   ]
  },
  {
   "cell_type": "markdown",
   "id": "96ff3e0c",
   "metadata": {},
   "source": [
    "### TOTAL VENUES"
   ]
  },
  {
   "cell_type": "code",
   "execution_count": 10,
   "id": "3b5ff659",
   "metadata": {},
   "outputs": [
    {
     "name": "stdout",
     "output_type": "stream",
     "text": [
      "There are total 35 venues\n"
     ]
    }
   ],
   "source": [
    "ven=match_data[\"venue\"].nunique()\n",
    "print(f\"There are total {ven} venues\")"
   ]
  },
  {
   "cell_type": "code",
   "execution_count": 11,
   "id": "8fa4d0f9",
   "metadata": {},
   "outputs": [
    {
     "name": "stdout",
     "output_type": "stream",
     "text": [
      "There are 13 teams\n"
     ]
    }
   ],
   "source": [
    "Tteams=match_data[\"team1\"].nunique()\n",
    "print(f\"There are {Tteams} teams\")"
   ]
  },
  {
   "cell_type": "markdown",
   "id": "7ffa5ced",
   "metadata": {},
   "source": [
    "### MOST MAN OF THE MATCH"
   ]
  },
  {
   "cell_type": "markdown",
   "id": "a54e2fab",
   "metadata": {},
   "source": []
  },
  {
   "cell_type": "code",
   "execution_count": 12,
   "id": "8b78be1c",
   "metadata": {},
   "outputs": [
    {
     "data": {
      "text/plain": [
       "CH Gayle          18\n",
       "YK Pathan         16\n",
       "DA Warner         15\n",
       "AB de Villiers    15\n",
       "RG Sharma         14\n",
       "                  ..\n",
       "AD Mathews         1\n",
       "LR Shukla          1\n",
       "R Bhatia           1\n",
       "A Singh            1\n",
       "BCJ Cutting        1\n",
       "Name: player_of_match, Length: 201, dtype: int64"
      ]
     },
     "execution_count": 12,
     "metadata": {},
     "output_type": "execute_result"
    }
   ],
   "source": [
    "match_data[\"player_of_match\"].value_counts()"
   ]
  },
  {
   "cell_type": "markdown",
   "id": "8022859c",
   "metadata": {},
   "source": [
    "### MOST WIN BY RUNS"
   ]
  },
  {
   "cell_type": "code",
   "execution_count": 13,
   "id": "18d6b727",
   "metadata": {},
   "outputs": [
    {
     "data": {
      "text/html": [
       "<div>\n",
       "<style scoped>\n",
       "    .dataframe tbody tr th:only-of-type {\n",
       "        vertical-align: middle;\n",
       "    }\n",
       "\n",
       "    .dataframe tbody tr th {\n",
       "        vertical-align: top;\n",
       "    }\n",
       "\n",
       "    .dataframe thead th {\n",
       "        text-align: right;\n",
       "    }\n",
       "</style>\n",
       "<table border=\"1\" class=\"dataframe\">\n",
       "  <thead>\n",
       "    <tr style=\"text-align: right;\">\n",
       "      <th></th>\n",
       "      <th>id</th>\n",
       "      <th>season</th>\n",
       "      <th>city</th>\n",
       "      <th>date</th>\n",
       "      <th>team1</th>\n",
       "      <th>team2</th>\n",
       "      <th>toss_winner</th>\n",
       "      <th>toss_decision</th>\n",
       "      <th>result</th>\n",
       "      <th>dl_applied</th>\n",
       "      <th>winner</th>\n",
       "      <th>win_by_runs</th>\n",
       "      <th>win_by_wickets</th>\n",
       "      <th>player_of_match</th>\n",
       "      <th>venue</th>\n",
       "      <th>umpire1</th>\n",
       "      <th>umpire2</th>\n",
       "      <th>umpire3</th>\n",
       "    </tr>\n",
       "  </thead>\n",
       "  <tbody>\n",
       "    <tr>\n",
       "      <th>43</th>\n",
       "      <td>44</td>\n",
       "      <td>2017</td>\n",
       "      <td>Delhi</td>\n",
       "      <td>5/6/2017</td>\n",
       "      <td>MI</td>\n",
       "      <td>DD</td>\n",
       "      <td>DD</td>\n",
       "      <td>field</td>\n",
       "      <td>normal</td>\n",
       "      <td>0</td>\n",
       "      <td>MI</td>\n",
       "      <td>146</td>\n",
       "      <td>0</td>\n",
       "      <td>LMP Simmons</td>\n",
       "      <td>Feroz Shah Kotla</td>\n",
       "      <td>Nitin Menon</td>\n",
       "      <td>CK Nandan</td>\n",
       "      <td>NaN</td>\n",
       "    </tr>\n",
       "  </tbody>\n",
       "</table>\n",
       "</div>"
      ],
      "text/plain": [
       "    id  season   city      date team1 team2 toss_winner toss_decision  result  \\\n",
       "43  44    2017  Delhi  5/6/2017    MI    DD          DD         field  normal   \n",
       "\n",
       "    dl_applied winner  win_by_runs  win_by_wickets player_of_match  \\\n",
       "43           0     MI          146               0     LMP Simmons   \n",
       "\n",
       "               venue      umpire1    umpire2  umpire3  \n",
       "43  Feroz Shah Kotla  Nitin Menon  CK Nandan      NaN  "
      ]
     },
     "execution_count": 13,
     "metadata": {},
     "output_type": "execute_result"
    }
   ],
   "source": [
    "filter=match_data[\"win_by_runs\"].max()\n",
    "match_data[match_data[\"win_by_runs\"]==filter]"
   ]
  },
  {
   "cell_type": "markdown",
   "id": "b4f83f11",
   "metadata": {},
   "source": [
    "# HIGHEST WIN BY WICKET"
   ]
  },
  {
   "cell_type": "code",
   "execution_count": 14,
   "id": "0daacddb",
   "metadata": {},
   "outputs": [
    {
     "data": {
      "text/html": [
       "<div>\n",
       "<style scoped>\n",
       "    .dataframe tbody tr th:only-of-type {\n",
       "        vertical-align: middle;\n",
       "    }\n",
       "\n",
       "    .dataframe tbody tr th {\n",
       "        vertical-align: top;\n",
       "    }\n",
       "\n",
       "    .dataframe thead th {\n",
       "        text-align: right;\n",
       "    }\n",
       "</style>\n",
       "<table border=\"1\" class=\"dataframe\">\n",
       "  <thead>\n",
       "    <tr style=\"text-align: right;\">\n",
       "      <th></th>\n",
       "      <th>id</th>\n",
       "      <th>season</th>\n",
       "      <th>city</th>\n",
       "      <th>date</th>\n",
       "      <th>team1</th>\n",
       "      <th>team2</th>\n",
       "      <th>toss_winner</th>\n",
       "      <th>toss_decision</th>\n",
       "      <th>result</th>\n",
       "      <th>dl_applied</th>\n",
       "      <th>winner</th>\n",
       "      <th>win_by_runs</th>\n",
       "      <th>win_by_wickets</th>\n",
       "      <th>player_of_match</th>\n",
       "      <th>venue</th>\n",
       "      <th>umpire1</th>\n",
       "      <th>umpire2</th>\n",
       "      <th>umpire3</th>\n",
       "    </tr>\n",
       "  </thead>\n",
       "  <tbody>\n",
       "    <tr>\n",
       "      <th>2</th>\n",
       "      <td>3</td>\n",
       "      <td>2017</td>\n",
       "      <td>Rajkot</td>\n",
       "      <td>4/7/2017</td>\n",
       "      <td>GJ</td>\n",
       "      <td>KKR</td>\n",
       "      <td>KKR</td>\n",
       "      <td>field</td>\n",
       "      <td>normal</td>\n",
       "      <td>0</td>\n",
       "      <td>KKR</td>\n",
       "      <td>0</td>\n",
       "      <td>10</td>\n",
       "      <td>CA Lynn</td>\n",
       "      <td>Saurashtra Cricket Association Stadium</td>\n",
       "      <td>Nitin Menon</td>\n",
       "      <td>CK Nandan</td>\n",
       "      <td>NaN</td>\n",
       "    </tr>\n",
       "    <tr>\n",
       "      <th>34</th>\n",
       "      <td>35</td>\n",
       "      <td>2017</td>\n",
       "      <td>Chandigarh</td>\n",
       "      <td>4/30/2017</td>\n",
       "      <td>DD</td>\n",
       "      <td>KXIP</td>\n",
       "      <td>KXIP</td>\n",
       "      <td>field</td>\n",
       "      <td>normal</td>\n",
       "      <td>0</td>\n",
       "      <td>KXIP</td>\n",
       "      <td>0</td>\n",
       "      <td>10</td>\n",
       "      <td>Sandeep Sharma</td>\n",
       "      <td>Punjab Cricket Association IS Bindra Stadium, ...</td>\n",
       "      <td>YC Barde</td>\n",
       "      <td>CK Nandan</td>\n",
       "      <td>NaN</td>\n",
       "    </tr>\n",
       "    <tr>\n",
       "      <th>71</th>\n",
       "      <td>72</td>\n",
       "      <td>2008</td>\n",
       "      <td>Mumbai</td>\n",
       "      <td>4/27/2008</td>\n",
       "      <td>MI</td>\n",
       "      <td>DC</td>\n",
       "      <td>DC</td>\n",
       "      <td>field</td>\n",
       "      <td>normal</td>\n",
       "      <td>0</td>\n",
       "      <td>DC</td>\n",
       "      <td>0</td>\n",
       "      <td>10</td>\n",
       "      <td>AC Gilchrist</td>\n",
       "      <td>Dr DY Patil Sports Academy</td>\n",
       "      <td>Asad Rauf</td>\n",
       "      <td>SL Shastri</td>\n",
       "      <td>NaN</td>\n",
       "    </tr>\n",
       "    <tr>\n",
       "      <th>119</th>\n",
       "      <td>120</td>\n",
       "      <td>2009</td>\n",
       "      <td>Cape Town</td>\n",
       "      <td>4/19/2009</td>\n",
       "      <td>KXIP</td>\n",
       "      <td>DD</td>\n",
       "      <td>DD</td>\n",
       "      <td>field</td>\n",
       "      <td>normal</td>\n",
       "      <td>1</td>\n",
       "      <td>DD</td>\n",
       "      <td>0</td>\n",
       "      <td>10</td>\n",
       "      <td>DL Vettori</td>\n",
       "      <td>Newlands</td>\n",
       "      <td>MR Benson</td>\n",
       "      <td>SD Ranade</td>\n",
       "      <td>NaN</td>\n",
       "    </tr>\n",
       "    <tr>\n",
       "      <th>183</th>\n",
       "      <td>184</td>\n",
       "      <td>2010</td>\n",
       "      <td>Bangalore</td>\n",
       "      <td>3/18/2010</td>\n",
       "      <td>RR</td>\n",
       "      <td>RCB</td>\n",
       "      <td>RCB</td>\n",
       "      <td>field</td>\n",
       "      <td>normal</td>\n",
       "      <td>0</td>\n",
       "      <td>RCB</td>\n",
       "      <td>0</td>\n",
       "      <td>10</td>\n",
       "      <td>JH Kallis</td>\n",
       "      <td>M Chinnaswamy Stadium</td>\n",
       "      <td>K Hariharan</td>\n",
       "      <td>DJ Harper</td>\n",
       "      <td>NaN</td>\n",
       "    </tr>\n",
       "    <tr>\n",
       "      <th>298</th>\n",
       "      <td>299</td>\n",
       "      <td>2011</td>\n",
       "      <td>Mumbai</td>\n",
       "      <td>5/20/2011</td>\n",
       "      <td>MI</td>\n",
       "      <td>RR</td>\n",
       "      <td>MI</td>\n",
       "      <td>bat</td>\n",
       "      <td>normal</td>\n",
       "      <td>0</td>\n",
       "      <td>RR</td>\n",
       "      <td>0</td>\n",
       "      <td>10</td>\n",
       "      <td>SR Watson</td>\n",
       "      <td>Wankhede Stadium</td>\n",
       "      <td>RE Koertzen</td>\n",
       "      <td>PR Reiffel</td>\n",
       "      <td>NaN</td>\n",
       "    </tr>\n",
       "    <tr>\n",
       "      <th>376</th>\n",
       "      <td>377</td>\n",
       "      <td>2012</td>\n",
       "      <td>Jaipur</td>\n",
       "      <td>5/20/2012</td>\n",
       "      <td>RR</td>\n",
       "      <td>MI</td>\n",
       "      <td>RR</td>\n",
       "      <td>bat</td>\n",
       "      <td>normal</td>\n",
       "      <td>0</td>\n",
       "      <td>MI</td>\n",
       "      <td>0</td>\n",
       "      <td>10</td>\n",
       "      <td>DR Smith</td>\n",
       "      <td>Sawai Mansingh Stadium</td>\n",
       "      <td>HDPK Dharmasena</td>\n",
       "      <td>C Shamshuddin</td>\n",
       "      <td>NaN</td>\n",
       "    </tr>\n",
       "    <tr>\n",
       "      <th>390</th>\n",
       "      <td>391</td>\n",
       "      <td>2013</td>\n",
       "      <td>Chandigarh</td>\n",
       "      <td>4/10/2013</td>\n",
       "      <td>KXIP</td>\n",
       "      <td>CSK</td>\n",
       "      <td>CSK</td>\n",
       "      <td>field</td>\n",
       "      <td>normal</td>\n",
       "      <td>0</td>\n",
       "      <td>CSK</td>\n",
       "      <td>0</td>\n",
       "      <td>10</td>\n",
       "      <td>MEK Hussey</td>\n",
       "      <td>Punjab Cricket Association Stadium, Mohali</td>\n",
       "      <td>Aleem Dar</td>\n",
       "      <td>C Shamshuddin</td>\n",
       "      <td>NaN</td>\n",
       "    </tr>\n",
       "    <tr>\n",
       "      <th>542</th>\n",
       "      <td>543</td>\n",
       "      <td>2015</td>\n",
       "      <td>Delhi</td>\n",
       "      <td>4/26/2015</td>\n",
       "      <td>DD</td>\n",
       "      <td>RCB</td>\n",
       "      <td>RCB</td>\n",
       "      <td>field</td>\n",
       "      <td>normal</td>\n",
       "      <td>0</td>\n",
       "      <td>RCB</td>\n",
       "      <td>0</td>\n",
       "      <td>10</td>\n",
       "      <td>VR Aaron</td>\n",
       "      <td>Feroz Shah Kotla</td>\n",
       "      <td>M Erasmus</td>\n",
       "      <td>S Ravi</td>\n",
       "      <td>NaN</td>\n",
       "    </tr>\n",
       "    <tr>\n",
       "      <th>590</th>\n",
       "      <td>591</td>\n",
       "      <td>2016</td>\n",
       "      <td>Rajkot</td>\n",
       "      <td>4/21/2016</td>\n",
       "      <td>GJ</td>\n",
       "      <td>SRH</td>\n",
       "      <td>SRH</td>\n",
       "      <td>field</td>\n",
       "      <td>normal</td>\n",
       "      <td>0</td>\n",
       "      <td>SRH</td>\n",
       "      <td>0</td>\n",
       "      <td>10</td>\n",
       "      <td>B Kumar</td>\n",
       "      <td>Saurashtra Cricket Association Stadium</td>\n",
       "      <td>K Bharatan</td>\n",
       "      <td>HDPK Dharmasena</td>\n",
       "      <td>NaN</td>\n",
       "    </tr>\n",
       "  </tbody>\n",
       "</table>\n",
       "</div>"
      ],
      "text/plain": [
       "      id  season        city       date team1 team2 toss_winner toss_decision  \\\n",
       "2      3    2017      Rajkot   4/7/2017    GJ   KKR         KKR         field   \n",
       "34    35    2017  Chandigarh  4/30/2017    DD  KXIP        KXIP         field   \n",
       "71    72    2008      Mumbai  4/27/2008    MI    DC          DC         field   \n",
       "119  120    2009   Cape Town  4/19/2009  KXIP    DD          DD         field   \n",
       "183  184    2010   Bangalore  3/18/2010    RR   RCB         RCB         field   \n",
       "298  299    2011      Mumbai  5/20/2011    MI    RR          MI           bat   \n",
       "376  377    2012      Jaipur  5/20/2012    RR    MI          RR           bat   \n",
       "390  391    2013  Chandigarh  4/10/2013  KXIP   CSK         CSK         field   \n",
       "542  543    2015       Delhi  4/26/2015    DD   RCB         RCB         field   \n",
       "590  591    2016      Rajkot  4/21/2016    GJ   SRH         SRH         field   \n",
       "\n",
       "     result  dl_applied winner  win_by_runs  win_by_wickets player_of_match  \\\n",
       "2    normal           0    KKR            0              10         CA Lynn   \n",
       "34   normal           0   KXIP            0              10  Sandeep Sharma   \n",
       "71   normal           0     DC            0              10    AC Gilchrist   \n",
       "119  normal           1     DD            0              10      DL Vettori   \n",
       "183  normal           0    RCB            0              10       JH Kallis   \n",
       "298  normal           0     RR            0              10       SR Watson   \n",
       "376  normal           0     MI            0              10        DR Smith   \n",
       "390  normal           0    CSK            0              10      MEK Hussey   \n",
       "542  normal           0    RCB            0              10        VR Aaron   \n",
       "590  normal           0    SRH            0              10         B Kumar   \n",
       "\n",
       "                                                 venue          umpire1  \\\n",
       "2               Saurashtra Cricket Association Stadium      Nitin Menon   \n",
       "34   Punjab Cricket Association IS Bindra Stadium, ...         YC Barde   \n",
       "71                          Dr DY Patil Sports Academy        Asad Rauf   \n",
       "119                                           Newlands        MR Benson   \n",
       "183                              M Chinnaswamy Stadium      K Hariharan   \n",
       "298                                   Wankhede Stadium      RE Koertzen   \n",
       "376                             Sawai Mansingh Stadium  HDPK Dharmasena   \n",
       "390         Punjab Cricket Association Stadium, Mohali        Aleem Dar   \n",
       "542                                   Feroz Shah Kotla        M Erasmus   \n",
       "590             Saurashtra Cricket Association Stadium       K Bharatan   \n",
       "\n",
       "             umpire2  umpire3  \n",
       "2          CK Nandan      NaN  \n",
       "34         CK Nandan      NaN  \n",
       "71        SL Shastri      NaN  \n",
       "119        SD Ranade      NaN  \n",
       "183        DJ Harper      NaN  \n",
       "298       PR Reiffel      NaN  \n",
       "376    C Shamshuddin      NaN  \n",
       "390    C Shamshuddin      NaN  \n",
       "542           S Ravi      NaN  \n",
       "590  HDPK Dharmasena      NaN  "
      ]
     },
     "execution_count": 14,
     "metadata": {},
     "output_type": "execute_result"
    }
   ],
   "source": [
    "filter=match_data[\"win_by_wickets\"].max()\n",
    "match_data[match_data[\"win_by_wickets\"]==filter]"
   ]
  },
  {
   "cell_type": "markdown",
   "id": "9644f99e",
   "metadata": {},
   "source": [
    "### TOSS DECISIONS ACROSS SEASIONS"
   ]
  },
  {
   "cell_type": "code",
   "execution_count": 24,
   "id": "f28fa223",
   "metadata": {},
   "outputs": [
    {
     "data": {
      "application/vnd.plotly.v1+json": {
       "config": {
        "plotlyServerURL": "https://plot.ly"
       },
       "data": [
        {
         "alignmentgroup": "True",
         "hovertemplate": "season=%{x}<br>toss_decision=%{y}<extra></extra>",
         "legendgroup": "",
         "marker": {
          "color": "#636efa"
         },
         "name": "",
         "offsetgroup": "",
         "orientation": "h",
         "showlegend": false,
         "textposition": "auto",
         "type": "bar",
         "x": [
          2017,
          2017,
          2017,
          2017,
          2017,
          2017,
          2017,
          2017,
          2017,
          2017,
          2017,
          2017,
          2017,
          2017,
          2017,
          2017,
          2017,
          2017,
          2017,
          2017,
          2017,
          2017,
          2017,
          2017,
          2017,
          2017,
          2017,
          2017,
          2017,
          2017,
          2017,
          2017,
          2017,
          2017,
          2017,
          2017,
          2017,
          2017,
          2017,
          2017,
          2017,
          2017,
          2017,
          2017,
          2017,
          2017,
          2017,
          2017,
          2017,
          2017,
          2017,
          2017,
          2017,
          2017,
          2017,
          2017,
          2017,
          2017,
          2017
         ],
         "xaxis": "x",
         "y": [
          "field",
          "field",
          "field",
          "field",
          "bat",
          "field",
          "field",
          "bat",
          "field",
          "field",
          "field",
          "field",
          "field",
          "field",
          "bat",
          "field",
          "field",
          "bat",
          "field",
          "field",
          "bat",
          "field",
          "field",
          "field",
          "field",
          "field",
          "field",
          "field",
          "field",
          "field",
          "field",
          "field",
          "field",
          "bat",
          "field",
          "field",
          "bat",
          "field",
          "field",
          "field",
          "field",
          "field",
          "field",
          "field",
          "field",
          "field",
          "bat",
          "field",
          "field",
          "field",
          "bat",
          "field",
          "field",
          "field",
          "bat",
          "field",
          "field",
          "field",
          "bat"
         ],
         "yaxis": "y"
        }
       ],
       "frames": [
        {
         "data": [
          {
           "alignmentgroup": "True",
           "hovertemplate": "season=%{x}<br>toss_decision=%{y}<extra></extra>",
           "legendgroup": "",
           "marker": {
            "color": "#636efa"
           },
           "name": "",
           "offsetgroup": "",
           "orientation": "h",
           "showlegend": false,
           "textposition": "auto",
           "type": "bar",
           "x": [
            2017,
            2017,
            2017,
            2017,
            2017,
            2017,
            2017,
            2017,
            2017,
            2017,
            2017,
            2017,
            2017,
            2017,
            2017,
            2017,
            2017,
            2017,
            2017,
            2017,
            2017,
            2017,
            2017,
            2017,
            2017,
            2017,
            2017,
            2017,
            2017,
            2017,
            2017,
            2017,
            2017,
            2017,
            2017,
            2017,
            2017,
            2017,
            2017,
            2017,
            2017,
            2017,
            2017,
            2017,
            2017,
            2017,
            2017,
            2017,
            2017,
            2017,
            2017,
            2017,
            2017,
            2017,
            2017,
            2017,
            2017,
            2017,
            2017
           ],
           "xaxis": "x",
           "y": [
            "field",
            "field",
            "field",
            "field",
            "bat",
            "field",
            "field",
            "bat",
            "field",
            "field",
            "field",
            "field",
            "field",
            "field",
            "bat",
            "field",
            "field",
            "bat",
            "field",
            "field",
            "bat",
            "field",
            "field",
            "field",
            "field",
            "field",
            "field",
            "field",
            "field",
            "field",
            "field",
            "field",
            "field",
            "bat",
            "field",
            "field",
            "bat",
            "field",
            "field",
            "field",
            "field",
            "field",
            "field",
            "field",
            "field",
            "field",
            "bat",
            "field",
            "field",
            "field",
            "bat",
            "field",
            "field",
            "field",
            "bat",
            "field",
            "field",
            "field",
            "bat"
           ],
           "yaxis": "y"
          }
         ],
         "name": "2017"
        },
        {
         "data": [
          {
           "alignmentgroup": "True",
           "hovertemplate": "season=%{x}<br>toss_decision=%{y}<extra></extra>",
           "legendgroup": "",
           "marker": {
            "color": "#636efa"
           },
           "name": "",
           "offsetgroup": "",
           "orientation": "h",
           "showlegend": false,
           "textposition": "auto",
           "type": "bar",
           "x": [
            2008,
            2008,
            2008,
            2008,
            2008,
            2008,
            2008,
            2008,
            2008,
            2008,
            2008,
            2008,
            2008,
            2008,
            2008,
            2008,
            2008,
            2008,
            2008,
            2008,
            2008,
            2008,
            2008,
            2008,
            2008,
            2008,
            2008,
            2008,
            2008,
            2008,
            2008,
            2008,
            2008,
            2008,
            2008,
            2008,
            2008,
            2008,
            2008,
            2008,
            2008,
            2008,
            2008,
            2008,
            2008,
            2008,
            2008,
            2008,
            2008,
            2008,
            2008,
            2008,
            2008,
            2008,
            2008,
            2008,
            2008,
            2008
           ],
           "xaxis": "x",
           "y": [
            "field",
            "bat",
            "bat",
            "bat",
            "bat",
            "bat",
            "bat",
            "field",
            "field",
            "field",
            "field",
            "bat",
            "field",
            "bat",
            "bat",
            "bat",
            "field",
            "field",
            "bat",
            "bat",
            "bat",
            "bat",
            "field",
            "bat",
            "field",
            "field",
            "field",
            "field",
            "bat",
            "field",
            "field",
            "field",
            "bat",
            "field",
            "bat",
            "bat",
            "field",
            "field",
            "field",
            "field",
            "bat",
            "field",
            "field",
            "bat",
            "field",
            "field",
            "field",
            "bat",
            "field",
            "field",
            "bat",
            "field",
            "bat",
            "field",
            "bat",
            "field",
            "bat",
            "field"
           ],
           "yaxis": "y"
          }
         ],
         "name": "2008"
        },
        {
         "data": [
          {
           "alignmentgroup": "True",
           "hovertemplate": "season=%{x}<br>toss_decision=%{y}<extra></extra>",
           "legendgroup": "",
           "marker": {
            "color": "#636efa"
           },
           "name": "",
           "offsetgroup": "",
           "orientation": "h",
           "showlegend": false,
           "textposition": "auto",
           "type": "bar",
           "x": [
            2009,
            2009,
            2009,
            2009,
            2009,
            2009,
            2009,
            2009,
            2009,
            2009,
            2009,
            2009,
            2009,
            2009,
            2009,
            2009,
            2009,
            2009,
            2009,
            2009,
            2009,
            2009,
            2009,
            2009,
            2009,
            2009,
            2009,
            2009,
            2009,
            2009,
            2009,
            2009,
            2009,
            2009,
            2009,
            2009,
            2009,
            2009,
            2009,
            2009,
            2009,
            2009,
            2009,
            2009,
            2009,
            2009,
            2009,
            2009,
            2009,
            2009,
            2009,
            2009,
            2009,
            2009,
            2009,
            2009,
            2009
           ],
           "xaxis": "x",
           "y": [
            "field",
            "bat",
            "field",
            "bat",
            "bat",
            "field",
            "bat",
            "bat",
            "field",
            "bat",
            "bat",
            "bat",
            "bat",
            "field",
            "bat",
            "bat",
            "bat",
            "bat",
            "field",
            "field",
            "bat",
            "bat",
            "bat",
            "field",
            "bat",
            "bat",
            "bat",
            "field",
            "bat",
            "bat",
            "field",
            "bat",
            "bat",
            "field",
            "bat",
            "bat",
            "field",
            "bat",
            "field",
            "bat",
            "field",
            "bat",
            "bat",
            "field",
            "bat",
            "field",
            "field",
            "bat",
            "bat",
            "bat",
            "field",
            "bat",
            "field",
            "bat",
            "field",
            "field",
            "field"
           ],
           "yaxis": "y"
          }
         ],
         "name": "2009"
        },
        {
         "data": [
          {
           "alignmentgroup": "True",
           "hovertemplate": "season=%{x}<br>toss_decision=%{y}<extra></extra>",
           "legendgroup": "",
           "marker": {
            "color": "#636efa"
           },
           "name": "",
           "offsetgroup": "",
           "orientation": "h",
           "showlegend": false,
           "textposition": "auto",
           "type": "bar",
           "x": [
            2010,
            2010,
            2010,
            2010,
            2010,
            2010,
            2010,
            2010,
            2010,
            2010,
            2010,
            2010,
            2010,
            2010,
            2010,
            2010,
            2010,
            2010,
            2010,
            2010,
            2010,
            2010,
            2010,
            2010,
            2010,
            2010,
            2010,
            2010,
            2010,
            2010,
            2010,
            2010,
            2010,
            2010,
            2010,
            2010,
            2010,
            2010,
            2010,
            2010,
            2010,
            2010,
            2010,
            2010,
            2010,
            2010,
            2010,
            2010,
            2010,
            2010,
            2010,
            2010,
            2010,
            2010,
            2010,
            2010,
            2010,
            2010,
            2010,
            2010
           ],
           "xaxis": "x",
           "y": [
            "field",
            "bat",
            "field",
            "field",
            "bat",
            "field",
            "bat",
            "bat",
            "field",
            "field",
            "bat",
            "field",
            "bat",
            "bat",
            "bat",
            "field",
            "bat",
            "field",
            "field",
            "field",
            "bat",
            "bat",
            "field",
            "bat",
            "field",
            "bat",
            "field",
            "bat",
            "bat",
            "bat",
            "bat",
            "bat",
            "bat",
            "bat",
            "bat",
            "bat",
            "bat",
            "bat",
            "bat",
            "field",
            "bat",
            "bat",
            "field",
            "bat",
            "field",
            "field",
            "bat",
            "bat",
            "bat",
            "bat",
            "field",
            "field",
            "bat",
            "field",
            "bat",
            "bat",
            "bat",
            "bat",
            "bat",
            "bat"
           ],
           "yaxis": "y"
          }
         ],
         "name": "2010"
        },
        {
         "data": [
          {
           "alignmentgroup": "True",
           "hovertemplate": "season=%{x}<br>toss_decision=%{y}<extra></extra>",
           "legendgroup": "",
           "marker": {
            "color": "#636efa"
           },
           "name": "",
           "offsetgroup": "",
           "orientation": "h",
           "showlegend": false,
           "textposition": "auto",
           "type": "bar",
           "x": [
            2011,
            2011,
            2011,
            2011,
            2011,
            2011,
            2011,
            2011,
            2011,
            2011,
            2011,
            2011,
            2011,
            2011,
            2011,
            2011,
            2011,
            2011,
            2011,
            2011,
            2011,
            2011,
            2011,
            2011,
            2011,
            2011,
            2011,
            2011,
            2011,
            2011,
            2011,
            2011,
            2011,
            2011,
            2011,
            2011,
            2011,
            2011,
            2011,
            2011,
            2011,
            2011,
            2011,
            2011,
            2011,
            2011,
            2011,
            2011,
            2011,
            2011,
            2011,
            2011,
            2011,
            2011,
            2011,
            2011,
            2011,
            2011,
            2011,
            2011,
            2011,
            2011,
            2011,
            2011,
            2011,
            2011,
            2011,
            2011,
            2011,
            2011,
            2011,
            2011,
            2011
           ],
           "xaxis": "x",
           "y": [
            "bat",
            "field",
            "bat",
            "bat",
            "bat",
            "bat",
            "bat",
            "field",
            "field",
            "bat",
            "field",
            "field",
            "field",
            "bat",
            "field",
            "field",
            "field",
            "field",
            "bat",
            "bat",
            "field",
            "field",
            "field",
            "field",
            "field",
            "field",
            "field",
            "field",
            "field",
            "bat",
            "field",
            "field",
            "field",
            "field",
            "bat",
            "field",
            "field",
            "bat",
            "field",
            "field",
            "field",
            "bat",
            "field",
            "field",
            "field",
            "field",
            "bat",
            "field",
            "bat",
            "bat",
            "field",
            "bat",
            "field",
            "field",
            "bat",
            "field",
            "field",
            "bat",
            "field",
            "field",
            "field",
            "bat",
            "bat",
            "field",
            "bat",
            "field",
            "bat",
            "field",
            "field",
            "field",
            "field",
            "field",
            "bat"
           ],
           "yaxis": "y"
          }
         ],
         "name": "2011"
        },
        {
         "data": [
          {
           "alignmentgroup": "True",
           "hovertemplate": "season=%{x}<br>toss_decision=%{y}<extra></extra>",
           "legendgroup": "",
           "marker": {
            "color": "#636efa"
           },
           "name": "",
           "offsetgroup": "",
           "orientation": "h",
           "showlegend": false,
           "textposition": "auto",
           "type": "bar",
           "x": [
            2012,
            2012,
            2012,
            2012,
            2012,
            2012,
            2012,
            2012,
            2012,
            2012,
            2012,
            2012,
            2012,
            2012,
            2012,
            2012,
            2012,
            2012,
            2012,
            2012,
            2012,
            2012,
            2012,
            2012,
            2012,
            2012,
            2012,
            2012,
            2012,
            2012,
            2012,
            2012,
            2012,
            2012,
            2012,
            2012,
            2012,
            2012,
            2012,
            2012,
            2012,
            2012,
            2012,
            2012,
            2012,
            2012,
            2012,
            2012,
            2012,
            2012,
            2012,
            2012,
            2012,
            2012,
            2012,
            2012,
            2012,
            2012,
            2012,
            2012,
            2012,
            2012,
            2012,
            2012,
            2012,
            2012,
            2012,
            2012,
            2012,
            2012,
            2012,
            2012,
            2012,
            2012
           ],
           "xaxis": "x",
           "y": [
            "field",
            "field",
            "field",
            "field",
            "field",
            "field",
            "field",
            "bat",
            "bat",
            "field",
            "field",
            "field",
            "bat",
            "field",
            "bat",
            "bat",
            "bat",
            "field",
            "bat",
            "field",
            "bat",
            "bat",
            "bat",
            "bat",
            "field",
            "field",
            "bat",
            "field",
            "bat",
            "field",
            "field",
            "bat",
            "bat",
            "bat",
            "field",
            "bat",
            "bat",
            "bat",
            "field",
            "bat",
            "bat",
            "bat",
            "field",
            "bat",
            "bat",
            "bat",
            "bat",
            "field",
            "field",
            "bat",
            "bat",
            "field",
            "field",
            "field",
            "field",
            "bat",
            "field",
            "bat",
            "bat",
            "field",
            "field",
            "bat",
            "field",
            "field",
            "field",
            "bat",
            "field",
            "bat",
            "field",
            "bat",
            "bat",
            "field",
            "field",
            "bat"
           ],
           "yaxis": "y"
          }
         ],
         "name": "2012"
        },
        {
         "data": [
          {
           "alignmentgroup": "True",
           "hovertemplate": "season=%{x}<br>toss_decision=%{y}<extra></extra>",
           "legendgroup": "",
           "marker": {
            "color": "#636efa"
           },
           "name": "",
           "offsetgroup": "",
           "orientation": "h",
           "showlegend": false,
           "textposition": "auto",
           "type": "bar",
           "x": [
            2013,
            2013,
            2013,
            2013,
            2013,
            2013,
            2013,
            2013,
            2013,
            2013,
            2013,
            2013,
            2013,
            2013,
            2013,
            2013,
            2013,
            2013,
            2013,
            2013,
            2013,
            2013,
            2013,
            2013,
            2013,
            2013,
            2013,
            2013,
            2013,
            2013,
            2013,
            2013,
            2013,
            2013,
            2013,
            2013,
            2013,
            2013,
            2013,
            2013,
            2013,
            2013,
            2013,
            2013,
            2013,
            2013,
            2013,
            2013,
            2013,
            2013,
            2013,
            2013,
            2013,
            2013,
            2013,
            2013,
            2013,
            2013,
            2013,
            2013,
            2013,
            2013,
            2013,
            2013,
            2013,
            2013,
            2013,
            2013,
            2013,
            2013,
            2013,
            2013,
            2013,
            2013,
            2013,
            2013
           ],
           "xaxis": "x",
           "y": [
            "field",
            "field",
            "field",
            "bat",
            "bat",
            "bat",
            "bat",
            "field",
            "bat",
            "field",
            "field",
            "bat",
            "bat",
            "bat",
            "field",
            "bat",
            "field",
            "bat",
            "field",
            "field",
            "field",
            "bat",
            "bat",
            "bat",
            "bat",
            "field",
            "bat",
            "field",
            "bat",
            "field",
            "field",
            "bat",
            "bat",
            "bat",
            "bat",
            "bat",
            "field",
            "field",
            "field",
            "bat",
            "bat",
            "bat",
            "bat",
            "bat",
            "bat",
            "bat",
            "bat",
            "field",
            "bat",
            "bat",
            "bat",
            "bat",
            "bat",
            "field",
            "field",
            "bat",
            "field",
            "bat",
            "field",
            "field",
            "field",
            "field",
            "bat",
            "field",
            "bat",
            "field",
            "field",
            "bat",
            "field",
            "bat",
            "field",
            "bat",
            "bat",
            "bat",
            "bat",
            "bat"
           ],
           "yaxis": "y"
          }
         ],
         "name": "2013"
        },
        {
         "data": [
          {
           "alignmentgroup": "True",
           "hovertemplate": "season=%{x}<br>toss_decision=%{y}<extra></extra>",
           "legendgroup": "",
           "marker": {
            "color": "#636efa"
           },
           "name": "",
           "offsetgroup": "",
           "orientation": "h",
           "showlegend": false,
           "textposition": "auto",
           "type": "bar",
           "x": [
            2014,
            2014,
            2014,
            2014,
            2014,
            2014,
            2014,
            2014,
            2014,
            2014,
            2014,
            2014,
            2014,
            2014,
            2014,
            2014,
            2014,
            2014,
            2014,
            2014,
            2014,
            2014,
            2014,
            2014,
            2014,
            2014,
            2014,
            2014,
            2014,
            2014,
            2014,
            2014,
            2014,
            2014,
            2014,
            2014,
            2014,
            2014,
            2014,
            2014,
            2014,
            2014,
            2014,
            2014,
            2014,
            2014,
            2014,
            2014,
            2014,
            2014,
            2014,
            2014,
            2014,
            2014,
            2014,
            2014,
            2014,
            2014,
            2014,
            2014
           ],
           "xaxis": "x",
           "y": [
            "bat",
            "field",
            "bat",
            "field",
            "field",
            "bat",
            "field",
            "bat",
            "field",
            "field",
            "field",
            "bat",
            "bat",
            "field",
            "field",
            "bat",
            "bat",
            "field",
            "bat",
            "field",
            "bat",
            "bat",
            "field",
            "field",
            "field",
            "field",
            "field",
            "bat",
            "field",
            "field",
            "field",
            "field",
            "field",
            "field",
            "bat",
            "bat",
            "bat",
            "field",
            "field",
            "field",
            "field",
            "bat",
            "bat",
            "bat",
            "field",
            "bat",
            "field",
            "field",
            "field",
            "field",
            "field",
            "field",
            "field",
            "field",
            "field",
            "field",
            "field",
            "field",
            "field",
            "field"
           ],
           "yaxis": "y"
          }
         ],
         "name": "2014"
        },
        {
         "data": [
          {
           "alignmentgroup": "True",
           "hovertemplate": "season=%{x}<br>toss_decision=%{y}<extra></extra>",
           "legendgroup": "",
           "marker": {
            "color": "#636efa"
           },
           "name": "",
           "offsetgroup": "",
           "orientation": "h",
           "showlegend": false,
           "textposition": "auto",
           "type": "bar",
           "x": [
            2015,
            2015,
            2015,
            2015,
            2015,
            2015,
            2015,
            2015,
            2015,
            2015,
            2015,
            2015,
            2015,
            2015,
            2015,
            2015,
            2015,
            2015,
            2015,
            2015,
            2015,
            2015,
            2015,
            2015,
            2015,
            2015,
            2015,
            2015,
            2015,
            2015,
            2015,
            2015,
            2015,
            2015,
            2015,
            2015,
            2015,
            2015,
            2015,
            2015,
            2015,
            2015,
            2015,
            2015,
            2015,
            2015,
            2015,
            2015,
            2015,
            2015,
            2015,
            2015,
            2015,
            2015,
            2015,
            2015,
            2015,
            2015,
            2015
           ],
           "xaxis": "x",
           "y": [
            "field",
            "field",
            "field",
            "bat",
            "field",
            "field",
            "field",
            "field",
            "bat",
            "field",
            "bat",
            "field",
            "bat",
            "bat",
            "field",
            "bat",
            "field",
            "field",
            "field",
            "field",
            "field",
            "field",
            "field",
            "bat",
            "bat",
            "field",
            "field",
            "bat",
            "field",
            "field",
            "field",
            "field",
            "field",
            "field",
            "bat",
            "field",
            "bat",
            "field",
            "bat",
            "field",
            "field",
            "bat",
            "bat",
            "bat",
            "bat",
            "bat",
            "bat",
            "bat",
            "field",
            "field",
            "bat",
            "bat",
            "bat",
            "field",
            "bat",
            "bat",
            "bat",
            "field",
            "field"
           ],
           "yaxis": "y"
          }
         ],
         "name": "2015"
        },
        {
         "data": [
          {
           "alignmentgroup": "True",
           "hovertemplate": "season=%{x}<br>toss_decision=%{y}<extra></extra>",
           "legendgroup": "",
           "marker": {
            "color": "#636efa"
           },
           "name": "",
           "offsetgroup": "",
           "orientation": "h",
           "showlegend": false,
           "textposition": "auto",
           "type": "bar",
           "x": [
            2016,
            2016,
            2016,
            2016,
            2016,
            2016,
            2016,
            2016,
            2016,
            2016,
            2016,
            2016,
            2016,
            2016,
            2016,
            2016,
            2016,
            2016,
            2016,
            2016,
            2016,
            2016,
            2016,
            2016,
            2016,
            2016,
            2016,
            2016,
            2016,
            2016,
            2016,
            2016,
            2016,
            2016,
            2016,
            2016,
            2016,
            2016,
            2016,
            2016,
            2016,
            2016,
            2016,
            2016,
            2016,
            2016,
            2016,
            2016,
            2016,
            2016,
            2016,
            2016,
            2016,
            2016,
            2016,
            2016,
            2016,
            2016,
            2016,
            2016
           ],
           "xaxis": "x",
           "y": [
            "bat",
            "field",
            "field",
            "field",
            "field",
            "bat",
            "field",
            "bat",
            "field",
            "bat",
            "field",
            "field",
            "field",
            "field",
            "field",
            "field",
            "field",
            "field",
            "bat",
            "field",
            "field",
            "field",
            "field",
            "field",
            "field",
            "field",
            "field",
            "field",
            "field",
            "field",
            "field",
            "field",
            "field",
            "field",
            "field",
            "field",
            "field",
            "field",
            "field",
            "bat",
            "field",
            "field",
            "bat",
            "field",
            "bat",
            "bat",
            "field",
            "field",
            "field",
            "field",
            "field",
            "field",
            "bat",
            "field",
            "field",
            "field",
            "field",
            "field",
            "field",
            "bat"
           ],
           "yaxis": "y"
          }
         ],
         "name": "2016"
        }
       ],
       "layout": {
        "barmode": "relative",
        "height": 400,
        "legend": {
         "tracegroupgap": 0
        },
        "margin": {
         "t": 60
        },
        "sliders": [
         {
          "active": 0,
          "currentvalue": {
           "prefix": "season="
          },
          "len": 0.9,
          "pad": {
           "b": 10,
           "t": 60
          },
          "steps": [
           {
            "args": [
             [
              "2017"
             ],
             {
              "frame": {
               "duration": 0,
               "redraw": true
              },
              "fromcurrent": true,
              "mode": "immediate",
              "transition": {
               "duration": 0,
               "easing": "linear"
              }
             }
            ],
            "label": "2017",
            "method": "animate"
           },
           {
            "args": [
             [
              "2008"
             ],
             {
              "frame": {
               "duration": 0,
               "redraw": true
              },
              "fromcurrent": true,
              "mode": "immediate",
              "transition": {
               "duration": 0,
               "easing": "linear"
              }
             }
            ],
            "label": "2008",
            "method": "animate"
           },
           {
            "args": [
             [
              "2009"
             ],
             {
              "frame": {
               "duration": 0,
               "redraw": true
              },
              "fromcurrent": true,
              "mode": "immediate",
              "transition": {
               "duration": 0,
               "easing": "linear"
              }
             }
            ],
            "label": "2009",
            "method": "animate"
           },
           {
            "args": [
             [
              "2010"
             ],
             {
              "frame": {
               "duration": 0,
               "redraw": true
              },
              "fromcurrent": true,
              "mode": "immediate",
              "transition": {
               "duration": 0,
               "easing": "linear"
              }
             }
            ],
            "label": "2010",
            "method": "animate"
           },
           {
            "args": [
             [
              "2011"
             ],
             {
              "frame": {
               "duration": 0,
               "redraw": true
              },
              "fromcurrent": true,
              "mode": "immediate",
              "transition": {
               "duration": 0,
               "easing": "linear"
              }
             }
            ],
            "label": "2011",
            "method": "animate"
           },
           {
            "args": [
             [
              "2012"
             ],
             {
              "frame": {
               "duration": 0,
               "redraw": true
              },
              "fromcurrent": true,
              "mode": "immediate",
              "transition": {
               "duration": 0,
               "easing": "linear"
              }
             }
            ],
            "label": "2012",
            "method": "animate"
           },
           {
            "args": [
             [
              "2013"
             ],
             {
              "frame": {
               "duration": 0,
               "redraw": true
              },
              "fromcurrent": true,
              "mode": "immediate",
              "transition": {
               "duration": 0,
               "easing": "linear"
              }
             }
            ],
            "label": "2013",
            "method": "animate"
           },
           {
            "args": [
             [
              "2014"
             ],
             {
              "frame": {
               "duration": 0,
               "redraw": true
              },
              "fromcurrent": true,
              "mode": "immediate",
              "transition": {
               "duration": 0,
               "easing": "linear"
              }
             }
            ],
            "label": "2014",
            "method": "animate"
           },
           {
            "args": [
             [
              "2015"
             ],
             {
              "frame": {
               "duration": 0,
               "redraw": true
              },
              "fromcurrent": true,
              "mode": "immediate",
              "transition": {
               "duration": 0,
               "easing": "linear"
              }
             }
            ],
            "label": "2015",
            "method": "animate"
           },
           {
            "args": [
             [
              "2016"
             ],
             {
              "frame": {
               "duration": 0,
               "redraw": true
              },
              "fromcurrent": true,
              "mode": "immediate",
              "transition": {
               "duration": 0,
               "easing": "linear"
              }
             }
            ],
            "label": "2016",
            "method": "animate"
           }
          ],
          "x": 0.1,
          "xanchor": "left",
          "y": 0,
          "yanchor": "top"
         }
        ],
        "template": {
         "data": {
          "bar": [
           {
            "error_x": {
             "color": "#2a3f5f"
            },
            "error_y": {
             "color": "#2a3f5f"
            },
            "marker": {
             "line": {
              "color": "#E5ECF6",
              "width": 0.5
             }
            },
            "type": "bar"
           }
          ],
          "barpolar": [
           {
            "marker": {
             "line": {
              "color": "#E5ECF6",
              "width": 0.5
             }
            },
            "type": "barpolar"
           }
          ],
          "carpet": [
           {
            "aaxis": {
             "endlinecolor": "#2a3f5f",
             "gridcolor": "white",
             "linecolor": "white",
             "minorgridcolor": "white",
             "startlinecolor": "#2a3f5f"
            },
            "baxis": {
             "endlinecolor": "#2a3f5f",
             "gridcolor": "white",
             "linecolor": "white",
             "minorgridcolor": "white",
             "startlinecolor": "#2a3f5f"
            },
            "type": "carpet"
           }
          ],
          "choropleth": [
           {
            "colorbar": {
             "outlinewidth": 0,
             "ticks": ""
            },
            "type": "choropleth"
           }
          ],
          "contour": [
           {
            "colorbar": {
             "outlinewidth": 0,
             "ticks": ""
            },
            "colorscale": [
             [
              0,
              "#0d0887"
             ],
             [
              0.1111111111111111,
              "#46039f"
             ],
             [
              0.2222222222222222,
              "#7201a8"
             ],
             [
              0.3333333333333333,
              "#9c179e"
             ],
             [
              0.4444444444444444,
              "#bd3786"
             ],
             [
              0.5555555555555556,
              "#d8576b"
             ],
             [
              0.6666666666666666,
              "#ed7953"
             ],
             [
              0.7777777777777778,
              "#fb9f3a"
             ],
             [
              0.8888888888888888,
              "#fdca26"
             ],
             [
              1,
              "#f0f921"
             ]
            ],
            "type": "contour"
           }
          ],
          "contourcarpet": [
           {
            "colorbar": {
             "outlinewidth": 0,
             "ticks": ""
            },
            "type": "contourcarpet"
           }
          ],
          "heatmap": [
           {
            "colorbar": {
             "outlinewidth": 0,
             "ticks": ""
            },
            "colorscale": [
             [
              0,
              "#0d0887"
             ],
             [
              0.1111111111111111,
              "#46039f"
             ],
             [
              0.2222222222222222,
              "#7201a8"
             ],
             [
              0.3333333333333333,
              "#9c179e"
             ],
             [
              0.4444444444444444,
              "#bd3786"
             ],
             [
              0.5555555555555556,
              "#d8576b"
             ],
             [
              0.6666666666666666,
              "#ed7953"
             ],
             [
              0.7777777777777778,
              "#fb9f3a"
             ],
             [
              0.8888888888888888,
              "#fdca26"
             ],
             [
              1,
              "#f0f921"
             ]
            ],
            "type": "heatmap"
           }
          ],
          "heatmapgl": [
           {
            "colorbar": {
             "outlinewidth": 0,
             "ticks": ""
            },
            "colorscale": [
             [
              0,
              "#0d0887"
             ],
             [
              0.1111111111111111,
              "#46039f"
             ],
             [
              0.2222222222222222,
              "#7201a8"
             ],
             [
              0.3333333333333333,
              "#9c179e"
             ],
             [
              0.4444444444444444,
              "#bd3786"
             ],
             [
              0.5555555555555556,
              "#d8576b"
             ],
             [
              0.6666666666666666,
              "#ed7953"
             ],
             [
              0.7777777777777778,
              "#fb9f3a"
             ],
             [
              0.8888888888888888,
              "#fdca26"
             ],
             [
              1,
              "#f0f921"
             ]
            ],
            "type": "heatmapgl"
           }
          ],
          "histogram": [
           {
            "marker": {
             "colorbar": {
              "outlinewidth": 0,
              "ticks": ""
             }
            },
            "type": "histogram"
           }
          ],
          "histogram2d": [
           {
            "colorbar": {
             "outlinewidth": 0,
             "ticks": ""
            },
            "colorscale": [
             [
              0,
              "#0d0887"
             ],
             [
              0.1111111111111111,
              "#46039f"
             ],
             [
              0.2222222222222222,
              "#7201a8"
             ],
             [
              0.3333333333333333,
              "#9c179e"
             ],
             [
              0.4444444444444444,
              "#bd3786"
             ],
             [
              0.5555555555555556,
              "#d8576b"
             ],
             [
              0.6666666666666666,
              "#ed7953"
             ],
             [
              0.7777777777777778,
              "#fb9f3a"
             ],
             [
              0.8888888888888888,
              "#fdca26"
             ],
             [
              1,
              "#f0f921"
             ]
            ],
            "type": "histogram2d"
           }
          ],
          "histogram2dcontour": [
           {
            "colorbar": {
             "outlinewidth": 0,
             "ticks": ""
            },
            "colorscale": [
             [
              0,
              "#0d0887"
             ],
             [
              0.1111111111111111,
              "#46039f"
             ],
             [
              0.2222222222222222,
              "#7201a8"
             ],
             [
              0.3333333333333333,
              "#9c179e"
             ],
             [
              0.4444444444444444,
              "#bd3786"
             ],
             [
              0.5555555555555556,
              "#d8576b"
             ],
             [
              0.6666666666666666,
              "#ed7953"
             ],
             [
              0.7777777777777778,
              "#fb9f3a"
             ],
             [
              0.8888888888888888,
              "#fdca26"
             ],
             [
              1,
              "#f0f921"
             ]
            ],
            "type": "histogram2dcontour"
           }
          ],
          "mesh3d": [
           {
            "colorbar": {
             "outlinewidth": 0,
             "ticks": ""
            },
            "type": "mesh3d"
           }
          ],
          "parcoords": [
           {
            "line": {
             "colorbar": {
              "outlinewidth": 0,
              "ticks": ""
             }
            },
            "type": "parcoords"
           }
          ],
          "pie": [
           {
            "automargin": true,
            "type": "pie"
           }
          ],
          "scatter": [
           {
            "marker": {
             "colorbar": {
              "outlinewidth": 0,
              "ticks": ""
             }
            },
            "type": "scatter"
           }
          ],
          "scatter3d": [
           {
            "line": {
             "colorbar": {
              "outlinewidth": 0,
              "ticks": ""
             }
            },
            "marker": {
             "colorbar": {
              "outlinewidth": 0,
              "ticks": ""
             }
            },
            "type": "scatter3d"
           }
          ],
          "scattercarpet": [
           {
            "marker": {
             "colorbar": {
              "outlinewidth": 0,
              "ticks": ""
             }
            },
            "type": "scattercarpet"
           }
          ],
          "scattergeo": [
           {
            "marker": {
             "colorbar": {
              "outlinewidth": 0,
              "ticks": ""
             }
            },
            "type": "scattergeo"
           }
          ],
          "scattergl": [
           {
            "marker": {
             "colorbar": {
              "outlinewidth": 0,
              "ticks": ""
             }
            },
            "type": "scattergl"
           }
          ],
          "scattermapbox": [
           {
            "marker": {
             "colorbar": {
              "outlinewidth": 0,
              "ticks": ""
             }
            },
            "type": "scattermapbox"
           }
          ],
          "scatterpolar": [
           {
            "marker": {
             "colorbar": {
              "outlinewidth": 0,
              "ticks": ""
             }
            },
            "type": "scatterpolar"
           }
          ],
          "scatterpolargl": [
           {
            "marker": {
             "colorbar": {
              "outlinewidth": 0,
              "ticks": ""
             }
            },
            "type": "scatterpolargl"
           }
          ],
          "scatterternary": [
           {
            "marker": {
             "colorbar": {
              "outlinewidth": 0,
              "ticks": ""
             }
            },
            "type": "scatterternary"
           }
          ],
          "surface": [
           {
            "colorbar": {
             "outlinewidth": 0,
             "ticks": ""
            },
            "colorscale": [
             [
              0,
              "#0d0887"
             ],
             [
              0.1111111111111111,
              "#46039f"
             ],
             [
              0.2222222222222222,
              "#7201a8"
             ],
             [
              0.3333333333333333,
              "#9c179e"
             ],
             [
              0.4444444444444444,
              "#bd3786"
             ],
             [
              0.5555555555555556,
              "#d8576b"
             ],
             [
              0.6666666666666666,
              "#ed7953"
             ],
             [
              0.7777777777777778,
              "#fb9f3a"
             ],
             [
              0.8888888888888888,
              "#fdca26"
             ],
             [
              1,
              "#f0f921"
             ]
            ],
            "type": "surface"
           }
          ],
          "table": [
           {
            "cells": {
             "fill": {
              "color": "#EBF0F8"
             },
             "line": {
              "color": "white"
             }
            },
            "header": {
             "fill": {
              "color": "#C8D4E3"
             },
             "line": {
              "color": "white"
             }
            },
            "type": "table"
           }
          ]
         },
         "layout": {
          "annotationdefaults": {
           "arrowcolor": "#2a3f5f",
           "arrowhead": 0,
           "arrowwidth": 1
          },
          "autotypenumbers": "strict",
          "coloraxis": {
           "colorbar": {
            "outlinewidth": 0,
            "ticks": ""
           }
          },
          "colorscale": {
           "diverging": [
            [
             0,
             "#8e0152"
            ],
            [
             0.1,
             "#c51b7d"
            ],
            [
             0.2,
             "#de77ae"
            ],
            [
             0.3,
             "#f1b6da"
            ],
            [
             0.4,
             "#fde0ef"
            ],
            [
             0.5,
             "#f7f7f7"
            ],
            [
             0.6,
             "#e6f5d0"
            ],
            [
             0.7,
             "#b8e186"
            ],
            [
             0.8,
             "#7fbc41"
            ],
            [
             0.9,
             "#4d9221"
            ],
            [
             1,
             "#276419"
            ]
           ],
           "sequential": [
            [
             0,
             "#0d0887"
            ],
            [
             0.1111111111111111,
             "#46039f"
            ],
            [
             0.2222222222222222,
             "#7201a8"
            ],
            [
             0.3333333333333333,
             "#9c179e"
            ],
            [
             0.4444444444444444,
             "#bd3786"
            ],
            [
             0.5555555555555556,
             "#d8576b"
            ],
            [
             0.6666666666666666,
             "#ed7953"
            ],
            [
             0.7777777777777778,
             "#fb9f3a"
            ],
            [
             0.8888888888888888,
             "#fdca26"
            ],
            [
             1,
             "#f0f921"
            ]
           ],
           "sequentialminus": [
            [
             0,
             "#0d0887"
            ],
            [
             0.1111111111111111,
             "#46039f"
            ],
            [
             0.2222222222222222,
             "#7201a8"
            ],
            [
             0.3333333333333333,
             "#9c179e"
            ],
            [
             0.4444444444444444,
             "#bd3786"
            ],
            [
             0.5555555555555556,
             "#d8576b"
            ],
            [
             0.6666666666666666,
             "#ed7953"
            ],
            [
             0.7777777777777778,
             "#fb9f3a"
            ],
            [
             0.8888888888888888,
             "#fdca26"
            ],
            [
             1,
             "#f0f921"
            ]
           ]
          },
          "colorway": [
           "#636efa",
           "#EF553B",
           "#00cc96",
           "#ab63fa",
           "#FFA15A",
           "#19d3f3",
           "#FF6692",
           "#B6E880",
           "#FF97FF",
           "#FECB52"
          ],
          "font": {
           "color": "#2a3f5f"
          },
          "geo": {
           "bgcolor": "white",
           "lakecolor": "white",
           "landcolor": "#E5ECF6",
           "showlakes": true,
           "showland": true,
           "subunitcolor": "white"
          },
          "hoverlabel": {
           "align": "left"
          },
          "hovermode": "closest",
          "mapbox": {
           "style": "light"
          },
          "paper_bgcolor": "white",
          "plot_bgcolor": "#E5ECF6",
          "polar": {
           "angularaxis": {
            "gridcolor": "white",
            "linecolor": "white",
            "ticks": ""
           },
           "bgcolor": "#E5ECF6",
           "radialaxis": {
            "gridcolor": "white",
            "linecolor": "white",
            "ticks": ""
           }
          },
          "scene": {
           "xaxis": {
            "backgroundcolor": "#E5ECF6",
            "gridcolor": "white",
            "gridwidth": 2,
            "linecolor": "white",
            "showbackground": true,
            "ticks": "",
            "zerolinecolor": "white"
           },
           "yaxis": {
            "backgroundcolor": "#E5ECF6",
            "gridcolor": "white",
            "gridwidth": 2,
            "linecolor": "white",
            "showbackground": true,
            "ticks": "",
            "zerolinecolor": "white"
           },
           "zaxis": {
            "backgroundcolor": "#E5ECF6",
            "gridcolor": "white",
            "gridwidth": 2,
            "linecolor": "white",
            "showbackground": true,
            "ticks": "",
            "zerolinecolor": "white"
           }
          },
          "shapedefaults": {
           "line": {
            "color": "#2a3f5f"
           }
          },
          "ternary": {
           "aaxis": {
            "gridcolor": "white",
            "linecolor": "white",
            "ticks": ""
           },
           "baxis": {
            "gridcolor": "white",
            "linecolor": "white",
            "ticks": ""
           },
           "bgcolor": "#E5ECF6",
           "caxis": {
            "gridcolor": "white",
            "linecolor": "white",
            "ticks": ""
           }
          },
          "title": {
           "x": 0.05
          },
          "xaxis": {
           "automargin": true,
           "gridcolor": "white",
           "linecolor": "white",
           "ticks": "",
           "title": {
            "standoff": 15
           },
           "zerolinecolor": "white",
           "zerolinewidth": 2
          },
          "yaxis": {
           "automargin": true,
           "gridcolor": "white",
           "linecolor": "white",
           "ticks": "",
           "title": {
            "standoff": 15
           },
           "zerolinecolor": "white",
           "zerolinewidth": 2
          }
         }
        },
        "updatemenus": [
         {
          "buttons": [
           {
            "args": [
             null,
             {
              "frame": {
               "duration": 500,
               "redraw": true
              },
              "fromcurrent": true,
              "mode": "immediate",
              "transition": {
               "duration": 500,
               "easing": "linear"
              }
             }
            ],
            "label": "&#9654;",
            "method": "animate"
           },
           {
            "args": [
             [
              null
             ],
             {
              "frame": {
               "duration": 0,
               "redraw": true
              },
              "fromcurrent": true,
              "mode": "immediate",
              "transition": {
               "duration": 0,
               "easing": "linear"
              }
             }
            ],
            "label": "&#9724;",
            "method": "animate"
           }
          ],
          "direction": "left",
          "pad": {
           "r": 10,
           "t": 70
          },
          "showactive": false,
          "type": "buttons",
          "x": 0.1,
          "xanchor": "right",
          "y": 0,
          "yanchor": "top"
         }
        ],
        "xaxis": {
         "anchor": "y",
         "categoryarray": [
          2017,
          2008,
          2009,
          2010,
          2011,
          2012,
          2013,
          2014,
          2015,
          2016
         ],
         "categoryorder": "array",
         "domain": [
          0,
          1
         ],
         "title": {
          "text": "season"
         }
        },
        "yaxis": {
         "anchor": "x",
         "domain": [
          0,
          1
         ],
         "title": {
          "text": "toss_decision"
         }
        }
       }
      },
      "text/html": [
       "<div>                            <div id=\"41fbeece-a0f7-48e9-ae79-fad1d0d07c3d\" class=\"plotly-graph-div\" style=\"height:400px; width:100%;\"></div>            <script type=\"text/javascript\">                require([\"plotly\"], function(Plotly) {                    window.PLOTLYENV=window.PLOTLYENV || {};                                    if (document.getElementById(\"41fbeece-a0f7-48e9-ae79-fad1d0d07c3d\")) {                    Plotly.newPlot(                        \"41fbeece-a0f7-48e9-ae79-fad1d0d07c3d\",                        [{\"alignmentgroup\": \"True\", \"hovertemplate\": \"season=%{x}<br>toss_decision=%{y}<extra></extra>\", \"legendgroup\": \"\", \"marker\": {\"color\": \"#636efa\"}, \"name\": \"\", \"offsetgroup\": \"\", \"orientation\": \"h\", \"showlegend\": false, \"textposition\": \"auto\", \"type\": \"bar\", \"x\": [2017, 2017, 2017, 2017, 2017, 2017, 2017, 2017, 2017, 2017, 2017, 2017, 2017, 2017, 2017, 2017, 2017, 2017, 2017, 2017, 2017, 2017, 2017, 2017, 2017, 2017, 2017, 2017, 2017, 2017, 2017, 2017, 2017, 2017, 2017, 2017, 2017, 2017, 2017, 2017, 2017, 2017, 2017, 2017, 2017, 2017, 2017, 2017, 2017, 2017, 2017, 2017, 2017, 2017, 2017, 2017, 2017, 2017, 2017], \"xaxis\": \"x\", \"y\": [\"field\", \"field\", \"field\", \"field\", \"bat\", \"field\", \"field\", \"bat\", \"field\", \"field\", \"field\", \"field\", \"field\", \"field\", \"bat\", \"field\", \"field\", \"bat\", \"field\", \"field\", \"bat\", \"field\", \"field\", \"field\", \"field\", \"field\", \"field\", \"field\", \"field\", \"field\", \"field\", \"field\", \"field\", \"bat\", \"field\", \"field\", \"bat\", \"field\", \"field\", \"field\", \"field\", \"field\", \"field\", \"field\", \"field\", \"field\", \"bat\", \"field\", \"field\", \"field\", \"bat\", \"field\", \"field\", \"field\", \"bat\", \"field\", \"field\", \"field\", \"bat\"], \"yaxis\": \"y\"}],                        {\"barmode\": \"relative\", \"height\": 400, \"legend\": {\"tracegroupgap\": 0}, \"margin\": {\"t\": 60}, \"sliders\": [{\"active\": 0, \"currentvalue\": {\"prefix\": \"season=\"}, \"len\": 0.9, \"pad\": {\"b\": 10, \"t\": 60}, \"steps\": [{\"args\": [[\"2017\"], {\"frame\": {\"duration\": 0, \"redraw\": true}, \"fromcurrent\": true, \"mode\": \"immediate\", \"transition\": {\"duration\": 0, \"easing\": \"linear\"}}], \"label\": \"2017\", \"method\": \"animate\"}, {\"args\": [[\"2008\"], {\"frame\": {\"duration\": 0, \"redraw\": true}, \"fromcurrent\": true, \"mode\": \"immediate\", \"transition\": {\"duration\": 0, \"easing\": \"linear\"}}], \"label\": \"2008\", \"method\": \"animate\"}, {\"args\": [[\"2009\"], {\"frame\": {\"duration\": 0, \"redraw\": true}, \"fromcurrent\": true, \"mode\": \"immediate\", \"transition\": {\"duration\": 0, \"easing\": \"linear\"}}], \"label\": \"2009\", \"method\": \"animate\"}, {\"args\": [[\"2010\"], {\"frame\": {\"duration\": 0, \"redraw\": true}, \"fromcurrent\": true, \"mode\": \"immediate\", \"transition\": {\"duration\": 0, \"easing\": \"linear\"}}], \"label\": \"2010\", \"method\": \"animate\"}, {\"args\": [[\"2011\"], {\"frame\": {\"duration\": 0, \"redraw\": true}, \"fromcurrent\": true, \"mode\": \"immediate\", \"transition\": {\"duration\": 0, \"easing\": \"linear\"}}], \"label\": \"2011\", \"method\": \"animate\"}, {\"args\": [[\"2012\"], {\"frame\": {\"duration\": 0, \"redraw\": true}, \"fromcurrent\": true, \"mode\": \"immediate\", \"transition\": {\"duration\": 0, \"easing\": \"linear\"}}], \"label\": \"2012\", \"method\": \"animate\"}, {\"args\": [[\"2013\"], {\"frame\": {\"duration\": 0, \"redraw\": true}, \"fromcurrent\": true, \"mode\": \"immediate\", \"transition\": {\"duration\": 0, \"easing\": \"linear\"}}], \"label\": \"2013\", \"method\": \"animate\"}, {\"args\": [[\"2014\"], {\"frame\": {\"duration\": 0, \"redraw\": true}, \"fromcurrent\": true, \"mode\": \"immediate\", \"transition\": {\"duration\": 0, \"easing\": \"linear\"}}], \"label\": \"2014\", \"method\": \"animate\"}, {\"args\": [[\"2015\"], {\"frame\": {\"duration\": 0, \"redraw\": true}, \"fromcurrent\": true, \"mode\": \"immediate\", \"transition\": {\"duration\": 0, \"easing\": \"linear\"}}], \"label\": \"2015\", \"method\": \"animate\"}, {\"args\": [[\"2016\"], {\"frame\": {\"duration\": 0, \"redraw\": true}, \"fromcurrent\": true, \"mode\": \"immediate\", \"transition\": {\"duration\": 0, \"easing\": \"linear\"}}], \"label\": \"2016\", \"method\": \"animate\"}], \"x\": 0.1, \"xanchor\": \"left\", \"y\": 0, \"yanchor\": \"top\"}], \"template\": {\"data\": {\"bar\": [{\"error_x\": {\"color\": \"#2a3f5f\"}, \"error_y\": {\"color\": \"#2a3f5f\"}, \"marker\": {\"line\": {\"color\": \"#E5ECF6\", \"width\": 0.5}}, \"type\": \"bar\"}], \"barpolar\": [{\"marker\": {\"line\": {\"color\": \"#E5ECF6\", \"width\": 0.5}}, \"type\": \"barpolar\"}], \"carpet\": [{\"aaxis\": {\"endlinecolor\": \"#2a3f5f\", \"gridcolor\": \"white\", \"linecolor\": \"white\", \"minorgridcolor\": \"white\", \"startlinecolor\": \"#2a3f5f\"}, \"baxis\": {\"endlinecolor\": \"#2a3f5f\", \"gridcolor\": \"white\", \"linecolor\": \"white\", \"minorgridcolor\": \"white\", \"startlinecolor\": \"#2a3f5f\"}, \"type\": \"carpet\"}], \"choropleth\": [{\"colorbar\": {\"outlinewidth\": 0, \"ticks\": \"\"}, \"type\": \"choropleth\"}], \"contour\": [{\"colorbar\": {\"outlinewidth\": 0, \"ticks\": \"\"}, \"colorscale\": [[0.0, \"#0d0887\"], [0.1111111111111111, \"#46039f\"], [0.2222222222222222, \"#7201a8\"], [0.3333333333333333, \"#9c179e\"], [0.4444444444444444, \"#bd3786\"], [0.5555555555555556, \"#d8576b\"], [0.6666666666666666, \"#ed7953\"], [0.7777777777777778, \"#fb9f3a\"], [0.8888888888888888, \"#fdca26\"], [1.0, \"#f0f921\"]], \"type\": \"contour\"}], \"contourcarpet\": [{\"colorbar\": {\"outlinewidth\": 0, \"ticks\": \"\"}, \"type\": \"contourcarpet\"}], \"heatmap\": [{\"colorbar\": {\"outlinewidth\": 0, \"ticks\": \"\"}, \"colorscale\": [[0.0, \"#0d0887\"], [0.1111111111111111, \"#46039f\"], [0.2222222222222222, \"#7201a8\"], [0.3333333333333333, \"#9c179e\"], [0.4444444444444444, \"#bd3786\"], [0.5555555555555556, \"#d8576b\"], [0.6666666666666666, \"#ed7953\"], [0.7777777777777778, \"#fb9f3a\"], [0.8888888888888888, \"#fdca26\"], [1.0, \"#f0f921\"]], \"type\": \"heatmap\"}], \"heatmapgl\": [{\"colorbar\": {\"outlinewidth\": 0, \"ticks\": \"\"}, \"colorscale\": [[0.0, \"#0d0887\"], [0.1111111111111111, \"#46039f\"], [0.2222222222222222, \"#7201a8\"], [0.3333333333333333, \"#9c179e\"], [0.4444444444444444, \"#bd3786\"], [0.5555555555555556, \"#d8576b\"], [0.6666666666666666, \"#ed7953\"], [0.7777777777777778, \"#fb9f3a\"], [0.8888888888888888, \"#fdca26\"], [1.0, \"#f0f921\"]], \"type\": \"heatmapgl\"}], \"histogram\": [{\"marker\": {\"colorbar\": {\"outlinewidth\": 0, \"ticks\": \"\"}}, \"type\": \"histogram\"}], \"histogram2d\": [{\"colorbar\": {\"outlinewidth\": 0, \"ticks\": \"\"}, \"colorscale\": [[0.0, \"#0d0887\"], [0.1111111111111111, \"#46039f\"], [0.2222222222222222, \"#7201a8\"], [0.3333333333333333, \"#9c179e\"], [0.4444444444444444, \"#bd3786\"], [0.5555555555555556, \"#d8576b\"], [0.6666666666666666, \"#ed7953\"], [0.7777777777777778, \"#fb9f3a\"], [0.8888888888888888, \"#fdca26\"], [1.0, \"#f0f921\"]], \"type\": \"histogram2d\"}], \"histogram2dcontour\": [{\"colorbar\": {\"outlinewidth\": 0, \"ticks\": \"\"}, \"colorscale\": [[0.0, \"#0d0887\"], [0.1111111111111111, \"#46039f\"], [0.2222222222222222, \"#7201a8\"], [0.3333333333333333, \"#9c179e\"], [0.4444444444444444, \"#bd3786\"], [0.5555555555555556, \"#d8576b\"], [0.6666666666666666, \"#ed7953\"], [0.7777777777777778, \"#fb9f3a\"], [0.8888888888888888, \"#fdca26\"], [1.0, \"#f0f921\"]], \"type\": \"histogram2dcontour\"}], \"mesh3d\": [{\"colorbar\": {\"outlinewidth\": 0, \"ticks\": \"\"}, \"type\": \"mesh3d\"}], \"parcoords\": [{\"line\": {\"colorbar\": {\"outlinewidth\": 0, \"ticks\": \"\"}}, \"type\": \"parcoords\"}], \"pie\": [{\"automargin\": true, \"type\": \"pie\"}], \"scatter\": [{\"marker\": {\"colorbar\": {\"outlinewidth\": 0, \"ticks\": \"\"}}, \"type\": \"scatter\"}], \"scatter3d\": [{\"line\": {\"colorbar\": {\"outlinewidth\": 0, \"ticks\": \"\"}}, \"marker\": {\"colorbar\": {\"outlinewidth\": 0, \"ticks\": \"\"}}, \"type\": \"scatter3d\"}], \"scattercarpet\": [{\"marker\": {\"colorbar\": {\"outlinewidth\": 0, \"ticks\": \"\"}}, \"type\": \"scattercarpet\"}], \"scattergeo\": [{\"marker\": {\"colorbar\": {\"outlinewidth\": 0, \"ticks\": \"\"}}, \"type\": \"scattergeo\"}], \"scattergl\": [{\"marker\": {\"colorbar\": {\"outlinewidth\": 0, \"ticks\": \"\"}}, \"type\": \"scattergl\"}], \"scattermapbox\": [{\"marker\": {\"colorbar\": {\"outlinewidth\": 0, \"ticks\": \"\"}}, \"type\": \"scattermapbox\"}], \"scatterpolar\": [{\"marker\": {\"colorbar\": {\"outlinewidth\": 0, \"ticks\": \"\"}}, \"type\": \"scatterpolar\"}], \"scatterpolargl\": [{\"marker\": {\"colorbar\": {\"outlinewidth\": 0, \"ticks\": \"\"}}, \"type\": \"scatterpolargl\"}], \"scatterternary\": [{\"marker\": {\"colorbar\": {\"outlinewidth\": 0, \"ticks\": \"\"}}, \"type\": \"scatterternary\"}], \"surface\": [{\"colorbar\": {\"outlinewidth\": 0, \"ticks\": \"\"}, \"colorscale\": [[0.0, \"#0d0887\"], [0.1111111111111111, \"#46039f\"], [0.2222222222222222, \"#7201a8\"], [0.3333333333333333, \"#9c179e\"], [0.4444444444444444, \"#bd3786\"], [0.5555555555555556, \"#d8576b\"], [0.6666666666666666, \"#ed7953\"], [0.7777777777777778, \"#fb9f3a\"], [0.8888888888888888, \"#fdca26\"], [1.0, \"#f0f921\"]], \"type\": \"surface\"}], \"table\": [{\"cells\": {\"fill\": {\"color\": \"#EBF0F8\"}, \"line\": {\"color\": \"white\"}}, \"header\": {\"fill\": {\"color\": \"#C8D4E3\"}, \"line\": {\"color\": \"white\"}}, \"type\": \"table\"}]}, \"layout\": {\"annotationdefaults\": {\"arrowcolor\": \"#2a3f5f\", \"arrowhead\": 0, \"arrowwidth\": 1}, \"autotypenumbers\": \"strict\", \"coloraxis\": {\"colorbar\": {\"outlinewidth\": 0, \"ticks\": \"\"}}, \"colorscale\": {\"diverging\": [[0, \"#8e0152\"], [0.1, \"#c51b7d\"], [0.2, \"#de77ae\"], [0.3, \"#f1b6da\"], [0.4, \"#fde0ef\"], [0.5, \"#f7f7f7\"], [0.6, \"#e6f5d0\"], [0.7, \"#b8e186\"], [0.8, \"#7fbc41\"], [0.9, \"#4d9221\"], [1, \"#276419\"]], \"sequential\": [[0.0, \"#0d0887\"], [0.1111111111111111, \"#46039f\"], [0.2222222222222222, \"#7201a8\"], [0.3333333333333333, \"#9c179e\"], [0.4444444444444444, \"#bd3786\"], [0.5555555555555556, \"#d8576b\"], [0.6666666666666666, \"#ed7953\"], [0.7777777777777778, \"#fb9f3a\"], [0.8888888888888888, \"#fdca26\"], [1.0, \"#f0f921\"]], \"sequentialminus\": [[0.0, \"#0d0887\"], [0.1111111111111111, \"#46039f\"], [0.2222222222222222, \"#7201a8\"], [0.3333333333333333, \"#9c179e\"], [0.4444444444444444, \"#bd3786\"], [0.5555555555555556, \"#d8576b\"], [0.6666666666666666, \"#ed7953\"], [0.7777777777777778, \"#fb9f3a\"], [0.8888888888888888, \"#fdca26\"], [1.0, \"#f0f921\"]]}, \"colorway\": [\"#636efa\", \"#EF553B\", \"#00cc96\", \"#ab63fa\", \"#FFA15A\", \"#19d3f3\", \"#FF6692\", \"#B6E880\", \"#FF97FF\", \"#FECB52\"], \"font\": {\"color\": \"#2a3f5f\"}, \"geo\": {\"bgcolor\": \"white\", \"lakecolor\": \"white\", \"landcolor\": \"#E5ECF6\", \"showlakes\": true, \"showland\": true, \"subunitcolor\": \"white\"}, \"hoverlabel\": {\"align\": \"left\"}, \"hovermode\": \"closest\", \"mapbox\": {\"style\": \"light\"}, \"paper_bgcolor\": \"white\", \"plot_bgcolor\": \"#E5ECF6\", \"polar\": {\"angularaxis\": {\"gridcolor\": \"white\", \"linecolor\": \"white\", \"ticks\": \"\"}, \"bgcolor\": \"#E5ECF6\", \"radialaxis\": {\"gridcolor\": \"white\", \"linecolor\": \"white\", \"ticks\": \"\"}}, \"scene\": {\"xaxis\": {\"backgroundcolor\": \"#E5ECF6\", \"gridcolor\": \"white\", \"gridwidth\": 2, \"linecolor\": \"white\", \"showbackground\": true, \"ticks\": \"\", \"zerolinecolor\": \"white\"}, \"yaxis\": {\"backgroundcolor\": \"#E5ECF6\", \"gridcolor\": \"white\", \"gridwidth\": 2, \"linecolor\": \"white\", \"showbackground\": true, \"ticks\": \"\", \"zerolinecolor\": \"white\"}, \"zaxis\": {\"backgroundcolor\": \"#E5ECF6\", \"gridcolor\": \"white\", \"gridwidth\": 2, \"linecolor\": \"white\", \"showbackground\": true, \"ticks\": \"\", \"zerolinecolor\": \"white\"}}, \"shapedefaults\": {\"line\": {\"color\": \"#2a3f5f\"}}, \"ternary\": {\"aaxis\": {\"gridcolor\": \"white\", \"linecolor\": \"white\", \"ticks\": \"\"}, \"baxis\": {\"gridcolor\": \"white\", \"linecolor\": \"white\", \"ticks\": \"\"}, \"bgcolor\": \"#E5ECF6\", \"caxis\": {\"gridcolor\": \"white\", \"linecolor\": \"white\", \"ticks\": \"\"}}, \"title\": {\"x\": 0.05}, \"xaxis\": {\"automargin\": true, \"gridcolor\": \"white\", \"linecolor\": \"white\", \"ticks\": \"\", \"title\": {\"standoff\": 15}, \"zerolinecolor\": \"white\", \"zerolinewidth\": 2}, \"yaxis\": {\"automargin\": true, \"gridcolor\": \"white\", \"linecolor\": \"white\", \"ticks\": \"\", \"title\": {\"standoff\": 15}, \"zerolinecolor\": \"white\", \"zerolinewidth\": 2}}}, \"updatemenus\": [{\"buttons\": [{\"args\": [null, {\"frame\": {\"duration\": 500, \"redraw\": true}, \"fromcurrent\": true, \"mode\": \"immediate\", \"transition\": {\"duration\": 500, \"easing\": \"linear\"}}], \"label\": \"&#9654;\", \"method\": \"animate\"}, {\"args\": [[null], {\"frame\": {\"duration\": 0, \"redraw\": true}, \"fromcurrent\": true, \"mode\": \"immediate\", \"transition\": {\"duration\": 0, \"easing\": \"linear\"}}], \"label\": \"&#9724;\", \"method\": \"animate\"}], \"direction\": \"left\", \"pad\": {\"r\": 10, \"t\": 70}, \"showactive\": false, \"type\": \"buttons\", \"x\": 0.1, \"xanchor\": \"right\", \"y\": 0, \"yanchor\": \"top\"}], \"xaxis\": {\"anchor\": \"y\", \"categoryarray\": [2017, 2008, 2009, 2010, 2011, 2012, 2013, 2014, 2015, 2016], \"categoryorder\": \"array\", \"domain\": [0.0, 1.0], \"title\": {\"text\": \"season\"}}, \"yaxis\": {\"anchor\": \"x\", \"domain\": [0.0, 1.0], \"title\": {\"text\": \"toss_decision\"}}},                        {\"responsive\": true}                    ).then(function(){\n",
       "                            Plotly.addFrames('41fbeece-a0f7-48e9-ae79-fad1d0d07c3d', [{\"data\": [{\"alignmentgroup\": \"True\", \"hovertemplate\": \"season=%{x}<br>toss_decision=%{y}<extra></extra>\", \"legendgroup\": \"\", \"marker\": {\"color\": \"#636efa\"}, \"name\": \"\", \"offsetgroup\": \"\", \"orientation\": \"h\", \"showlegend\": false, \"textposition\": \"auto\", \"x\": [2017, 2017, 2017, 2017, 2017, 2017, 2017, 2017, 2017, 2017, 2017, 2017, 2017, 2017, 2017, 2017, 2017, 2017, 2017, 2017, 2017, 2017, 2017, 2017, 2017, 2017, 2017, 2017, 2017, 2017, 2017, 2017, 2017, 2017, 2017, 2017, 2017, 2017, 2017, 2017, 2017, 2017, 2017, 2017, 2017, 2017, 2017, 2017, 2017, 2017, 2017, 2017, 2017, 2017, 2017, 2017, 2017, 2017, 2017], \"xaxis\": \"x\", \"y\": [\"field\", \"field\", \"field\", \"field\", \"bat\", \"field\", \"field\", \"bat\", \"field\", \"field\", \"field\", \"field\", \"field\", \"field\", \"bat\", \"field\", \"field\", \"bat\", \"field\", \"field\", \"bat\", \"field\", \"field\", \"field\", \"field\", \"field\", \"field\", \"field\", \"field\", \"field\", \"field\", \"field\", \"field\", \"bat\", \"field\", \"field\", \"bat\", \"field\", \"field\", \"field\", \"field\", \"field\", \"field\", \"field\", \"field\", \"field\", \"bat\", \"field\", \"field\", \"field\", \"bat\", \"field\", \"field\", \"field\", \"bat\", \"field\", \"field\", \"field\", \"bat\"], \"yaxis\": \"y\", \"type\": \"bar\"}], \"name\": \"2017\"}, {\"data\": [{\"alignmentgroup\": \"True\", \"hovertemplate\": \"season=%{x}<br>toss_decision=%{y}<extra></extra>\", \"legendgroup\": \"\", \"marker\": {\"color\": \"#636efa\"}, \"name\": \"\", \"offsetgroup\": \"\", \"orientation\": \"h\", \"showlegend\": false, \"textposition\": \"auto\", \"x\": [2008, 2008, 2008, 2008, 2008, 2008, 2008, 2008, 2008, 2008, 2008, 2008, 2008, 2008, 2008, 2008, 2008, 2008, 2008, 2008, 2008, 2008, 2008, 2008, 2008, 2008, 2008, 2008, 2008, 2008, 2008, 2008, 2008, 2008, 2008, 2008, 2008, 2008, 2008, 2008, 2008, 2008, 2008, 2008, 2008, 2008, 2008, 2008, 2008, 2008, 2008, 2008, 2008, 2008, 2008, 2008, 2008, 2008], \"xaxis\": \"x\", \"y\": [\"field\", \"bat\", \"bat\", \"bat\", \"bat\", \"bat\", \"bat\", \"field\", \"field\", \"field\", \"field\", \"bat\", \"field\", \"bat\", \"bat\", \"bat\", \"field\", \"field\", \"bat\", \"bat\", \"bat\", \"bat\", \"field\", \"bat\", \"field\", \"field\", \"field\", \"field\", \"bat\", \"field\", \"field\", \"field\", \"bat\", \"field\", \"bat\", \"bat\", \"field\", \"field\", \"field\", \"field\", \"bat\", \"field\", \"field\", \"bat\", \"field\", \"field\", \"field\", \"bat\", \"field\", \"field\", \"bat\", \"field\", \"bat\", \"field\", \"bat\", \"field\", \"bat\", \"field\"], \"yaxis\": \"y\", \"type\": \"bar\"}], \"name\": \"2008\"}, {\"data\": [{\"alignmentgroup\": \"True\", \"hovertemplate\": \"season=%{x}<br>toss_decision=%{y}<extra></extra>\", \"legendgroup\": \"\", \"marker\": {\"color\": \"#636efa\"}, \"name\": \"\", \"offsetgroup\": \"\", \"orientation\": \"h\", \"showlegend\": false, \"textposition\": \"auto\", \"x\": [2009, 2009, 2009, 2009, 2009, 2009, 2009, 2009, 2009, 2009, 2009, 2009, 2009, 2009, 2009, 2009, 2009, 2009, 2009, 2009, 2009, 2009, 2009, 2009, 2009, 2009, 2009, 2009, 2009, 2009, 2009, 2009, 2009, 2009, 2009, 2009, 2009, 2009, 2009, 2009, 2009, 2009, 2009, 2009, 2009, 2009, 2009, 2009, 2009, 2009, 2009, 2009, 2009, 2009, 2009, 2009, 2009], \"xaxis\": \"x\", \"y\": [\"field\", \"bat\", \"field\", \"bat\", \"bat\", \"field\", \"bat\", \"bat\", \"field\", \"bat\", \"bat\", \"bat\", \"bat\", \"field\", \"bat\", \"bat\", \"bat\", \"bat\", \"field\", \"field\", \"bat\", \"bat\", \"bat\", \"field\", \"bat\", \"bat\", \"bat\", \"field\", \"bat\", \"bat\", \"field\", \"bat\", \"bat\", \"field\", \"bat\", \"bat\", \"field\", \"bat\", \"field\", \"bat\", \"field\", \"bat\", \"bat\", \"field\", \"bat\", \"field\", \"field\", \"bat\", \"bat\", \"bat\", \"field\", \"bat\", \"field\", \"bat\", \"field\", \"field\", \"field\"], \"yaxis\": \"y\", \"type\": \"bar\"}], \"name\": \"2009\"}, {\"data\": [{\"alignmentgroup\": \"True\", \"hovertemplate\": \"season=%{x}<br>toss_decision=%{y}<extra></extra>\", \"legendgroup\": \"\", \"marker\": {\"color\": \"#636efa\"}, \"name\": \"\", \"offsetgroup\": \"\", \"orientation\": \"h\", \"showlegend\": false, \"textposition\": \"auto\", \"x\": [2010, 2010, 2010, 2010, 2010, 2010, 2010, 2010, 2010, 2010, 2010, 2010, 2010, 2010, 2010, 2010, 2010, 2010, 2010, 2010, 2010, 2010, 2010, 2010, 2010, 2010, 2010, 2010, 2010, 2010, 2010, 2010, 2010, 2010, 2010, 2010, 2010, 2010, 2010, 2010, 2010, 2010, 2010, 2010, 2010, 2010, 2010, 2010, 2010, 2010, 2010, 2010, 2010, 2010, 2010, 2010, 2010, 2010, 2010, 2010], \"xaxis\": \"x\", \"y\": [\"field\", \"bat\", \"field\", \"field\", \"bat\", \"field\", \"bat\", \"bat\", \"field\", \"field\", \"bat\", \"field\", \"bat\", \"bat\", \"bat\", \"field\", \"bat\", \"field\", \"field\", \"field\", \"bat\", \"bat\", \"field\", \"bat\", \"field\", \"bat\", \"field\", \"bat\", \"bat\", \"bat\", \"bat\", \"bat\", \"bat\", \"bat\", \"bat\", \"bat\", \"bat\", \"bat\", \"bat\", \"field\", \"bat\", \"bat\", \"field\", \"bat\", \"field\", \"field\", \"bat\", \"bat\", \"bat\", \"bat\", \"field\", \"field\", \"bat\", \"field\", \"bat\", \"bat\", \"bat\", \"bat\", \"bat\", \"bat\"], \"yaxis\": \"y\", \"type\": \"bar\"}], \"name\": \"2010\"}, {\"data\": [{\"alignmentgroup\": \"True\", \"hovertemplate\": \"season=%{x}<br>toss_decision=%{y}<extra></extra>\", \"legendgroup\": \"\", \"marker\": {\"color\": \"#636efa\"}, \"name\": \"\", \"offsetgroup\": \"\", \"orientation\": \"h\", \"showlegend\": false, \"textposition\": \"auto\", \"x\": [2011, 2011, 2011, 2011, 2011, 2011, 2011, 2011, 2011, 2011, 2011, 2011, 2011, 2011, 2011, 2011, 2011, 2011, 2011, 2011, 2011, 2011, 2011, 2011, 2011, 2011, 2011, 2011, 2011, 2011, 2011, 2011, 2011, 2011, 2011, 2011, 2011, 2011, 2011, 2011, 2011, 2011, 2011, 2011, 2011, 2011, 2011, 2011, 2011, 2011, 2011, 2011, 2011, 2011, 2011, 2011, 2011, 2011, 2011, 2011, 2011, 2011, 2011, 2011, 2011, 2011, 2011, 2011, 2011, 2011, 2011, 2011, 2011], \"xaxis\": \"x\", \"y\": [\"bat\", \"field\", \"bat\", \"bat\", \"bat\", \"bat\", \"bat\", \"field\", \"field\", \"bat\", \"field\", \"field\", \"field\", \"bat\", \"field\", \"field\", \"field\", \"field\", \"bat\", \"bat\", \"field\", \"field\", \"field\", \"field\", \"field\", \"field\", \"field\", \"field\", \"field\", \"bat\", \"field\", \"field\", \"field\", \"field\", \"bat\", \"field\", \"field\", \"bat\", \"field\", \"field\", \"field\", \"bat\", \"field\", \"field\", \"field\", \"field\", \"bat\", \"field\", \"bat\", \"bat\", \"field\", \"bat\", \"field\", \"field\", \"bat\", \"field\", \"field\", \"bat\", \"field\", \"field\", \"field\", \"bat\", \"bat\", \"field\", \"bat\", \"field\", \"bat\", \"field\", \"field\", \"field\", \"field\", \"field\", \"bat\"], \"yaxis\": \"y\", \"type\": \"bar\"}], \"name\": \"2011\"}, {\"data\": [{\"alignmentgroup\": \"True\", \"hovertemplate\": \"season=%{x}<br>toss_decision=%{y}<extra></extra>\", \"legendgroup\": \"\", \"marker\": {\"color\": \"#636efa\"}, \"name\": \"\", \"offsetgroup\": \"\", \"orientation\": \"h\", \"showlegend\": false, \"textposition\": \"auto\", \"x\": [2012, 2012, 2012, 2012, 2012, 2012, 2012, 2012, 2012, 2012, 2012, 2012, 2012, 2012, 2012, 2012, 2012, 2012, 2012, 2012, 2012, 2012, 2012, 2012, 2012, 2012, 2012, 2012, 2012, 2012, 2012, 2012, 2012, 2012, 2012, 2012, 2012, 2012, 2012, 2012, 2012, 2012, 2012, 2012, 2012, 2012, 2012, 2012, 2012, 2012, 2012, 2012, 2012, 2012, 2012, 2012, 2012, 2012, 2012, 2012, 2012, 2012, 2012, 2012, 2012, 2012, 2012, 2012, 2012, 2012, 2012, 2012, 2012, 2012], \"xaxis\": \"x\", \"y\": [\"field\", \"field\", \"field\", \"field\", \"field\", \"field\", \"field\", \"bat\", \"bat\", \"field\", \"field\", \"field\", \"bat\", \"field\", \"bat\", \"bat\", \"bat\", \"field\", \"bat\", \"field\", \"bat\", \"bat\", \"bat\", \"bat\", \"field\", \"field\", \"bat\", \"field\", \"bat\", \"field\", \"field\", \"bat\", \"bat\", \"bat\", \"field\", \"bat\", \"bat\", \"bat\", \"field\", \"bat\", \"bat\", \"bat\", \"field\", \"bat\", \"bat\", \"bat\", \"bat\", \"field\", \"field\", \"bat\", \"bat\", \"field\", \"field\", \"field\", \"field\", \"bat\", \"field\", \"bat\", \"bat\", \"field\", \"field\", \"bat\", \"field\", \"field\", \"field\", \"bat\", \"field\", \"bat\", \"field\", \"bat\", \"bat\", \"field\", \"field\", \"bat\"], \"yaxis\": \"y\", \"type\": \"bar\"}], \"name\": \"2012\"}, {\"data\": [{\"alignmentgroup\": \"True\", \"hovertemplate\": \"season=%{x}<br>toss_decision=%{y}<extra></extra>\", \"legendgroup\": \"\", \"marker\": {\"color\": \"#636efa\"}, \"name\": \"\", \"offsetgroup\": \"\", \"orientation\": \"h\", \"showlegend\": false, \"textposition\": \"auto\", \"x\": [2013, 2013, 2013, 2013, 2013, 2013, 2013, 2013, 2013, 2013, 2013, 2013, 2013, 2013, 2013, 2013, 2013, 2013, 2013, 2013, 2013, 2013, 2013, 2013, 2013, 2013, 2013, 2013, 2013, 2013, 2013, 2013, 2013, 2013, 2013, 2013, 2013, 2013, 2013, 2013, 2013, 2013, 2013, 2013, 2013, 2013, 2013, 2013, 2013, 2013, 2013, 2013, 2013, 2013, 2013, 2013, 2013, 2013, 2013, 2013, 2013, 2013, 2013, 2013, 2013, 2013, 2013, 2013, 2013, 2013, 2013, 2013, 2013, 2013, 2013, 2013], \"xaxis\": \"x\", \"y\": [\"field\", \"field\", \"field\", \"bat\", \"bat\", \"bat\", \"bat\", \"field\", \"bat\", \"field\", \"field\", \"bat\", \"bat\", \"bat\", \"field\", \"bat\", \"field\", \"bat\", \"field\", \"field\", \"field\", \"bat\", \"bat\", \"bat\", \"bat\", \"field\", \"bat\", \"field\", \"bat\", \"field\", \"field\", \"bat\", \"bat\", \"bat\", \"bat\", \"bat\", \"field\", \"field\", \"field\", \"bat\", \"bat\", \"bat\", \"bat\", \"bat\", \"bat\", \"bat\", \"bat\", \"field\", \"bat\", \"bat\", \"bat\", \"bat\", \"bat\", \"field\", \"field\", \"bat\", \"field\", \"bat\", \"field\", \"field\", \"field\", \"field\", \"bat\", \"field\", \"bat\", \"field\", \"field\", \"bat\", \"field\", \"bat\", \"field\", \"bat\", \"bat\", \"bat\", \"bat\", \"bat\"], \"yaxis\": \"y\", \"type\": \"bar\"}], \"name\": \"2013\"}, {\"data\": [{\"alignmentgroup\": \"True\", \"hovertemplate\": \"season=%{x}<br>toss_decision=%{y}<extra></extra>\", \"legendgroup\": \"\", \"marker\": {\"color\": \"#636efa\"}, \"name\": \"\", \"offsetgroup\": \"\", \"orientation\": \"h\", \"showlegend\": false, \"textposition\": \"auto\", \"x\": [2014, 2014, 2014, 2014, 2014, 2014, 2014, 2014, 2014, 2014, 2014, 2014, 2014, 2014, 2014, 2014, 2014, 2014, 2014, 2014, 2014, 2014, 2014, 2014, 2014, 2014, 2014, 2014, 2014, 2014, 2014, 2014, 2014, 2014, 2014, 2014, 2014, 2014, 2014, 2014, 2014, 2014, 2014, 2014, 2014, 2014, 2014, 2014, 2014, 2014, 2014, 2014, 2014, 2014, 2014, 2014, 2014, 2014, 2014, 2014], \"xaxis\": \"x\", \"y\": [\"bat\", \"field\", \"bat\", \"field\", \"field\", \"bat\", \"field\", \"bat\", \"field\", \"field\", \"field\", \"bat\", \"bat\", \"field\", \"field\", \"bat\", \"bat\", \"field\", \"bat\", \"field\", \"bat\", \"bat\", \"field\", \"field\", \"field\", \"field\", \"field\", \"bat\", \"field\", \"field\", \"field\", \"field\", \"field\", \"field\", \"bat\", \"bat\", \"bat\", \"field\", \"field\", \"field\", \"field\", \"bat\", \"bat\", \"bat\", \"field\", \"bat\", \"field\", \"field\", \"field\", \"field\", \"field\", \"field\", \"field\", \"field\", \"field\", \"field\", \"field\", \"field\", \"field\", \"field\"], \"yaxis\": \"y\", \"type\": \"bar\"}], \"name\": \"2014\"}, {\"data\": [{\"alignmentgroup\": \"True\", \"hovertemplate\": \"season=%{x}<br>toss_decision=%{y}<extra></extra>\", \"legendgroup\": \"\", \"marker\": {\"color\": \"#636efa\"}, \"name\": \"\", \"offsetgroup\": \"\", \"orientation\": \"h\", \"showlegend\": false, \"textposition\": \"auto\", \"x\": [2015, 2015, 2015, 2015, 2015, 2015, 2015, 2015, 2015, 2015, 2015, 2015, 2015, 2015, 2015, 2015, 2015, 2015, 2015, 2015, 2015, 2015, 2015, 2015, 2015, 2015, 2015, 2015, 2015, 2015, 2015, 2015, 2015, 2015, 2015, 2015, 2015, 2015, 2015, 2015, 2015, 2015, 2015, 2015, 2015, 2015, 2015, 2015, 2015, 2015, 2015, 2015, 2015, 2015, 2015, 2015, 2015, 2015, 2015], \"xaxis\": \"x\", \"y\": [\"field\", \"field\", \"field\", \"bat\", \"field\", \"field\", \"field\", \"field\", \"bat\", \"field\", \"bat\", \"field\", \"bat\", \"bat\", \"field\", \"bat\", \"field\", \"field\", \"field\", \"field\", \"field\", \"field\", \"field\", \"bat\", \"bat\", \"field\", \"field\", \"bat\", \"field\", \"field\", \"field\", \"field\", \"field\", \"field\", \"bat\", \"field\", \"bat\", \"field\", \"bat\", \"field\", \"field\", \"bat\", \"bat\", \"bat\", \"bat\", \"bat\", \"bat\", \"bat\", \"field\", \"field\", \"bat\", \"bat\", \"bat\", \"field\", \"bat\", \"bat\", \"bat\", \"field\", \"field\"], \"yaxis\": \"y\", \"type\": \"bar\"}], \"name\": \"2015\"}, {\"data\": [{\"alignmentgroup\": \"True\", \"hovertemplate\": \"season=%{x}<br>toss_decision=%{y}<extra></extra>\", \"legendgroup\": \"\", \"marker\": {\"color\": \"#636efa\"}, \"name\": \"\", \"offsetgroup\": \"\", \"orientation\": \"h\", \"showlegend\": false, \"textposition\": \"auto\", \"x\": [2016, 2016, 2016, 2016, 2016, 2016, 2016, 2016, 2016, 2016, 2016, 2016, 2016, 2016, 2016, 2016, 2016, 2016, 2016, 2016, 2016, 2016, 2016, 2016, 2016, 2016, 2016, 2016, 2016, 2016, 2016, 2016, 2016, 2016, 2016, 2016, 2016, 2016, 2016, 2016, 2016, 2016, 2016, 2016, 2016, 2016, 2016, 2016, 2016, 2016, 2016, 2016, 2016, 2016, 2016, 2016, 2016, 2016, 2016, 2016], \"xaxis\": \"x\", \"y\": [\"bat\", \"field\", \"field\", \"field\", \"field\", \"bat\", \"field\", \"bat\", \"field\", \"bat\", \"field\", \"field\", \"field\", \"field\", \"field\", \"field\", \"field\", \"field\", \"bat\", \"field\", \"field\", \"field\", \"field\", \"field\", \"field\", \"field\", \"field\", \"field\", \"field\", \"field\", \"field\", \"field\", \"field\", \"field\", \"field\", \"field\", \"field\", \"field\", \"field\", \"bat\", \"field\", \"field\", \"bat\", \"field\", \"bat\", \"bat\", \"field\", \"field\", \"field\", \"field\", \"field\", \"field\", \"bat\", \"field\", \"field\", \"field\", \"field\", \"field\", \"field\", \"bat\"], \"yaxis\": \"y\", \"type\": \"bar\"}], \"name\": \"2016\"}]);\n",
       "                        }).then(function(){\n",
       "                            \n",
       "var gd = document.getElementById('41fbeece-a0f7-48e9-ae79-fad1d0d07c3d');\n",
       "var x = new MutationObserver(function (mutations, observer) {{\n",
       "        var display = window.getComputedStyle(gd).display;\n",
       "        if (!display || display === 'none') {{\n",
       "            console.log([gd, 'removed!']);\n",
       "            Plotly.purge(gd);\n",
       "            observer.disconnect();\n",
       "        }}\n",
       "}});\n",
       "\n",
       "// Listen for the removal of the full notebook cells\n",
       "var notebookContainer = gd.closest('#notebook-container');\n",
       "if (notebookContainer) {{\n",
       "    x.observe(notebookContainer, {childList: true});\n",
       "}}\n",
       "\n",
       "// Listen for the clearing of the current output cell\n",
       "var outputEl = gd.closest('.output');\n",
       "if (outputEl) {{\n",
       "    x.observe(outputEl, {childList: true});\n",
       "}}\n",
       "\n",
       "                        })                };                });            </script>        </div>"
      ]
     },
     "metadata": {},
     "output_type": "display_data"
    },
    {
     "data": {
      "image/png": "[encoded data removed]",
      "text/plain": [
       "<Figure size 1080x432 with 1 Axes>"
      ]
     },
     "metadata": {
      "needs_background": "light"
     },
     "output_type": "display_data"
    }
   ],
   "source": [
    "plt.figure(figsize=(15,6))\n",
    "sns.countplot(x=\"season\",hue=\"toss_decision\",data=match_data,)\n",
    "plt.title(\"TOSS DECISIONS ACROSS SEASIONS\")\n",
    "import plotly.express as px\n",
    "#df = px.data.tips()\n",
    "fig = px.bar(match_data, x=\"season\", y=\"toss_decision\",animation_frame=\"season\",\n",
    "            height=400)\n",
    "fig.show()"
   ]
  },
  {
   "cell_type": "markdown",
   "id": "4b025d47",
   "metadata": {},
   "source": [
    "### MAXIMUM TOSS WINNERS"
   ]
  },
  {
   "cell_type": "code",
   "execution_count": 16,
   "id": "28c693a9",
   "metadata": {},
   "outputs": [
    {
     "data": {
      "text/html": [
       "<div>\n",
       "<style scoped>\n",
       "    .dataframe tbody tr th:only-of-type {\n",
       "        vertical-align: middle;\n",
       "    }\n",
       "\n",
       "    .dataframe tbody tr th {\n",
       "        vertical-align: top;\n",
       "    }\n",
       "\n",
       "    .dataframe thead th {\n",
       "        text-align: right;\n",
       "    }\n",
       "</style>\n",
       "<table border=\"1\" class=\"dataframe\">\n",
       "  <thead>\n",
       "    <tr style=\"text-align: right;\">\n",
       "      <th></th>\n",
       "      <th>teams</th>\n",
       "      <th>total_toss_wins</th>\n",
       "    </tr>\n",
       "  </thead>\n",
       "  <tbody>\n",
       "    <tr>\n",
       "      <th>0</th>\n",
       "      <td>MI</td>\n",
       "      <td>85</td>\n",
       "    </tr>\n",
       "    <tr>\n",
       "      <th>1</th>\n",
       "      <td>KKR</td>\n",
       "      <td>78</td>\n",
       "    </tr>\n",
       "    <tr>\n",
       "      <th>2</th>\n",
       "      <td>DD</td>\n",
       "      <td>72</td>\n",
       "    </tr>\n",
       "    <tr>\n",
       "      <th>3</th>\n",
       "      <td>RCB</td>\n",
       "      <td>70</td>\n",
       "    </tr>\n",
       "    <tr>\n",
       "      <th>4</th>\n",
       "      <td>KXIP</td>\n",
       "      <td>68</td>\n",
       "    </tr>\n",
       "    <tr>\n",
       "      <th>5</th>\n",
       "      <td>CSK</td>\n",
       "      <td>66</td>\n",
       "    </tr>\n",
       "    <tr>\n",
       "      <th>6</th>\n",
       "      <td>RR</td>\n",
       "      <td>63</td>\n",
       "    </tr>\n",
       "    <tr>\n",
       "      <th>7</th>\n",
       "      <td>DC</td>\n",
       "      <td>43</td>\n",
       "    </tr>\n",
       "    <tr>\n",
       "      <th>8</th>\n",
       "      <td>SRH</td>\n",
       "      <td>35</td>\n",
       "    </tr>\n",
       "    <tr>\n",
       "      <th>9</th>\n",
       "      <td>PW</td>\n",
       "      <td>20</td>\n",
       "    </tr>\n",
       "    <tr>\n",
       "      <th>10</th>\n",
       "      <td>GJ</td>\n",
       "      <td>15</td>\n",
       "    </tr>\n",
       "    <tr>\n",
       "      <th>11</th>\n",
       "      <td>RPS</td>\n",
       "      <td>13</td>\n",
       "    </tr>\n",
       "    <tr>\n",
       "      <th>12</th>\n",
       "      <td>KTK</td>\n",
       "      <td>8</td>\n",
       "    </tr>\n",
       "  </tbody>\n",
       "</table>\n",
       "</div>"
      ],
      "text/plain": [
       "   teams  total_toss_wins\n",
       "0     MI               85\n",
       "1    KKR               78\n",
       "2     DD               72\n",
       "3    RCB               70\n",
       "4   KXIP               68\n",
       "5    CSK               66\n",
       "6     RR               63\n",
       "7     DC               43\n",
       "8    SRH               35\n",
       "9     PW               20\n",
       "10    GJ               15\n",
       "11   RPS               13\n",
       "12   KTK                8"
      ]
     },
     "execution_count": 16,
     "metadata": {},
     "output_type": "execute_result"
    }
   ],
   "source": [
    "toss_winners=match_data[\"toss_winner\"].value_counts().reset_index()\n",
    "toss_winners.columns=[\"teams\",\"total_toss_wins\"]\n",
    "toss_winners"
   ]
  },
  {
   "cell_type": "code",
   "execution_count": 18,
   "id": "cedcc45d",
   "metadata": {},
   "outputs": [
    {
     "data": {
      "application/vnd.plotly.v1+json": {
       "config": {
        "plotlyServerURL": "https://plot.ly"
       },
       "data": [
        {
         "alignmentgroup": "True",
         "hovertemplate": "teams=%{x}<br>total_toss_wins=%{y}<extra></extra>",
         "legendgroup": "MI",
         "marker": {
          "color": "#636efa"
         },
         "name": "MI",
         "offsetgroup": "MI",
         "orientation": "v",
         "showlegend": true,
         "textposition": "auto",
         "type": "bar",
         "x": [
          "MI"
         ],
         "xaxis": "x",
         "y": [
          85
         ],
         "yaxis": "y"
        },
        {
         "alignmentgroup": "True",
         "hovertemplate": "teams=%{x}<br>total_toss_wins=%{y}<extra></extra>",
         "legendgroup": "KKR",
         "marker": {
          "color": "#EF553B"
         },
         "name": "KKR",
         "offsetgroup": "KKR",
         "orientation": "v",
         "showlegend": true,
         "textposition": "auto",
         "type": "bar",
         "x": [
          "KKR"
         ],
         "xaxis": "x",
         "y": [
          78
         ],
         "yaxis": "y"
        },
        {
         "alignmentgroup": "True",
         "hovertemplate": "teams=%{x}<br>total_toss_wins=%{y}<extra></extra>",
         "legendgroup": "DD",
         "marker": {
          "color": "#00cc96"
         },
         "name": "DD",
         "offsetgroup": "DD",
         "orientation": "v",
         "showlegend": true,
         "textposition": "auto",
         "type": "bar",
         "x": [
          "DD"
         ],
         "xaxis": "x",
         "y": [
          72
         ],
         "yaxis": "y"
        },
        {
         "alignmentgroup": "True",
         "hovertemplate": "teams=%{x}<br>total_toss_wins=%{y}<extra></extra>",
         "legendgroup": "RCB",
         "marker": {
          "color": "#ab63fa"
         },
         "name": "RCB",
         "offsetgroup": "RCB",
         "orientation": "v",
         "showlegend": true,
         "textposition": "auto",
         "type": "bar",
         "x": [
          "RCB"
         ],
         "xaxis": "x",
         "y": [
          70
         ],
         "yaxis": "y"
        },
        {
         "alignmentgroup": "True",
         "hovertemplate": "teams=%{x}<br>total_toss_wins=%{y}<extra></extra>",
         "legendgroup": "KXIP",
         "marker": {
          "color": "#FFA15A"
         },
         "name": "KXIP",
         "offsetgroup": "KXIP",
         "orientation": "v",
         "showlegend": true,
         "textposition": "auto",
         "type": "bar",
         "x": [
          "KXIP"
         ],
         "xaxis": "x",
         "y": [
          68
         ],
         "yaxis": "y"
        },
        {
         "alignmentgroup": "True",
         "hovertemplate": "teams=%{x}<br>total_toss_wins=%{y}<extra></extra>",
         "legendgroup": "CSK",
         "marker": {
          "color": "#19d3f3"
         },
         "name": "CSK",
         "offsetgroup": "CSK",
         "orientation": "v",
         "showlegend": true,
         "textposition": "auto",
         "type": "bar",
         "x": [
          "CSK"
         ],
         "xaxis": "x",
         "y": [
          66
         ],
         "yaxis": "y"
        },
        {
         "alignmentgroup": "True",
         "hovertemplate": "teams=%{x}<br>total_toss_wins=%{y}<extra></extra>",
         "legendgroup": "RR",
         "marker": {
          "color": "#FF6692"
         },
         "name": "RR",
         "offsetgroup": "RR",
         "orientation": "v",
         "showlegend": true,
         "textposition": "auto",
         "type": "bar",
         "x": [
          "RR"
         ],
         "xaxis": "x",
         "y": [
          63
         ],
         "yaxis": "y"
        },
        {
         "alignmentgroup": "True",
         "hovertemplate": "teams=%{x}<br>total_toss_wins=%{y}<extra></extra>",
         "legendgroup": "DC",
         "marker": {
          "color": "#B6E880"
         },
         "name": "DC",
         "offsetgroup": "DC",
         "orientation": "v",
         "showlegend": true,
         "textposition": "auto",
         "type": "bar",
         "x": [
          "DC"
         ],
         "xaxis": "x",
         "y": [
          43
         ],
         "yaxis": "y"
        },
        {
         "alignmentgroup": "True",
         "hovertemplate": "teams=%{x}<br>total_toss_wins=%{y}<extra></extra>",
         "legendgroup": "SRH",
         "marker": {
          "color": "#FF97FF"
         },
         "name": "SRH",
         "offsetgroup": "SRH",
         "orientation": "v",
         "showlegend": true,
         "textposition": "auto",
         "type": "bar",
         "x": [
          "SRH"
         ],
         "xaxis": "x",
         "y": [
          35
         ],
         "yaxis": "y"
        },
        {
         "alignmentgroup": "True",
         "hovertemplate": "teams=%{x}<br>total_toss_wins=%{y}<extra></extra>",
         "legendgroup": "PW",
         "marker": {
          "color": "#FECB52"
         },
         "name": "PW",
         "offsetgroup": "PW",
         "orientation": "v",
         "showlegend": true,
         "textposition": "auto",
         "type": "bar",
         "x": [
          "PW"
         ],
         "xaxis": "x",
         "y": [
          20
         ],
         "yaxis": "y"
        },
        {
         "alignmentgroup": "True",
         "hovertemplate": "teams=%{x}<br>total_toss_wins=%{y}<extra></extra>",
         "legendgroup": "GJ",
         "marker": {
          "color": "#636efa"
         },
         "name": "GJ",
         "offsetgroup": "GJ",
         "orientation": "v",
         "showlegend": true,
         "textposition": "auto",
         "type": "bar",
         "x": [
          "GJ"
         ],
         "xaxis": "x",
         "y": [
          15
         ],
         "yaxis": "y"
        },
        {
         "alignmentgroup": "True",
         "hovertemplate": "teams=%{x}<br>total_toss_wins=%{y}<extra></extra>",
         "legendgroup": "RPS",
         "marker": {
          "color": "#EF553B"
         },
         "name": "RPS",
         "offsetgroup": "RPS",
         "orientation": "v",
         "showlegend": true,
         "textposition": "auto",
         "type": "bar",
         "x": [
          "RPS"
         ],
         "xaxis": "x",
         "y": [
          13
         ],
         "yaxis": "y"
        },
        {
         "alignmentgroup": "True",
         "hovertemplate": "teams=%{x}<br>total_toss_wins=%{y}<extra></extra>",
         "legendgroup": "KTK",
         "marker": {
          "color": "#00cc96"
         },
         "name": "KTK",
         "offsetgroup": "KTK",
         "orientation": "v",
         "showlegend": true,
         "textposition": "auto",
         "type": "bar",
         "x": [
          "KTK"
         ],
         "xaxis": "x",
         "y": [
          8
         ],
         "yaxis": "y"
        }
       ],
       "layout": {
        "barmode": "relative",
        "height": 400,
        "legend": {
         "title": {
          "text": "teams"
         },
         "tracegroupgap": 0
        },
        "margin": {
         "t": 60
        },
        "template": {
         "data": {
          "bar": [
           {
            "error_x": {
             "color": "#2a3f5f"
            },
            "error_y": {
             "color": "#2a3f5f"
            },
            "marker": {
             "line": {
              "color": "#E5ECF6",
              "width": 0.5
             }
            },
            "type": "bar"
           }
          ],
          "barpolar": [
           {
            "marker": {
             "line": {
              "color": "#E5ECF6",
              "width": 0.5
             }
            },
            "type": "barpolar"
           }
          ],
          "carpet": [
           {
            "aaxis": {
             "endlinecolor": "#2a3f5f",
             "gridcolor": "white",
             "linecolor": "white",
             "minorgridcolor": "white",
             "startlinecolor": "#2a3f5f"
            },
            "baxis": {
             "endlinecolor": "#2a3f5f",
             "gridcolor": "white",
             "linecolor": "white",
             "minorgridcolor": "white",
             "startlinecolor": "#2a3f5f"
            },
            "type": "carpet"
           }
          ],
          "choropleth": [
           {
            "colorbar": {
             "outlinewidth": 0,
             "ticks": ""
            },
            "type": "choropleth"
           }
          ],
          "contour": [
           {
            "colorbar": {
             "outlinewidth": 0,
             "ticks": ""
            },
            "colorscale": [
             [
              0,
              "#0d0887"
             ],
             [
              0.1111111111111111,
              "#46039f"
             ],
             [
              0.2222222222222222,
              "#7201a8"
             ],
             [
              0.3333333333333333,
              "#9c179e"
             ],
             [
              0.4444444444444444,
              "#bd3786"
             ],
             [
              0.5555555555555556,
              "#d8576b"
             ],
             [
              0.6666666666666666,
              "#ed7953"
             ],
             [
              0.7777777777777778,
              "#fb9f3a"
             ],
             [
              0.8888888888888888,
              "#fdca26"
             ],
             [
              1,
              "#f0f921"
             ]
            ],
            "type": "contour"
           }
          ],
          "contourcarpet": [
           {
            "colorbar": {
             "outlinewidth": 0,
             "ticks": ""
            },
            "type": "contourcarpet"
           }
          ],
          "heatmap": [
           {
            "colorbar": {
             "outlinewidth": 0,
             "ticks": ""
            },
            "colorscale": [
             [
              0,
              "#0d0887"
             ],
             [
              0.1111111111111111,
              "#46039f"
             ],
             [
              0.2222222222222222,
              "#7201a8"
             ],
             [
              0.3333333333333333,
              "#9c179e"
             ],
             [
              0.4444444444444444,
              "#bd3786"
             ],
             [
              0.5555555555555556,
              "#d8576b"
             ],
             [
              0.6666666666666666,
              "#ed7953"
             ],
             [
              0.7777777777777778,
              "#fb9f3a"
             ],
             [
              0.8888888888888888,
              "#fdca26"
             ],
             [
              1,
              "#f0f921"
             ]
            ],
            "type": "heatmap"
           }
          ],
          "heatmapgl": [
           {
            "colorbar": {
             "outlinewidth": 0,
             "ticks": ""
            },
            "colorscale": [
             [
              0,
              "#0d0887"
             ],
             [
              0.1111111111111111,
              "#46039f"
             ],
             [
              0.2222222222222222,
              "#7201a8"
             ],
             [
              0.3333333333333333,
              "#9c179e"
             ],
             [
              0.4444444444444444,
              "#bd3786"
             ],
             [
              0.5555555555555556,
              "#d8576b"
             ],
             [
              0.6666666666666666,
              "#ed7953"
             ],
             [
              0.7777777777777778,
              "#fb9f3a"
             ],
             [
              0.8888888888888888,
              "#fdca26"
             ],
             [
              1,
              "#f0f921"
             ]
            ],
            "type": "heatmapgl"
           }
          ],
          "histogram": [
           {
            "marker": {
             "colorbar": {
              "outlinewidth": 0,
              "ticks": ""
             }
            },
            "type": "histogram"
           }
          ],
          "histogram2d": [
           {
            "colorbar": {
             "outlinewidth": 0,
             "ticks": ""
            },
            "colorscale": [
             [
              0,
              "#0d0887"
             ],
             [
              0.1111111111111111,
              "#46039f"
             ],
             [
              0.2222222222222222,
              "#7201a8"
             ],
             [
              0.3333333333333333,
              "#9c179e"
             ],
             [
              0.4444444444444444,
              "#bd3786"
             ],
             [
              0.5555555555555556,
              "#d8576b"
             ],
             [
              0.6666666666666666,
              "#ed7953"
             ],
             [
              0.7777777777777778,
              "#fb9f3a"
             ],
             [
              0.8888888888888888,
              "#fdca26"
             ],
             [
              1,
              "#f0f921"
             ]
            ],
            "type": "histogram2d"
           }
          ],
          "histogram2dcontour": [
           {
            "colorbar": {
             "outlinewidth": 0,
             "ticks": ""
            },
            "colorscale": [
             [
              0,
              "#0d0887"
             ],
             [
              0.1111111111111111,
              "#46039f"
             ],
             [
              0.2222222222222222,
              "#7201a8"
             ],
             [
              0.3333333333333333,
              "#9c179e"
             ],
             [
              0.4444444444444444,
              "#bd3786"
             ],
             [
              0.5555555555555556,
              "#d8576b"
             ],
             [
              0.6666666666666666,
              "#ed7953"
             ],
             [
              0.7777777777777778,
              "#fb9f3a"
             ],
             [
              0.8888888888888888,
              "#fdca26"
             ],
             [
              1,
              "#f0f921"
             ]
            ],
            "type": "histogram2dcontour"
           }
          ],
          "mesh3d": [
           {
            "colorbar": {
             "outlinewidth": 0,
             "ticks": ""
            },
            "type": "mesh3d"
           }
          ],
          "parcoords": [
           {
            "line": {
             "colorbar": {
              "outlinewidth": 0,
              "ticks": ""
             }
            },
            "type": "parcoords"
           }
          ],
          "pie": [
           {
            "automargin": true,
            "type": "pie"
           }
          ],
          "scatter": [
           {
            "marker": {
             "colorbar": {
              "outlinewidth": 0,
              "ticks": ""
             }
            },
            "type": "scatter"
           }
          ],
          "scatter3d": [
           {
            "line": {
             "colorbar": {
              "outlinewidth": 0,
              "ticks": ""
             }
            },
            "marker": {
             "colorbar": {
              "outlinewidth": 0,
              "ticks": ""
             }
            },
            "type": "scatter3d"
           }
          ],
          "scattercarpet": [
           {
            "marker": {
             "colorbar": {
              "outlinewidth": 0,
              "ticks": ""
             }
            },
            "type": "scattercarpet"
           }
          ],
          "scattergeo": [
           {
            "marker": {
             "colorbar": {
              "outlinewidth": 0,
              "ticks": ""
             }
            },
            "type": "scattergeo"
           }
          ],
          "scattergl": [
           {
            "marker": {
             "colorbar": {
              "outlinewidth": 0,
              "ticks": ""
             }
            },
            "type": "scattergl"
           }
          ],
          "scattermapbox": [
           {
            "marker": {
             "colorbar": {
              "outlinewidth": 0,
              "ticks": ""
             }
            },
            "type": "scattermapbox"
           }
          ],
          "scatterpolar": [
           {
            "marker": {
             "colorbar": {
              "outlinewidth": 0,
              "ticks": ""
             }
            },
            "type": "scatterpolar"
           }
          ],
          "scatterpolargl": [
           {
            "marker": {
             "colorbar": {
              "outlinewidth": 0,
              "ticks": ""
             }
            },
            "type": "scatterpolargl"
           }
          ],
          "scatterternary": [
           {
            "marker": {
             "colorbar": {
              "outlinewidth": 0,
              "ticks": ""
             }
            },
            "type": "scatterternary"
           }
          ],
          "surface": [
           {
            "colorbar": {
             "outlinewidth": 0,
             "ticks": ""
            },
            "colorscale": [
             [
              0,
              "#0d0887"
             ],
             [
              0.1111111111111111,
              "#46039f"
             ],
             [
              0.2222222222222222,
              "#7201a8"
             ],
             [
              0.3333333333333333,
              "#9c179e"
             ],
             [
              0.4444444444444444,
              "#bd3786"
             ],
             [
              0.5555555555555556,
              "#d8576b"
             ],
             [
              0.6666666666666666,
              "#ed7953"
             ],
             [
              0.7777777777777778,
              "#fb9f3a"
             ],
             [
              0.8888888888888888,
              "#fdca26"
             ],
             [
              1,
              "#f0f921"
             ]
            ],
            "type": "surface"
           }
          ],
          "table": [
           {
            "cells": {
             "fill": {
              "color": "#EBF0F8"
             },
             "line": {
              "color": "white"
             }
            },
            "header": {
             "fill": {
              "color": "#C8D4E3"
             },
             "line": {
              "color": "white"
             }
            },
            "type": "table"
           }
          ]
         },
         "layout": {
          "annotationdefaults": {
           "arrowcolor": "#2a3f5f",
           "arrowhead": 0,
           "arrowwidth": 1
          },
          "autotypenumbers": "strict",
          "coloraxis": {
           "colorbar": {
            "outlinewidth": 0,
            "ticks": ""
           }
          },
          "colorscale": {
           "diverging": [
            [
             0,
             "#8e0152"
            ],
            [
             0.1,
             "#c51b7d"
            ],
            [
             0.2,
             "#de77ae"
            ],
            [
             0.3,
             "#f1b6da"
            ],
            [
             0.4,
             "#fde0ef"
            ],
            [
             0.5,
             "#f7f7f7"
            ],
            [
             0.6,
             "#e6f5d0"
            ],
            [
             0.7,
             "#b8e186"
            ],
            [
             0.8,
             "#7fbc41"
            ],
            [
             0.9,
             "#4d9221"
            ],
            [
             1,
             "#276419"
            ]
           ],
           "sequential": [
            [
             0,
             "#0d0887"
            ],
            [
             0.1111111111111111,
             "#46039f"
            ],
            [
             0.2222222222222222,
             "#7201a8"
            ],
            [
             0.3333333333333333,
             "#9c179e"
            ],
            [
             0.4444444444444444,
             "#bd3786"
            ],
            [
             0.5555555555555556,
             "#d8576b"
            ],
            [
             0.6666666666666666,
             "#ed7953"
            ],
            [
             0.7777777777777778,
             "#fb9f3a"
            ],
            [
             0.8888888888888888,
             "#fdca26"
            ],
            [
             1,
             "#f0f921"
            ]
           ],
           "sequentialminus": [
            [
             0,
             "#0d0887"
            ],
            [
             0.1111111111111111,
             "#46039f"
            ],
            [
             0.2222222222222222,
             "#7201a8"
            ],
            [
             0.3333333333333333,
             "#9c179e"
            ],
            [
             0.4444444444444444,
             "#bd3786"
            ],
            [
             0.5555555555555556,
             "#d8576b"
            ],
            [
             0.6666666666666666,
             "#ed7953"
            ],
            [
             0.7777777777777778,
             "#fb9f3a"
            ],
            [
             0.8888888888888888,
             "#fdca26"
            ],
            [
             1,
             "#f0f921"
            ]
           ]
          },
          "colorway": [
           "#636efa",
           "#EF553B",
           "#00cc96",
           "#ab63fa",
           "#FFA15A",
           "#19d3f3",
           "#FF6692",
           "#B6E880",
           "#FF97FF",
           "#FECB52"
          ],
          "font": {
           "color": "#2a3f5f"
          },
          "geo": {
           "bgcolor": "white",
           "lakecolor": "white",
           "landcolor": "#E5ECF6",
           "showlakes": true,
           "showland": true,
           "subunitcolor": "white"
          },
          "hoverlabel": {
           "align": "left"
          },
          "hovermode": "closest",
          "mapbox": {
           "style": "light"
          },
          "paper_bgcolor": "white",
          "plot_bgcolor": "#E5ECF6",
          "polar": {
           "angularaxis": {
            "gridcolor": "white",
            "linecolor": "white",
            "ticks": ""
           },
           "bgcolor": "#E5ECF6",
           "radialaxis": {
            "gridcolor": "white",
            "linecolor": "white",
            "ticks": ""
           }
          },
          "scene": {
           "xaxis": {
            "backgroundcolor": "#E5ECF6",
            "gridcolor": "white",
            "gridwidth": 2,
            "linecolor": "white",
            "showbackground": true,
            "ticks": "",
            "zerolinecolor": "white"
           },
           "yaxis": {
            "backgroundcolor": "#E5ECF6",
            "gridcolor": "white",
            "gridwidth": 2,
            "linecolor": "white",
            "showbackground": true,
            "ticks": "",
            "zerolinecolor": "white"
           },
           "zaxis": {
            "backgroundcolor": "#E5ECF6",
            "gridcolor": "white",
            "gridwidth": 2,
            "linecolor": "white",
            "showbackground": true,
            "ticks": "",
            "zerolinecolor": "white"
           }
          },
          "shapedefaults": {
           "line": {
            "color": "#2a3f5f"
           }
          },
          "ternary": {
           "aaxis": {
            "gridcolor": "white",
            "linecolor": "white",
            "ticks": ""
           },
           "baxis": {
            "gridcolor": "white",
            "linecolor": "white",
            "ticks": ""
           },
           "bgcolor": "#E5ECF6",
           "caxis": {
            "gridcolor": "white",
            "linecolor": "white",
            "ticks": ""
           }
          },
          "title": {
           "x": 0.05
          },
          "xaxis": {
           "automargin": true,
           "gridcolor": "white",
           "linecolor": "white",
           "ticks": "",
           "title": {
            "standoff": 15
           },
           "zerolinecolor": "white",
           "zerolinewidth": 2
          },
          "yaxis": {
           "automargin": true,
           "gridcolor": "white",
           "linecolor": "white",
           "ticks": "",
           "title": {
            "standoff": 15
           },
           "zerolinecolor": "white",
           "zerolinewidth": 2
          }
         }
        },
        "xaxis": {
         "anchor": "y",
         "categoryarray": [
          "MI",
          "KKR",
          "DD",
          "RCB",
          "KXIP",
          "CSK",
          "RR",
          "DC",
          "SRH",
          "PW",
          "GJ",
          "RPS",
          "KTK"
         ],
         "categoryorder": "array",
         "domain": [
          0,
          1
         ],
         "title": {
          "text": "teams"
         }
        },
        "yaxis": {
         "anchor": "x",
         "domain": [
          0,
          1
         ],
         "title": {
          "text": "total_toss_wins"
         }
        }
       }
      },
      "text/html": [
       "<div>                            <div id=\"76787088-3b50-4e27-bf02-52f49d728d99\" class=\"plotly-graph-div\" style=\"height:400px; width:100%;\"></div>            <script type=\"text/javascript\">                require([\"plotly\"], function(Plotly) {                    window.PLOTLYENV=window.PLOTLYENV || {};                                    if (document.getElementById(\"76787088-3b50-4e27-bf02-52f49d728d99\")) {                    Plotly.newPlot(                        \"76787088-3b50-4e27-bf02-52f49d728d99\",                        [{\"alignmentgroup\": \"True\", \"hovertemplate\": \"teams=%{x}<br>total_toss_wins=%{y}<extra></extra>\", \"legendgroup\": \"MI\", \"marker\": {\"color\": \"#636efa\"}, \"name\": \"MI\", \"offsetgroup\": \"MI\", \"orientation\": \"v\", \"showlegend\": true, \"textposition\": \"auto\", \"type\": \"bar\", \"x\": [\"MI\"], \"xaxis\": \"x\", \"y\": [85], \"yaxis\": \"y\"}, {\"alignmentgroup\": \"True\", \"hovertemplate\": \"teams=%{x}<br>total_toss_wins=%{y}<extra></extra>\", \"legendgroup\": \"KKR\", \"marker\": {\"color\": \"#EF553B\"}, \"name\": \"KKR\", \"offsetgroup\": \"KKR\", \"orientation\": \"v\", \"showlegend\": true, \"textposition\": \"auto\", \"type\": \"bar\", \"x\": [\"KKR\"], \"xaxis\": \"x\", \"y\": [78], \"yaxis\": \"y\"}, {\"alignmentgroup\": \"True\", \"hovertemplate\": \"teams=%{x}<br>total_toss_wins=%{y}<extra></extra>\", \"legendgroup\": \"DD\", \"marker\": {\"color\": \"#00cc96\"}, \"name\": \"DD\", \"offsetgroup\": \"DD\", \"orientation\": \"v\", \"showlegend\": true, \"textposition\": \"auto\", \"type\": \"bar\", \"x\": [\"DD\"], \"xaxis\": \"x\", \"y\": [72], \"yaxis\": \"y\"}, {\"alignmentgroup\": \"True\", \"hovertemplate\": \"teams=%{x}<br>total_toss_wins=%{y}<extra></extra>\", \"legendgroup\": \"RCB\", \"marker\": {\"color\": \"#ab63fa\"}, \"name\": \"RCB\", \"offsetgroup\": \"RCB\", \"orientation\": \"v\", \"showlegend\": true, \"textposition\": \"auto\", \"type\": \"bar\", \"x\": [\"RCB\"], \"xaxis\": \"x\", \"y\": [70], \"yaxis\": \"y\"}, {\"alignmentgroup\": \"True\", \"hovertemplate\": \"teams=%{x}<br>total_toss_wins=%{y}<extra></extra>\", \"legendgroup\": \"KXIP\", \"marker\": {\"color\": \"#FFA15A\"}, \"name\": \"KXIP\", \"offsetgroup\": \"KXIP\", \"orientation\": \"v\", \"showlegend\": true, \"textposition\": \"auto\", \"type\": \"bar\", \"x\": [\"KXIP\"], \"xaxis\": \"x\", \"y\": [68], \"yaxis\": \"y\"}, {\"alignmentgroup\": \"True\", \"hovertemplate\": \"teams=%{x}<br>total_toss_wins=%{y}<extra></extra>\", \"legendgroup\": \"CSK\", \"marker\": {\"color\": \"#19d3f3\"}, \"name\": \"CSK\", \"offsetgroup\": \"CSK\", \"orientation\": \"v\", \"showlegend\": true, \"textposition\": \"auto\", \"type\": \"bar\", \"x\": [\"CSK\"], \"xaxis\": \"x\", \"y\": [66], \"yaxis\": \"y\"}, {\"alignmentgroup\": \"True\", \"hovertemplate\": \"teams=%{x}<br>total_toss_wins=%{y}<extra></extra>\", \"legendgroup\": \"RR\", \"marker\": {\"color\": \"#FF6692\"}, \"name\": \"RR\", \"offsetgroup\": \"RR\", \"orientation\": \"v\", \"showlegend\": true, \"textposition\": \"auto\", \"type\": \"bar\", \"x\": [\"RR\"], \"xaxis\": \"x\", \"y\": [63], \"yaxis\": \"y\"}, {\"alignmentgroup\": \"True\", \"hovertemplate\": \"teams=%{x}<br>total_toss_wins=%{y}<extra></extra>\", \"legendgroup\": \"DC\", \"marker\": {\"color\": \"#B6E880\"}, \"name\": \"DC\", \"offsetgroup\": \"DC\", \"orientation\": \"v\", \"showlegend\": true, \"textposition\": \"auto\", \"type\": \"bar\", \"x\": [\"DC\"], \"xaxis\": \"x\", \"y\": [43], \"yaxis\": \"y\"}, {\"alignmentgroup\": \"True\", \"hovertemplate\": \"teams=%{x}<br>total_toss_wins=%{y}<extra></extra>\", \"legendgroup\": \"SRH\", \"marker\": {\"color\": \"#FF97FF\"}, \"name\": \"SRH\", \"offsetgroup\": \"SRH\", \"orientation\": \"v\", \"showlegend\": true, \"textposition\": \"auto\", \"type\": \"bar\", \"x\": [\"SRH\"], \"xaxis\": \"x\", \"y\": [35], \"yaxis\": \"y\"}, {\"alignmentgroup\": \"True\", \"hovertemplate\": \"teams=%{x}<br>total_toss_wins=%{y}<extra></extra>\", \"legendgroup\": \"PW\", \"marker\": {\"color\": \"#FECB52\"}, \"name\": \"PW\", \"offsetgroup\": \"PW\", \"orientation\": \"v\", \"showlegend\": true, \"textposition\": \"auto\", \"type\": \"bar\", \"x\": [\"PW\"], \"xaxis\": \"x\", \"y\": [20], \"yaxis\": \"y\"}, {\"alignmentgroup\": \"True\", \"hovertemplate\": \"teams=%{x}<br>total_toss_wins=%{y}<extra></extra>\", \"legendgroup\": \"GJ\", \"marker\": {\"color\": \"#636efa\"}, \"name\": \"GJ\", \"offsetgroup\": \"GJ\", \"orientation\": \"v\", \"showlegend\": true, \"textposition\": \"auto\", \"type\": \"bar\", \"x\": [\"GJ\"], \"xaxis\": \"x\", \"y\": [15], \"yaxis\": \"y\"}, {\"alignmentgroup\": \"True\", \"hovertemplate\": \"teams=%{x}<br>total_toss_wins=%{y}<extra></extra>\", \"legendgroup\": \"RPS\", \"marker\": {\"color\": \"#EF553B\"}, \"name\": \"RPS\", \"offsetgroup\": \"RPS\", \"orientation\": \"v\", \"showlegend\": true, \"textposition\": \"auto\", \"type\": \"bar\", \"x\": [\"RPS\"], \"xaxis\": \"x\", \"y\": [13], \"yaxis\": \"y\"}, {\"alignmentgroup\": \"True\", \"hovertemplate\": \"teams=%{x}<br>total_toss_wins=%{y}<extra></extra>\", \"legendgroup\": \"KTK\", \"marker\": {\"color\": \"#00cc96\"}, \"name\": \"KTK\", \"offsetgroup\": \"KTK\", \"orientation\": \"v\", \"showlegend\": true, \"textposition\": \"auto\", \"type\": \"bar\", \"x\": [\"KTK\"], \"xaxis\": \"x\", \"y\": [8], \"yaxis\": \"y\"}],                        {\"barmode\": \"relative\", \"height\": 400, \"legend\": {\"title\": {\"text\": \"teams\"}, \"tracegroupgap\": 0}, \"margin\": {\"t\": 60}, \"template\": {\"data\": {\"bar\": [{\"error_x\": {\"color\": \"#2a3f5f\"}, \"error_y\": {\"color\": \"#2a3f5f\"}, \"marker\": {\"line\": {\"color\": \"#E5ECF6\", \"width\": 0.5}}, \"type\": \"bar\"}], \"barpolar\": [{\"marker\": {\"line\": {\"color\": \"#E5ECF6\", \"width\": 0.5}}, \"type\": \"barpolar\"}], \"carpet\": [{\"aaxis\": {\"endlinecolor\": \"#2a3f5f\", \"gridcolor\": \"white\", \"linecolor\": \"white\", \"minorgridcolor\": \"white\", \"startlinecolor\": \"#2a3f5f\"}, \"baxis\": {\"endlinecolor\": \"#2a3f5f\", \"gridcolor\": \"white\", \"linecolor\": \"white\", \"minorgridcolor\": \"white\", \"startlinecolor\": \"#2a3f5f\"}, \"type\": \"carpet\"}], \"choropleth\": [{\"colorbar\": {\"outlinewidth\": 0, \"ticks\": \"\"}, \"type\": \"choropleth\"}], \"contour\": [{\"colorbar\": {\"outlinewidth\": 0, \"ticks\": \"\"}, \"colorscale\": [[0.0, \"#0d0887\"], [0.1111111111111111, \"#46039f\"], [0.2222222222222222, \"#7201a8\"], [0.3333333333333333, \"#9c179e\"], [0.4444444444444444, \"#bd3786\"], [0.5555555555555556, \"#d8576b\"], [0.6666666666666666, \"#ed7953\"], [0.7777777777777778, \"#fb9f3a\"], [0.8888888888888888, \"#fdca26\"], [1.0, \"#f0f921\"]], \"type\": \"contour\"}], \"contourcarpet\": [{\"colorbar\": {\"outlinewidth\": 0, \"ticks\": \"\"}, \"type\": \"contourcarpet\"}], \"heatmap\": [{\"colorbar\": {\"outlinewidth\": 0, \"ticks\": \"\"}, \"colorscale\": [[0.0, \"#0d0887\"], [0.1111111111111111, \"#46039f\"], [0.2222222222222222, \"#7201a8\"], [0.3333333333333333, \"#9c179e\"], [0.4444444444444444, \"#bd3786\"], [0.5555555555555556, \"#d8576b\"], [0.6666666666666666, \"#ed7953\"], [0.7777777777777778, \"#fb9f3a\"], [0.8888888888888888, \"#fdca26\"], [1.0, \"#f0f921\"]], \"type\": \"heatmap\"}], \"heatmapgl\": [{\"colorbar\": {\"outlinewidth\": 0, \"ticks\": \"\"}, \"colorscale\": [[0.0, \"#0d0887\"], [0.1111111111111111, \"#46039f\"], [0.2222222222222222, \"#7201a8\"], [0.3333333333333333, \"#9c179e\"], [0.4444444444444444, \"#bd3786\"], [0.5555555555555556, \"#d8576b\"], [0.6666666666666666, \"#ed7953\"], [0.7777777777777778, \"#fb9f3a\"], [0.8888888888888888, \"#fdca26\"], [1.0, \"#f0f921\"]], \"type\": \"heatmapgl\"}], \"histogram\": [{\"marker\": {\"colorbar\": {\"outlinewidth\": 0, \"ticks\": \"\"}}, \"type\": \"histogram\"}], \"histogram2d\": [{\"colorbar\": {\"outlinewidth\": 0, \"ticks\": \"\"}, \"colorscale\": [[0.0, \"#0d0887\"], [0.1111111111111111, \"#46039f\"], [0.2222222222222222, \"#7201a8\"], [0.3333333333333333, \"#9c179e\"], [0.4444444444444444, \"#bd3786\"], [0.5555555555555556, \"#d8576b\"], [0.6666666666666666, \"#ed7953\"], [0.7777777777777778, \"#fb9f3a\"], [0.8888888888888888, \"#fdca26\"], [1.0, \"#f0f921\"]], \"type\": \"histogram2d\"}], \"histogram2dcontour\": [{\"colorbar\": {\"outlinewidth\": 0, \"ticks\": \"\"}, \"colorscale\": [[0.0, \"#0d0887\"], [0.1111111111111111, \"#46039f\"], [0.2222222222222222, \"#7201a8\"], [0.3333333333333333, \"#9c179e\"], [0.4444444444444444, \"#bd3786\"], [0.5555555555555556, \"#d8576b\"], [0.6666666666666666, \"#ed7953\"], [0.7777777777777778, \"#fb9f3a\"], [0.8888888888888888, \"#fdca26\"], [1.0, \"#f0f921\"]], \"type\": \"histogram2dcontour\"}], \"mesh3d\": [{\"colorbar\": {\"outlinewidth\": 0, \"ticks\": \"\"}, \"type\": \"mesh3d\"}], \"parcoords\": [{\"line\": {\"colorbar\": {\"outlinewidth\": 0, \"ticks\": \"\"}}, \"type\": \"parcoords\"}], \"pie\": [{\"automargin\": true, \"type\": \"pie\"}], \"scatter\": [{\"marker\": {\"colorbar\": {\"outlinewidth\": 0, \"ticks\": \"\"}}, \"type\": \"scatter\"}], \"scatter3d\": [{\"line\": {\"colorbar\": {\"outlinewidth\": 0, \"ticks\": \"\"}}, \"marker\": {\"colorbar\": {\"outlinewidth\": 0, \"ticks\": \"\"}}, \"type\": \"scatter3d\"}], \"scattercarpet\": [{\"marker\": {\"colorbar\": {\"outlinewidth\": 0, \"ticks\": \"\"}}, \"type\": \"scattercarpet\"}], \"scattergeo\": [{\"marker\": {\"colorbar\": {\"outlinewidth\": 0, \"ticks\": \"\"}}, \"type\": \"scattergeo\"}], \"scattergl\": [{\"marker\": {\"colorbar\": {\"outlinewidth\": 0, \"ticks\": \"\"}}, \"type\": \"scattergl\"}], \"scattermapbox\": [{\"marker\": {\"colorbar\": {\"outlinewidth\": 0, \"ticks\": \"\"}}, \"type\": \"scattermapbox\"}], \"scatterpolar\": [{\"marker\": {\"colorbar\": {\"outlinewidth\": 0, \"ticks\": \"\"}}, \"type\": \"scatterpolar\"}], \"scatterpolargl\": [{\"marker\": {\"colorbar\": {\"outlinewidth\": 0, \"ticks\": \"\"}}, \"type\": \"scatterpolargl\"}], \"scatterternary\": [{\"marker\": {\"colorbar\": {\"outlinewidth\": 0, \"ticks\": \"\"}}, \"type\": \"scatterternary\"}], \"surface\": [{\"colorbar\": {\"outlinewidth\": 0, \"ticks\": \"\"}, \"colorscale\": [[0.0, \"#0d0887\"], [0.1111111111111111, \"#46039f\"], [0.2222222222222222, \"#7201a8\"], [0.3333333333333333, \"#9c179e\"], [0.4444444444444444, \"#bd3786\"], [0.5555555555555556, \"#d8576b\"], [0.6666666666666666, \"#ed7953\"], [0.7777777777777778, \"#fb9f3a\"], [0.8888888888888888, \"#fdca26\"], [1.0, \"#f0f921\"]], \"type\": \"surface\"}], \"table\": [{\"cells\": {\"fill\": {\"color\": \"#EBF0F8\"}, \"line\": {\"color\": \"white\"}}, \"header\": {\"fill\": {\"color\": \"#C8D4E3\"}, \"line\": {\"color\": \"white\"}}, \"type\": \"table\"}]}, \"layout\": {\"annotationdefaults\": {\"arrowcolor\": \"#2a3f5f\", \"arrowhead\": 0, \"arrowwidth\": 1}, \"autotypenumbers\": \"strict\", \"coloraxis\": {\"colorbar\": {\"outlinewidth\": 0, \"ticks\": \"\"}}, \"colorscale\": {\"diverging\": [[0, \"#8e0152\"], [0.1, \"#c51b7d\"], [0.2, \"#de77ae\"], [0.3, \"#f1b6da\"], [0.4, \"#fde0ef\"], [0.5, \"#f7f7f7\"], [0.6, \"#e6f5d0\"], [0.7, \"#b8e186\"], [0.8, \"#7fbc41\"], [0.9, \"#4d9221\"], [1, \"#276419\"]], \"sequential\": [[0.0, \"#0d0887\"], [0.1111111111111111, \"#46039f\"], [0.2222222222222222, \"#7201a8\"], [0.3333333333333333, \"#9c179e\"], [0.4444444444444444, \"#bd3786\"], [0.5555555555555556, \"#d8576b\"], [0.6666666666666666, \"#ed7953\"], [0.7777777777777778, \"#fb9f3a\"], [0.8888888888888888, \"#fdca26\"], [1.0, \"#f0f921\"]], \"sequentialminus\": [[0.0, \"#0d0887\"], [0.1111111111111111, \"#46039f\"], [0.2222222222222222, \"#7201a8\"], [0.3333333333333333, \"#9c179e\"], [0.4444444444444444, \"#bd3786\"], [0.5555555555555556, \"#d8576b\"], [0.6666666666666666, \"#ed7953\"], [0.7777777777777778, \"#fb9f3a\"], [0.8888888888888888, \"#fdca26\"], [1.0, \"#f0f921\"]]}, \"colorway\": [\"#636efa\", \"#EF553B\", \"#00cc96\", \"#ab63fa\", \"#FFA15A\", \"#19d3f3\", \"#FF6692\", \"#B6E880\", \"#FF97FF\", \"#FECB52\"], \"font\": {\"color\": \"#2a3f5f\"}, \"geo\": {\"bgcolor\": \"white\", \"lakecolor\": \"white\", \"landcolor\": \"#E5ECF6\", \"showlakes\": true, \"showland\": true, \"subunitcolor\": \"white\"}, \"hoverlabel\": {\"align\": \"left\"}, \"hovermode\": \"closest\", \"mapbox\": {\"style\": \"light\"}, \"paper_bgcolor\": \"white\", \"plot_bgcolor\": \"#E5ECF6\", \"polar\": {\"angularaxis\": {\"gridcolor\": \"white\", \"linecolor\": \"white\", \"ticks\": \"\"}, \"bgcolor\": \"#E5ECF6\", \"radialaxis\": {\"gridcolor\": \"white\", \"linecolor\": \"white\", \"ticks\": \"\"}}, \"scene\": {\"xaxis\": {\"backgroundcolor\": \"#E5ECF6\", \"gridcolor\": \"white\", \"gridwidth\": 2, \"linecolor\": \"white\", \"showbackground\": true, \"ticks\": \"\", \"zerolinecolor\": \"white\"}, \"yaxis\": {\"backgroundcolor\": \"#E5ECF6\", \"gridcolor\": \"white\", \"gridwidth\": 2, \"linecolor\": \"white\", \"showbackground\": true, \"ticks\": \"\", \"zerolinecolor\": \"white\"}, \"zaxis\": {\"backgroundcolor\": \"#E5ECF6\", \"gridcolor\": \"white\", \"gridwidth\": 2, \"linecolor\": \"white\", \"showbackground\": true, \"ticks\": \"\", \"zerolinecolor\": \"white\"}}, \"shapedefaults\": {\"line\": {\"color\": \"#2a3f5f\"}}, \"ternary\": {\"aaxis\": {\"gridcolor\": \"white\", \"linecolor\": \"white\", \"ticks\": \"\"}, \"baxis\": {\"gridcolor\": \"white\", \"linecolor\": \"white\", \"ticks\": \"\"}, \"bgcolor\": \"#E5ECF6\", \"caxis\": {\"gridcolor\": \"white\", \"linecolor\": \"white\", \"ticks\": \"\"}}, \"title\": {\"x\": 0.05}, \"xaxis\": {\"automargin\": true, \"gridcolor\": \"white\", \"linecolor\": \"white\", \"ticks\": \"\", \"title\": {\"standoff\": 15}, \"zerolinecolor\": \"white\", \"zerolinewidth\": 2}, \"yaxis\": {\"automargin\": true, \"gridcolor\": \"white\", \"linecolor\": \"white\", \"ticks\": \"\", \"title\": {\"standoff\": 15}, \"zerolinecolor\": \"white\", \"zerolinewidth\": 2}}}, \"xaxis\": {\"anchor\": \"y\", \"categoryarray\": [\"MI\", \"KKR\", \"DD\", \"RCB\", \"KXIP\", \"CSK\", \"RR\", \"DC\", \"SRH\", \"PW\", \"GJ\", \"RPS\", \"KTK\"], \"categoryorder\": \"array\", \"domain\": [0.0, 1.0], \"title\": {\"text\": \"teams\"}}, \"yaxis\": {\"anchor\": \"x\", \"domain\": [0.0, 1.0], \"title\": {\"text\": \"total_toss_wins\"}}},                        {\"responsive\": true}                    ).then(function(){\n",
       "                            \n",
       "var gd = document.getElementById('76787088-3b50-4e27-bf02-52f49d728d99');\n",
       "var x = new MutationObserver(function (mutations, observer) {{\n",
       "        var display = window.getComputedStyle(gd).display;\n",
       "        if (!display || display === 'none') {{\n",
       "            console.log([gd, 'removed!']);\n",
       "            Plotly.purge(gd);\n",
       "            observer.disconnect();\n",
       "        }}\n",
       "}});\n",
       "\n",
       "// Listen for the removal of the full notebook cells\n",
       "var notebookContainer = gd.closest('#notebook-container');\n",
       "if (notebookContainer) {{\n",
       "    x.observe(notebookContainer, {childList: true});\n",
       "}}\n",
       "\n",
       "// Listen for the clearing of the current output cell\n",
       "var outputEl = gd.closest('.output');\n",
       "if (outputEl) {{\n",
       "    x.observe(outputEl, {childList: true});\n",
       "}}\n",
       "\n",
       "                        })                };                });            </script>        </div>"
      ]
     },
     "metadata": {},
     "output_type": "display_data"
    }
   ],
   "source": [
    "\n",
    "import plotly.express as px\n",
    "fig = px.bar(toss_winners, x='teams', y='total_toss_wins',color='teams',height=400)\n",
    "fig.show()"
   ]
  },
  {
   "cell_type": "markdown",
   "id": "12524121",
   "metadata": {},
   "source": [
    "#### TOTAL MATCHES VS WINS FOR TEAMS"
   ]
  },
  {
   "cell_type": "code",
   "execution_count": 20,
   "id": "ea1b112f",
   "metadata": {},
   "outputs": [
    {
     "data": {
      "text/html": [
       "<div>\n",
       "<style scoped>\n",
       "    .dataframe tbody tr th:only-of-type {\n",
       "        vertical-align: middle;\n",
       "    }\n",
       "\n",
       "    .dataframe tbody tr th {\n",
       "        vertical-align: top;\n",
       "    }\n",
       "\n",
       "    .dataframe thead th {\n",
       "        text-align: right;\n",
       "    }\n",
       "</style>\n",
       "<table border=\"1\" class=\"dataframe\">\n",
       "  <thead>\n",
       "    <tr style=\"text-align: right;\">\n",
       "      <th></th>\n",
       "      <th>Team</th>\n",
       "      <th>Matches_played</th>\n",
       "    </tr>\n",
       "  </thead>\n",
       "  <tbody>\n",
       "    <tr>\n",
       "      <th>0</th>\n",
       "      <td>CSK</td>\n",
       "      <td>131</td>\n",
       "    </tr>\n",
       "    <tr>\n",
       "      <th>1</th>\n",
       "      <td>DC</td>\n",
       "      <td>75</td>\n",
       "    </tr>\n",
       "    <tr>\n",
       "      <th>2</th>\n",
       "      <td>DD</td>\n",
       "      <td>147</td>\n",
       "    </tr>\n",
       "    <tr>\n",
       "      <th>3</th>\n",
       "      <td>GJ</td>\n",
       "      <td>30</td>\n",
       "    </tr>\n",
       "    <tr>\n",
       "      <th>4</th>\n",
       "      <td>KKR</td>\n",
       "      <td>148</td>\n",
       "    </tr>\n",
       "    <tr>\n",
       "      <th>5</th>\n",
       "      <td>KTK</td>\n",
       "      <td>14</td>\n",
       "    </tr>\n",
       "    <tr>\n",
       "      <th>6</th>\n",
       "      <td>KXIP</td>\n",
       "      <td>148</td>\n",
       "    </tr>\n",
       "    <tr>\n",
       "      <th>7</th>\n",
       "      <td>MI</td>\n",
       "      <td>157</td>\n",
       "    </tr>\n",
       "    <tr>\n",
       "      <th>8</th>\n",
       "      <td>PW</td>\n",
       "      <td>46</td>\n",
       "    </tr>\n",
       "    <tr>\n",
       "      <th>9</th>\n",
       "      <td>RCB</td>\n",
       "      <td>152</td>\n",
       "    </tr>\n",
       "    <tr>\n",
       "      <th>10</th>\n",
       "      <td>RPS</td>\n",
       "      <td>30</td>\n",
       "    </tr>\n",
       "    <tr>\n",
       "      <th>11</th>\n",
       "      <td>RR</td>\n",
       "      <td>118</td>\n",
       "    </tr>\n",
       "    <tr>\n",
       "      <th>12</th>\n",
       "      <td>SRH</td>\n",
       "      <td>76</td>\n",
       "    </tr>\n",
       "  </tbody>\n",
       "</table>\n",
       "</div>"
      ],
      "text/plain": [
       "    Team  Matches_played\n",
       "0    CSK             131\n",
       "1     DC              75\n",
       "2     DD             147\n",
       "3     GJ              30\n",
       "4    KKR             148\n",
       "5    KTK              14\n",
       "6   KXIP             148\n",
       "7     MI             157\n",
       "8     PW              46\n",
       "9    RCB             152\n",
       "10   RPS              30\n",
       "11    RR             118\n",
       "12   SRH              76"
      ]
     },
     "execution_count": 20,
     "metadata": {},
     "output_type": "execute_result"
    }
   ],
   "source": [
    "played=(match_data[\"team1\"].value_counts()+match_data[\"team2\"].value_counts()).reset_index()\n",
    "played.columns=[\"Team\",\"Matches_played\"]\n",
    "played"
   ]
  },
  {
   "cell_type": "code",
   "execution_count": 21,
   "id": "f49b5996",
   "metadata": {},
   "outputs": [
    {
     "data": {
      "text/html": [
       "<div>\n",
       "<style scoped>\n",
       "    .dataframe tbody tr th:only-of-type {\n",
       "        vertical-align: middle;\n",
       "    }\n",
       "\n",
       "    .dataframe tbody tr th {\n",
       "        vertical-align: top;\n",
       "    }\n",
       "\n",
       "    .dataframe thead th {\n",
       "        text-align: right;\n",
       "    }\n",
       "</style>\n",
       "<table border=\"1\" class=\"dataframe\">\n",
       "  <thead>\n",
       "    <tr style=\"text-align: right;\">\n",
       "      <th></th>\n",
       "      <th>Team</th>\n",
       "      <th>Matches_wins</th>\n",
       "    </tr>\n",
       "  </thead>\n",
       "  <tbody>\n",
       "    <tr>\n",
       "      <th>0</th>\n",
       "      <td>MI</td>\n",
       "      <td>92</td>\n",
       "    </tr>\n",
       "    <tr>\n",
       "      <th>1</th>\n",
       "      <td>CSK</td>\n",
       "      <td>79</td>\n",
       "    </tr>\n",
       "    <tr>\n",
       "      <th>2</th>\n",
       "      <td>KKR</td>\n",
       "      <td>77</td>\n",
       "    </tr>\n",
       "    <tr>\n",
       "      <th>3</th>\n",
       "      <td>RCB</td>\n",
       "      <td>73</td>\n",
       "    </tr>\n",
       "    <tr>\n",
       "      <th>4</th>\n",
       "      <td>KXIP</td>\n",
       "      <td>70</td>\n",
       "    </tr>\n",
       "    <tr>\n",
       "      <th>5</th>\n",
       "      <td>RR</td>\n",
       "      <td>63</td>\n",
       "    </tr>\n",
       "    <tr>\n",
       "      <th>6</th>\n",
       "      <td>DD</td>\n",
       "      <td>62</td>\n",
       "    </tr>\n",
       "    <tr>\n",
       "      <th>7</th>\n",
       "      <td>SRH</td>\n",
       "      <td>42</td>\n",
       "    </tr>\n",
       "    <tr>\n",
       "      <th>8</th>\n",
       "      <td>DC</td>\n",
       "      <td>29</td>\n",
       "    </tr>\n",
       "    <tr>\n",
       "      <th>9</th>\n",
       "      <td>RPS</td>\n",
       "      <td>15</td>\n",
       "    </tr>\n",
       "    <tr>\n",
       "      <th>10</th>\n",
       "      <td>GJ</td>\n",
       "      <td>13</td>\n",
       "    </tr>\n",
       "    <tr>\n",
       "      <th>11</th>\n",
       "      <td>PW</td>\n",
       "      <td>12</td>\n",
       "    </tr>\n",
       "    <tr>\n",
       "      <th>12</th>\n",
       "      <td>KTK</td>\n",
       "      <td>6</td>\n",
       "    </tr>\n",
       "  </tbody>\n",
       "</table>\n",
       "</div>"
      ],
      "text/plain": [
       "    Team  Matches_wins\n",
       "0     MI            92\n",
       "1    CSK            79\n",
       "2    KKR            77\n",
       "3    RCB            73\n",
       "4   KXIP            70\n",
       "5     RR            63\n",
       "6     DD            62\n",
       "7    SRH            42\n",
       "8     DC            29\n",
       "9    RPS            15\n",
       "10    GJ            13\n",
       "11    PW            12\n",
       "12   KTK             6"
      ]
     },
     "execution_count": 21,
     "metadata": {},
     "output_type": "execute_result"
    }
   ],
   "source": [
    "wins=match_data[\"winner\"].value_counts().reset_index()\n",
    "wins.columns=[\"Team\",\"Matches_wins\"]\n",
    "wins"
   ]
  },
  {
   "cell_type": "code",
   "execution_count": 22,
   "id": "4ea9849d",
   "metadata": {},
   "outputs": [],
   "source": [
    "win_for_team=pd.merge(played,wins,how=\"inner\",on=\"Team\")"
   ]
  },
  {
   "cell_type": "code",
   "execution_count": 23,
   "id": "dd703ff9",
   "metadata": {},
   "outputs": [
    {
     "data": {
      "text/html": [
       "<div>\n",
       "<style scoped>\n",
       "    .dataframe tbody tr th:only-of-type {\n",
       "        vertical-align: middle;\n",
       "    }\n",
       "\n",
       "    .dataframe tbody tr th {\n",
       "        vertical-align: top;\n",
       "    }\n",
       "\n",
       "    .dataframe thead th {\n",
       "        text-align: right;\n",
       "    }\n",
       "</style>\n",
       "<table border=\"1\" class=\"dataframe\">\n",
       "  <thead>\n",
       "    <tr style=\"text-align: right;\">\n",
       "      <th></th>\n",
       "      <th>Team</th>\n",
       "      <th>Matches_played</th>\n",
       "      <th>Matches_wins</th>\n",
       "    </tr>\n",
       "  </thead>\n",
       "  <tbody>\n",
       "    <tr>\n",
       "      <th>0</th>\n",
       "      <td>CSK</td>\n",
       "      <td>131</td>\n",
       "      <td>79</td>\n",
       "    </tr>\n",
       "    <tr>\n",
       "      <th>1</th>\n",
       "      <td>DC</td>\n",
       "      <td>75</td>\n",
       "      <td>29</td>\n",
       "    </tr>\n",
       "    <tr>\n",
       "      <th>2</th>\n",
       "      <td>DD</td>\n",
       "      <td>147</td>\n",
       "      <td>62</td>\n",
       "    </tr>\n",
       "    <tr>\n",
       "      <th>3</th>\n",
       "      <td>GJ</td>\n",
       "      <td>30</td>\n",
       "      <td>13</td>\n",
       "    </tr>\n",
       "    <tr>\n",
       "      <th>4</th>\n",
       "      <td>KKR</td>\n",
       "      <td>148</td>\n",
       "      <td>77</td>\n",
       "    </tr>\n",
       "    <tr>\n",
       "      <th>5</th>\n",
       "      <td>KTK</td>\n",
       "      <td>14</td>\n",
       "      <td>6</td>\n",
       "    </tr>\n",
       "    <tr>\n",
       "      <th>6</th>\n",
       "      <td>KXIP</td>\n",
       "      <td>148</td>\n",
       "      <td>70</td>\n",
       "    </tr>\n",
       "    <tr>\n",
       "      <th>7</th>\n",
       "      <td>MI</td>\n",
       "      <td>157</td>\n",
       "      <td>92</td>\n",
       "    </tr>\n",
       "    <tr>\n",
       "      <th>8</th>\n",
       "      <td>PW</td>\n",
       "      <td>46</td>\n",
       "      <td>12</td>\n",
       "    </tr>\n",
       "    <tr>\n",
       "      <th>9</th>\n",
       "      <td>RCB</td>\n",
       "      <td>152</td>\n",
       "      <td>73</td>\n",
       "    </tr>\n",
       "    <tr>\n",
       "      <th>10</th>\n",
       "      <td>RPS</td>\n",
       "      <td>30</td>\n",
       "      <td>15</td>\n",
       "    </tr>\n",
       "    <tr>\n",
       "      <th>11</th>\n",
       "      <td>RR</td>\n",
       "      <td>118</td>\n",
       "      <td>63</td>\n",
       "    </tr>\n",
       "    <tr>\n",
       "      <th>12</th>\n",
       "      <td>SRH</td>\n",
       "      <td>76</td>\n",
       "      <td>42</td>\n",
       "    </tr>\n",
       "  </tbody>\n",
       "</table>\n",
       "</div>"
      ],
      "text/plain": [
       "    Team  Matches_played  Matches_wins\n",
       "0    CSK             131            79\n",
       "1     DC              75            29\n",
       "2     DD             147            62\n",
       "3     GJ              30            13\n",
       "4    KKR             148            77\n",
       "5    KTK              14             6\n",
       "6   KXIP             148            70\n",
       "7     MI             157            92\n",
       "8     PW              46            12\n",
       "9    RCB             152            73\n",
       "10   RPS              30            15\n",
       "11    RR             118            63\n",
       "12   SRH              76            42"
      ]
     },
     "execution_count": 23,
     "metadata": {},
     "output_type": "execute_result"
    }
   ],
   "source": [
    "win_for_team"
   ]
  },
  {
   "cell_type": "code",
   "execution_count": 24,
   "id": "3a7a5149",
   "metadata": {},
   "outputs": [],
   "source": [
    "win_for_team[\"%win\"]=(win_for_team[\"Matches_wins\"]/win_for_team[\"Matches_played\"])*100"
   ]
  },
  {
   "cell_type": "code",
   "execution_count": 25,
   "id": "0b99c73a",
   "metadata": {},
   "outputs": [
    {
     "data": {
      "text/html": [
       "<div>\n",
       "<style scoped>\n",
       "    .dataframe tbody tr th:only-of-type {\n",
       "        vertical-align: middle;\n",
       "    }\n",
       "\n",
       "    .dataframe tbody tr th {\n",
       "        vertical-align: top;\n",
       "    }\n",
       "\n",
       "    .dataframe thead th {\n",
       "        text-align: right;\n",
       "    }\n",
       "</style>\n",
       "<table border=\"1\" class=\"dataframe\">\n",
       "  <thead>\n",
       "    <tr style=\"text-align: right;\">\n",
       "      <th></th>\n",
       "      <th>Team</th>\n",
       "      <th>Matches_played</th>\n",
       "      <th>Matches_wins</th>\n",
       "      <th>%win</th>\n",
       "    </tr>\n",
       "  </thead>\n",
       "  <tbody>\n",
       "    <tr>\n",
       "      <th>0</th>\n",
       "      <td>CSK</td>\n",
       "      <td>131</td>\n",
       "      <td>79</td>\n",
       "      <td>60.305344</td>\n",
       "    </tr>\n",
       "    <tr>\n",
       "      <th>1</th>\n",
       "      <td>DC</td>\n",
       "      <td>75</td>\n",
       "      <td>29</td>\n",
       "      <td>38.666667</td>\n",
       "    </tr>\n",
       "    <tr>\n",
       "      <th>2</th>\n",
       "      <td>DD</td>\n",
       "      <td>147</td>\n",
       "      <td>62</td>\n",
       "      <td>42.176871</td>\n",
       "    </tr>\n",
       "    <tr>\n",
       "      <th>3</th>\n",
       "      <td>GJ</td>\n",
       "      <td>30</td>\n",
       "      <td>13</td>\n",
       "      <td>43.333333</td>\n",
       "    </tr>\n",
       "    <tr>\n",
       "      <th>4</th>\n",
       "      <td>KKR</td>\n",
       "      <td>148</td>\n",
       "      <td>77</td>\n",
       "      <td>52.027027</td>\n",
       "    </tr>\n",
       "    <tr>\n",
       "      <th>5</th>\n",
       "      <td>KTK</td>\n",
       "      <td>14</td>\n",
       "      <td>6</td>\n",
       "      <td>42.857143</td>\n",
       "    </tr>\n",
       "    <tr>\n",
       "      <th>6</th>\n",
       "      <td>KXIP</td>\n",
       "      <td>148</td>\n",
       "      <td>70</td>\n",
       "      <td>47.297297</td>\n",
       "    </tr>\n",
       "    <tr>\n",
       "      <th>7</th>\n",
       "      <td>MI</td>\n",
       "      <td>157</td>\n",
       "      <td>92</td>\n",
       "      <td>58.598726</td>\n",
       "    </tr>\n",
       "    <tr>\n",
       "      <th>8</th>\n",
       "      <td>PW</td>\n",
       "      <td>46</td>\n",
       "      <td>12</td>\n",
       "      <td>26.086957</td>\n",
       "    </tr>\n",
       "    <tr>\n",
       "      <th>9</th>\n",
       "      <td>RCB</td>\n",
       "      <td>152</td>\n",
       "      <td>73</td>\n",
       "      <td>48.026316</td>\n",
       "    </tr>\n",
       "    <tr>\n",
       "      <th>10</th>\n",
       "      <td>RPS</td>\n",
       "      <td>30</td>\n",
       "      <td>15</td>\n",
       "      <td>50.000000</td>\n",
       "    </tr>\n",
       "    <tr>\n",
       "      <th>11</th>\n",
       "      <td>RR</td>\n",
       "      <td>118</td>\n",
       "      <td>63</td>\n",
       "      <td>53.389831</td>\n",
       "    </tr>\n",
       "    <tr>\n",
       "      <th>12</th>\n",
       "      <td>SRH</td>\n",
       "      <td>76</td>\n",
       "      <td>42</td>\n",
       "      <td>55.263158</td>\n",
       "    </tr>\n",
       "  </tbody>\n",
       "</table>\n",
       "</div>"
      ],
      "text/plain": [
       "    Team  Matches_played  Matches_wins       %win\n",
       "0    CSK             131            79  60.305344\n",
       "1     DC              75            29  38.666667\n",
       "2     DD             147            62  42.176871\n",
       "3     GJ              30            13  43.333333\n",
       "4    KKR             148            77  52.027027\n",
       "5    KTK              14             6  42.857143\n",
       "6   KXIP             148            70  47.297297\n",
       "7     MI             157            92  58.598726\n",
       "8     PW              46            12  26.086957\n",
       "9    RCB             152            73  48.026316\n",
       "10   RPS              30            15  50.000000\n",
       "11    RR             118            63  53.389831\n",
       "12   SRH              76            42  55.263158"
      ]
     },
     "execution_count": 25,
     "metadata": {},
     "output_type": "execute_result"
    }
   ],
   "source": [
    "win_for_team"
   ]
  },
  {
   "cell_type": "code",
   "execution_count": 26,
   "id": "f7415c4f",
   "metadata": {},
   "outputs": [
    {
     "data": {
      "text/plain": [
       "Text(0.5, 1.0, 'WINNING PERCENTAGE OF EACH TEAM')"
      ]
     },
     "execution_count": 26,
     "metadata": {},
     "output_type": "execute_result"
    },
    {
     "data": {
      "image/png": "[encoded data removed]",
      "text/plain": [
       "<Figure size 1080x432 with 1 Axes>"
      ]
     },
     "metadata": {
      "needs_background": "light"
     },
     "output_type": "display_data"
    }
   ],
   "source": [
    "plt.figure(figsize=(15,6))\n",
    "sns.barplot(x=\"Team\",y=\"%win\",data=win_for_team)\n",
    "plt.title('WINNING PERCENTAGE OF EACH TEAM')"
   ]
  },
  {
   "cell_type": "markdown",
   "id": "2b184849",
   "metadata": {},
   "source": [
    "### NUMBER OF MATCHES PLAYED ACROSS EACH SEASON"
   ]
  },
  {
   "cell_type": "code",
   "execution_count": 26,
   "id": "e2896229",
   "metadata": {},
   "outputs": [
    {
     "data": {
      "text/plain": [
       "Text(0.5, 1.0, 'NUMBER OF MATCHES PLAYED ACROSS EACH SEASON')"
      ]
     },
     "execution_count": 26,
     "metadata": {},
     "output_type": "execute_result"
    },
    {
     "data": {
      "image/png": "[encoded data removed]",
      "text/plain": [
       "<Figure size 864x432 with 1 Axes>"
      ]
     },
     "metadata": {
      "needs_background": "light"
     },
     "output_type": "display_data"
    }
   ],
   "source": [
    "plt.figure(figsize=(12,6))\n",
    "sns.countplot(x=\"season\",data=match_data)\n",
    "plt.title(\"NUMBER OF MATCHES PLAYED ACROSS EACH SEASON\")"
   ]
  },
  {
   "cell_type": "markdown",
   "id": "9a40069c",
   "metadata": {},
   "source": [
    "### RUNS ACROSS SEASON"
   ]
  },
  {
   "cell_type": "code",
   "execution_count": 27,
   "id": "b46ea27d",
   "metadata": {},
   "outputs": [
    {
     "data": {
      "text/html": [
       "<div>\n",
       "<style scoped>\n",
       "    .dataframe tbody tr th:only-of-type {\n",
       "        vertical-align: middle;\n",
       "    }\n",
       "\n",
       "    .dataframe tbody tr th {\n",
       "        vertical-align: top;\n",
       "    }\n",
       "\n",
       "    .dataframe thead th {\n",
       "        text-align: right;\n",
       "    }\n",
       "</style>\n",
       "<table border=\"1\" class=\"dataframe\">\n",
       "  <thead>\n",
       "    <tr style=\"text-align: right;\">\n",
       "      <th></th>\n",
       "      <th>match_id</th>\n",
       "      <th>inning</th>\n",
       "      <th>batting_team</th>\n",
       "      <th>bowling_team</th>\n",
       "      <th>over</th>\n",
       "      <th>ball</th>\n",
       "      <th>batsman</th>\n",
       "      <th>non_striker</th>\n",
       "      <th>bowler</th>\n",
       "      <th>is_super_over</th>\n",
       "      <th>...</th>\n",
       "      <th>bye_runs</th>\n",
       "      <th>legbye_runs</th>\n",
       "      <th>noball_runs</th>\n",
       "      <th>penalty_runs</th>\n",
       "      <th>batsman_runs</th>\n",
       "      <th>extra_runs</th>\n",
       "      <th>total_runs</th>\n",
       "      <th>player_dismissed</th>\n",
       "      <th>dismissal_kind</th>\n",
       "      <th>fielder</th>\n",
       "    </tr>\n",
       "  </thead>\n",
       "  <tbody>\n",
       "    <tr>\n",
       "      <th>0</th>\n",
       "      <td>1</td>\n",
       "      <td>1</td>\n",
       "      <td>Sunrisers Hyderabad</td>\n",
       "      <td>Royal Challengers Bangalore</td>\n",
       "      <td>1</td>\n",
       "      <td>1</td>\n",
       "      <td>DA Warner</td>\n",
       "      <td>S Dhawan</td>\n",
       "      <td>TS Mills</td>\n",
       "      <td>0</td>\n",
       "      <td>...</td>\n",
       "      <td>0</td>\n",
       "      <td>0</td>\n",
       "      <td>0</td>\n",
       "      <td>0</td>\n",
       "      <td>0</td>\n",
       "      <td>0</td>\n",
       "      <td>0</td>\n",
       "      <td>NaN</td>\n",
       "      <td>NaN</td>\n",
       "      <td>NaN</td>\n",
       "    </tr>\n",
       "    <tr>\n",
       "      <th>1</th>\n",
       "      <td>1</td>\n",
       "      <td>1</td>\n",
       "      <td>Sunrisers Hyderabad</td>\n",
       "      <td>Royal Challengers Bangalore</td>\n",
       "      <td>1</td>\n",
       "      <td>2</td>\n",
       "      <td>DA Warner</td>\n",
       "      <td>S Dhawan</td>\n",
       "      <td>TS Mills</td>\n",
       "      <td>0</td>\n",
       "      <td>...</td>\n",
       "      <td>0</td>\n",
       "      <td>0</td>\n",
       "      <td>0</td>\n",
       "      <td>0</td>\n",
       "      <td>0</td>\n",
       "      <td>0</td>\n",
       "      <td>0</td>\n",
       "      <td>NaN</td>\n",
       "      <td>NaN</td>\n",
       "      <td>NaN</td>\n",
       "    </tr>\n",
       "    <tr>\n",
       "      <th>2</th>\n",
       "      <td>1</td>\n",
       "      <td>1</td>\n",
       "      <td>Sunrisers Hyderabad</td>\n",
       "      <td>Royal Challengers Bangalore</td>\n",
       "      <td>1</td>\n",
       "      <td>3</td>\n",
       "      <td>DA Warner</td>\n",
       "      <td>S Dhawan</td>\n",
       "      <td>TS Mills</td>\n",
       "      <td>0</td>\n",
       "      <td>...</td>\n",
       "      <td>0</td>\n",
       "      <td>0</td>\n",
       "      <td>0</td>\n",
       "      <td>0</td>\n",
       "      <td>4</td>\n",
       "      <td>0</td>\n",
       "      <td>4</td>\n",
       "      <td>NaN</td>\n",
       "      <td>NaN</td>\n",
       "      <td>NaN</td>\n",
       "    </tr>\n",
       "    <tr>\n",
       "      <th>3</th>\n",
       "      <td>1</td>\n",
       "      <td>1</td>\n",
       "      <td>Sunrisers Hyderabad</td>\n",
       "      <td>Royal Challengers Bangalore</td>\n",
       "      <td>1</td>\n",
       "      <td>4</td>\n",
       "      <td>DA Warner</td>\n",
       "      <td>S Dhawan</td>\n",
       "      <td>TS Mills</td>\n",
       "      <td>0</td>\n",
       "      <td>...</td>\n",
       "      <td>0</td>\n",
       "      <td>0</td>\n",
       "      <td>0</td>\n",
       "      <td>0</td>\n",
       "      <td>0</td>\n",
       "      <td>0</td>\n",
       "      <td>0</td>\n",
       "      <td>NaN</td>\n",
       "      <td>NaN</td>\n",
       "      <td>NaN</td>\n",
       "    </tr>\n",
       "    <tr>\n",
       "      <th>4</th>\n",
       "      <td>1</td>\n",
       "      <td>1</td>\n",
       "      <td>Sunrisers Hyderabad</td>\n",
       "      <td>Royal Challengers Bangalore</td>\n",
       "      <td>1</td>\n",
       "      <td>5</td>\n",
       "      <td>DA Warner</td>\n",
       "      <td>S Dhawan</td>\n",
       "      <td>TS Mills</td>\n",
       "      <td>0</td>\n",
       "      <td>...</td>\n",
       "      <td>0</td>\n",
       "      <td>0</td>\n",
       "      <td>0</td>\n",
       "      <td>0</td>\n",
       "      <td>0</td>\n",
       "      <td>2</td>\n",
       "      <td>2</td>\n",
       "      <td>NaN</td>\n",
       "      <td>NaN</td>\n",
       "      <td>NaN</td>\n",
       "    </tr>\n",
       "    <tr>\n",
       "      <th>...</th>\n",
       "      <td>...</td>\n",
       "      <td>...</td>\n",
       "      <td>...</td>\n",
       "      <td>...</td>\n",
       "      <td>...</td>\n",
       "      <td>...</td>\n",
       "      <td>...</td>\n",
       "      <td>...</td>\n",
       "      <td>...</td>\n",
       "      <td>...</td>\n",
       "      <td>...</td>\n",
       "      <td>...</td>\n",
       "      <td>...</td>\n",
       "      <td>...</td>\n",
       "      <td>...</td>\n",
       "      <td>...</td>\n",
       "      <td>...</td>\n",
       "      <td>...</td>\n",
       "      <td>...</td>\n",
       "      <td>...</td>\n",
       "      <td>...</td>\n",
       "    </tr>\n",
       "    <tr>\n",
       "      <th>150455</th>\n",
       "      <td>636</td>\n",
       "      <td>2</td>\n",
       "      <td>Royal Challengers Bangalore</td>\n",
       "      <td>Sunrisers Hyderabad</td>\n",
       "      <td>20</td>\n",
       "      <td>2</td>\n",
       "      <td>Sachin Baby</td>\n",
       "      <td>CJ Jordan</td>\n",
       "      <td>B Kumar</td>\n",
       "      <td>0</td>\n",
       "      <td>...</td>\n",
       "      <td>0</td>\n",
       "      <td>0</td>\n",
       "      <td>0</td>\n",
       "      <td>0</td>\n",
       "      <td>2</td>\n",
       "      <td>0</td>\n",
       "      <td>2</td>\n",
       "      <td>NaN</td>\n",
       "      <td>NaN</td>\n",
       "      <td>NaN</td>\n",
       "    </tr>\n",
       "    <tr>\n",
       "      <th>150456</th>\n",
       "      <td>636</td>\n",
       "      <td>2</td>\n",
       "      <td>Royal Challengers Bangalore</td>\n",
       "      <td>Sunrisers Hyderabad</td>\n",
       "      <td>20</td>\n",
       "      <td>3</td>\n",
       "      <td>Sachin Baby</td>\n",
       "      <td>CJ Jordan</td>\n",
       "      <td>B Kumar</td>\n",
       "      <td>0</td>\n",
       "      <td>...</td>\n",
       "      <td>0</td>\n",
       "      <td>0</td>\n",
       "      <td>0</td>\n",
       "      <td>0</td>\n",
       "      <td>0</td>\n",
       "      <td>0</td>\n",
       "      <td>0</td>\n",
       "      <td>CJ Jordan</td>\n",
       "      <td>run out</td>\n",
       "      <td>NV Ojha</td>\n",
       "    </tr>\n",
       "    <tr>\n",
       "      <th>150457</th>\n",
       "      <td>636</td>\n",
       "      <td>2</td>\n",
       "      <td>Royal Challengers Bangalore</td>\n",
       "      <td>Sunrisers Hyderabad</td>\n",
       "      <td>20</td>\n",
       "      <td>4</td>\n",
       "      <td>Iqbal Abdulla</td>\n",
       "      <td>Sachin Baby</td>\n",
       "      <td>B Kumar</td>\n",
       "      <td>0</td>\n",
       "      <td>...</td>\n",
       "      <td>0</td>\n",
       "      <td>1</td>\n",
       "      <td>0</td>\n",
       "      <td>0</td>\n",
       "      <td>0</td>\n",
       "      <td>1</td>\n",
       "      <td>1</td>\n",
       "      <td>NaN</td>\n",
       "      <td>NaN</td>\n",
       "      <td>NaN</td>\n",
       "    </tr>\n",
       "    <tr>\n",
       "      <th>150458</th>\n",
       "      <td>636</td>\n",
       "      <td>2</td>\n",
       "      <td>Royal Challengers Bangalore</td>\n",
       "      <td>Sunrisers Hyderabad</td>\n",
       "      <td>20</td>\n",
       "      <td>5</td>\n",
       "      <td>Sachin Baby</td>\n",
       "      <td>Iqbal Abdulla</td>\n",
       "      <td>B Kumar</td>\n",
       "      <td>0</td>\n",
       "      <td>...</td>\n",
       "      <td>0</td>\n",
       "      <td>0</td>\n",
       "      <td>0</td>\n",
       "      <td>0</td>\n",
       "      <td>1</td>\n",
       "      <td>0</td>\n",
       "      <td>1</td>\n",
       "      <td>NaN</td>\n",
       "      <td>NaN</td>\n",
       "      <td>NaN</td>\n",
       "    </tr>\n",
       "    <tr>\n",
       "      <th>150459</th>\n",
       "      <td>636</td>\n",
       "      <td>2</td>\n",
       "      <td>Royal Challengers Bangalore</td>\n",
       "      <td>Sunrisers Hyderabad</td>\n",
       "      <td>20</td>\n",
       "      <td>6</td>\n",
       "      <td>Iqbal Abdulla</td>\n",
       "      <td>Sachin Baby</td>\n",
       "      <td>B Kumar</td>\n",
       "      <td>0</td>\n",
       "      <td>...</td>\n",
       "      <td>0</td>\n",
       "      <td>0</td>\n",
       "      <td>0</td>\n",
       "      <td>0</td>\n",
       "      <td>4</td>\n",
       "      <td>0</td>\n",
       "      <td>4</td>\n",
       "      <td>NaN</td>\n",
       "      <td>NaN</td>\n",
       "      <td>NaN</td>\n",
       "    </tr>\n",
       "  </tbody>\n",
       "</table>\n",
       "<p>150460 rows × 21 columns</p>\n",
       "</div>"
      ],
      "text/plain": [
       "        match_id  inning                 batting_team  \\\n",
       "0              1       1          Sunrisers Hyderabad   \n",
       "1              1       1          Sunrisers Hyderabad   \n",
       "2              1       1          Sunrisers Hyderabad   \n",
       "3              1       1          Sunrisers Hyderabad   \n",
       "4              1       1          Sunrisers Hyderabad   \n",
       "...          ...     ...                          ...   \n",
       "150455       636       2  Royal Challengers Bangalore   \n",
       "150456       636       2  Royal Challengers Bangalore   \n",
       "150457       636       2  Royal Challengers Bangalore   \n",
       "150458       636       2  Royal Challengers Bangalore   \n",
       "150459       636       2  Royal Challengers Bangalore   \n",
       "\n",
       "                       bowling_team  over  ball        batsman    non_striker  \\\n",
       "0       Royal Challengers Bangalore     1     1      DA Warner       S Dhawan   \n",
       "1       Royal Challengers Bangalore     1     2      DA Warner       S Dhawan   \n",
       "2       Royal Challengers Bangalore     1     3      DA Warner       S Dhawan   \n",
       "3       Royal Challengers Bangalore     1     4      DA Warner       S Dhawan   \n",
       "4       Royal Challengers Bangalore     1     5      DA Warner       S Dhawan   \n",
       "...                             ...   ...   ...            ...            ...   \n",
       "150455          Sunrisers Hyderabad    20     2    Sachin Baby      CJ Jordan   \n",
       "150456          Sunrisers Hyderabad    20     3    Sachin Baby      CJ Jordan   \n",
       "150457          Sunrisers Hyderabad    20     4  Iqbal Abdulla    Sachin Baby   \n",
       "150458          Sunrisers Hyderabad    20     5    Sachin Baby  Iqbal Abdulla   \n",
       "150459          Sunrisers Hyderabad    20     6  Iqbal Abdulla    Sachin Baby   \n",
       "\n",
       "          bowler  is_super_over  ...  bye_runs  legbye_runs  noball_runs  \\\n",
       "0       TS Mills              0  ...         0            0            0   \n",
       "1       TS Mills              0  ...         0            0            0   \n",
       "2       TS Mills              0  ...         0            0            0   \n",
       "3       TS Mills              0  ...         0            0            0   \n",
       "4       TS Mills              0  ...         0            0            0   \n",
       "...          ...            ...  ...       ...          ...          ...   \n",
       "150455   B Kumar              0  ...         0            0            0   \n",
       "150456   B Kumar              0  ...         0            0            0   \n",
       "150457   B Kumar              0  ...         0            1            0   \n",
       "150458   B Kumar              0  ...         0            0            0   \n",
       "150459   B Kumar              0  ...         0            0            0   \n",
       "\n",
       "        penalty_runs  batsman_runs  extra_runs  total_runs  player_dismissed  \\\n",
       "0                  0             0           0           0               NaN   \n",
       "1                  0             0           0           0               NaN   \n",
       "2                  0             4           0           4               NaN   \n",
       "3                  0             0           0           0               NaN   \n",
       "4                  0             0           2           2               NaN   \n",
       "...              ...           ...         ...         ...               ...   \n",
       "150455             0             2           0           2               NaN   \n",
       "150456             0             0           0           0         CJ Jordan   \n",
       "150457             0             0           1           1               NaN   \n",
       "150458             0             1           0           1               NaN   \n",
       "150459             0             4           0           4               NaN   \n",
       "\n",
       "       dismissal_kind  fielder  \n",
       "0                 NaN      NaN  \n",
       "1                 NaN      NaN  \n",
       "2                 NaN      NaN  \n",
       "3                 NaN      NaN  \n",
       "4                 NaN      NaN  \n",
       "...               ...      ...  \n",
       "150455            NaN      NaN  \n",
       "150456        run out  NV Ojha  \n",
       "150457            NaN      NaN  \n",
       "150458            NaN      NaN  \n",
       "150459            NaN      NaN  \n",
       "\n",
       "[150460 rows x 21 columns]"
      ]
     },
     "execution_count": 27,
     "metadata": {},
     "output_type": "execute_result"
    }
   ],
   "source": [
    "ball_data=pd.read_csv('deliveries.csv')\n",
    "ball_data"
   ]
  },
  {
   "cell_type": "code",
   "execution_count": 28,
   "id": "d3360504",
   "metadata": {},
   "outputs": [],
   "source": [
    "Season=match_data[[\"id\",\"season\"]].merge(ball_data,left_on=\"id\",right_on=\"match_id\",how=\"inner\").drop(\"id\",axis=1)"
   ]
  },
  {
   "cell_type": "code",
   "execution_count": 29,
   "id": "3654850a",
   "metadata": {},
   "outputs": [
    {
     "data": {
      "text/html": [
       "<div>\n",
       "<style scoped>\n",
       "    .dataframe tbody tr th:only-of-type {\n",
       "        vertical-align: middle;\n",
       "    }\n",
       "\n",
       "    .dataframe tbody tr th {\n",
       "        vertical-align: top;\n",
       "    }\n",
       "\n",
       "    .dataframe thead th {\n",
       "        text-align: right;\n",
       "    }\n",
       "</style>\n",
       "<table border=\"1\" class=\"dataframe\">\n",
       "  <thead>\n",
       "    <tr style=\"text-align: right;\">\n",
       "      <th></th>\n",
       "      <th>season</th>\n",
       "      <th>match_id</th>\n",
       "      <th>inning</th>\n",
       "      <th>batting_team</th>\n",
       "      <th>bowling_team</th>\n",
       "      <th>over</th>\n",
       "      <th>ball</th>\n",
       "      <th>batsman</th>\n",
       "      <th>non_striker</th>\n",
       "      <th>bowler</th>\n",
       "      <th>...</th>\n",
       "      <th>bye_runs</th>\n",
       "      <th>legbye_runs</th>\n",
       "      <th>noball_runs</th>\n",
       "      <th>penalty_runs</th>\n",
       "      <th>batsman_runs</th>\n",
       "      <th>extra_runs</th>\n",
       "      <th>total_runs</th>\n",
       "      <th>player_dismissed</th>\n",
       "      <th>dismissal_kind</th>\n",
       "      <th>fielder</th>\n",
       "    </tr>\n",
       "  </thead>\n",
       "  <tbody>\n",
       "    <tr>\n",
       "      <th>0</th>\n",
       "      <td>2017</td>\n",
       "      <td>1</td>\n",
       "      <td>1</td>\n",
       "      <td>Sunrisers Hyderabad</td>\n",
       "      <td>Royal Challengers Bangalore</td>\n",
       "      <td>1</td>\n",
       "      <td>1</td>\n",
       "      <td>DA Warner</td>\n",
       "      <td>S Dhawan</td>\n",
       "      <td>TS Mills</td>\n",
       "      <td>...</td>\n",
       "      <td>0</td>\n",
       "      <td>0</td>\n",
       "      <td>0</td>\n",
       "      <td>0</td>\n",
       "      <td>0</td>\n",
       "      <td>0</td>\n",
       "      <td>0</td>\n",
       "      <td>NaN</td>\n",
       "      <td>NaN</td>\n",
       "      <td>NaN</td>\n",
       "    </tr>\n",
       "    <tr>\n",
       "      <th>1</th>\n",
       "      <td>2017</td>\n",
       "      <td>1</td>\n",
       "      <td>1</td>\n",
       "      <td>Sunrisers Hyderabad</td>\n",
       "      <td>Royal Challengers Bangalore</td>\n",
       "      <td>1</td>\n",
       "      <td>2</td>\n",
       "      <td>DA Warner</td>\n",
       "      <td>S Dhawan</td>\n",
       "      <td>TS Mills</td>\n",
       "      <td>...</td>\n",
       "      <td>0</td>\n",
       "      <td>0</td>\n",
       "      <td>0</td>\n",
       "      <td>0</td>\n",
       "      <td>0</td>\n",
       "      <td>0</td>\n",
       "      <td>0</td>\n",
       "      <td>NaN</td>\n",
       "      <td>NaN</td>\n",
       "      <td>NaN</td>\n",
       "    </tr>\n",
       "    <tr>\n",
       "      <th>2</th>\n",
       "      <td>2017</td>\n",
       "      <td>1</td>\n",
       "      <td>1</td>\n",
       "      <td>Sunrisers Hyderabad</td>\n",
       "      <td>Royal Challengers Bangalore</td>\n",
       "      <td>1</td>\n",
       "      <td>3</td>\n",
       "      <td>DA Warner</td>\n",
       "      <td>S Dhawan</td>\n",
       "      <td>TS Mills</td>\n",
       "      <td>...</td>\n",
       "      <td>0</td>\n",
       "      <td>0</td>\n",
       "      <td>0</td>\n",
       "      <td>0</td>\n",
       "      <td>4</td>\n",
       "      <td>0</td>\n",
       "      <td>4</td>\n",
       "      <td>NaN</td>\n",
       "      <td>NaN</td>\n",
       "      <td>NaN</td>\n",
       "    </tr>\n",
       "    <tr>\n",
       "      <th>3</th>\n",
       "      <td>2017</td>\n",
       "      <td>1</td>\n",
       "      <td>1</td>\n",
       "      <td>Sunrisers Hyderabad</td>\n",
       "      <td>Royal Challengers Bangalore</td>\n",
       "      <td>1</td>\n",
       "      <td>4</td>\n",
       "      <td>DA Warner</td>\n",
       "      <td>S Dhawan</td>\n",
       "      <td>TS Mills</td>\n",
       "      <td>...</td>\n",
       "      <td>0</td>\n",
       "      <td>0</td>\n",
       "      <td>0</td>\n",
       "      <td>0</td>\n",
       "      <td>0</td>\n",
       "      <td>0</td>\n",
       "      <td>0</td>\n",
       "      <td>NaN</td>\n",
       "      <td>NaN</td>\n",
       "      <td>NaN</td>\n",
       "    </tr>\n",
       "    <tr>\n",
       "      <th>4</th>\n",
       "      <td>2017</td>\n",
       "      <td>1</td>\n",
       "      <td>1</td>\n",
       "      <td>Sunrisers Hyderabad</td>\n",
       "      <td>Royal Challengers Bangalore</td>\n",
       "      <td>1</td>\n",
       "      <td>5</td>\n",
       "      <td>DA Warner</td>\n",
       "      <td>S Dhawan</td>\n",
       "      <td>TS Mills</td>\n",
       "      <td>...</td>\n",
       "      <td>0</td>\n",
       "      <td>0</td>\n",
       "      <td>0</td>\n",
       "      <td>0</td>\n",
       "      <td>0</td>\n",
       "      <td>2</td>\n",
       "      <td>2</td>\n",
       "      <td>NaN</td>\n",
       "      <td>NaN</td>\n",
       "      <td>NaN</td>\n",
       "    </tr>\n",
       "    <tr>\n",
       "      <th>...</th>\n",
       "      <td>...</td>\n",
       "      <td>...</td>\n",
       "      <td>...</td>\n",
       "      <td>...</td>\n",
       "      <td>...</td>\n",
       "      <td>...</td>\n",
       "      <td>...</td>\n",
       "      <td>...</td>\n",
       "      <td>...</td>\n",
       "      <td>...</td>\n",
       "      <td>...</td>\n",
       "      <td>...</td>\n",
       "      <td>...</td>\n",
       "      <td>...</td>\n",
       "      <td>...</td>\n",
       "      <td>...</td>\n",
       "      <td>...</td>\n",
       "      <td>...</td>\n",
       "      <td>...</td>\n",
       "      <td>...</td>\n",
       "      <td>...</td>\n",
       "    </tr>\n",
       "    <tr>\n",
       "      <th>150455</th>\n",
       "      <td>2016</td>\n",
       "      <td>636</td>\n",
       "      <td>2</td>\n",
       "      <td>Royal Challengers Bangalore</td>\n",
       "      <td>Sunrisers Hyderabad</td>\n",
       "      <td>20</td>\n",
       "      <td>2</td>\n",
       "      <td>Sachin Baby</td>\n",
       "      <td>CJ Jordan</td>\n",
       "      <td>B Kumar</td>\n",
       "      <td>...</td>\n",
       "      <td>0</td>\n",
       "      <td>0</td>\n",
       "      <td>0</td>\n",
       "      <td>0</td>\n",
       "      <td>2</td>\n",
       "      <td>0</td>\n",
       "      <td>2</td>\n",
       "      <td>NaN</td>\n",
       "      <td>NaN</td>\n",
       "      <td>NaN</td>\n",
       "    </tr>\n",
       "    <tr>\n",
       "      <th>150456</th>\n",
       "      <td>2016</td>\n",
       "      <td>636</td>\n",
       "      <td>2</td>\n",
       "      <td>Royal Challengers Bangalore</td>\n",
       "      <td>Sunrisers Hyderabad</td>\n",
       "      <td>20</td>\n",
       "      <td>3</td>\n",
       "      <td>Sachin Baby</td>\n",
       "      <td>CJ Jordan</td>\n",
       "      <td>B Kumar</td>\n",
       "      <td>...</td>\n",
       "      <td>0</td>\n",
       "      <td>0</td>\n",
       "      <td>0</td>\n",
       "      <td>0</td>\n",
       "      <td>0</td>\n",
       "      <td>0</td>\n",
       "      <td>0</td>\n",
       "      <td>CJ Jordan</td>\n",
       "      <td>run out</td>\n",
       "      <td>NV Ojha</td>\n",
       "    </tr>\n",
       "    <tr>\n",
       "      <th>150457</th>\n",
       "      <td>2016</td>\n",
       "      <td>636</td>\n",
       "      <td>2</td>\n",
       "      <td>Royal Challengers Bangalore</td>\n",
       "      <td>Sunrisers Hyderabad</td>\n",
       "      <td>20</td>\n",
       "      <td>4</td>\n",
       "      <td>Iqbal Abdulla</td>\n",
       "      <td>Sachin Baby</td>\n",
       "      <td>B Kumar</td>\n",
       "      <td>...</td>\n",
       "      <td>0</td>\n",
       "      <td>1</td>\n",
       "      <td>0</td>\n",
       "      <td>0</td>\n",
       "      <td>0</td>\n",
       "      <td>1</td>\n",
       "      <td>1</td>\n",
       "      <td>NaN</td>\n",
       "      <td>NaN</td>\n",
       "      <td>NaN</td>\n",
       "    </tr>\n",
       "    <tr>\n",
       "      <th>150458</th>\n",
       "      <td>2016</td>\n",
       "      <td>636</td>\n",
       "      <td>2</td>\n",
       "      <td>Royal Challengers Bangalore</td>\n",
       "      <td>Sunrisers Hyderabad</td>\n",
       "      <td>20</td>\n",
       "      <td>5</td>\n",
       "      <td>Sachin Baby</td>\n",
       "      <td>Iqbal Abdulla</td>\n",
       "      <td>B Kumar</td>\n",
       "      <td>...</td>\n",
       "      <td>0</td>\n",
       "      <td>0</td>\n",
       "      <td>0</td>\n",
       "      <td>0</td>\n",
       "      <td>1</td>\n",
       "      <td>0</td>\n",
       "      <td>1</td>\n",
       "      <td>NaN</td>\n",
       "      <td>NaN</td>\n",
       "      <td>NaN</td>\n",
       "    </tr>\n",
       "    <tr>\n",
       "      <th>150459</th>\n",
       "      <td>2016</td>\n",
       "      <td>636</td>\n",
       "      <td>2</td>\n",
       "      <td>Royal Challengers Bangalore</td>\n",
       "      <td>Sunrisers Hyderabad</td>\n",
       "      <td>20</td>\n",
       "      <td>6</td>\n",
       "      <td>Iqbal Abdulla</td>\n",
       "      <td>Sachin Baby</td>\n",
       "      <td>B Kumar</td>\n",
       "      <td>...</td>\n",
       "      <td>0</td>\n",
       "      <td>0</td>\n",
       "      <td>0</td>\n",
       "      <td>0</td>\n",
       "      <td>4</td>\n",
       "      <td>0</td>\n",
       "      <td>4</td>\n",
       "      <td>NaN</td>\n",
       "      <td>NaN</td>\n",
       "      <td>NaN</td>\n",
       "    </tr>\n",
       "  </tbody>\n",
       "</table>\n",
       "<p>150460 rows × 22 columns</p>\n",
       "</div>"
      ],
      "text/plain": [
       "        season  match_id  inning                 batting_team  \\\n",
       "0         2017         1       1          Sunrisers Hyderabad   \n",
       "1         2017         1       1          Sunrisers Hyderabad   \n",
       "2         2017         1       1          Sunrisers Hyderabad   \n",
       "3         2017         1       1          Sunrisers Hyderabad   \n",
       "4         2017         1       1          Sunrisers Hyderabad   \n",
       "...        ...       ...     ...                          ...   \n",
       "150455    2016       636       2  Royal Challengers Bangalore   \n",
       "150456    2016       636       2  Royal Challengers Bangalore   \n",
       "150457    2016       636       2  Royal Challengers Bangalore   \n",
       "150458    2016       636       2  Royal Challengers Bangalore   \n",
       "150459    2016       636       2  Royal Challengers Bangalore   \n",
       "\n",
       "                       bowling_team  over  ball        batsman    non_striker  \\\n",
       "0       Royal Challengers Bangalore     1     1      DA Warner       S Dhawan   \n",
       "1       Royal Challengers Bangalore     1     2      DA Warner       S Dhawan   \n",
       "2       Royal Challengers Bangalore     1     3      DA Warner       S Dhawan   \n",
       "3       Royal Challengers Bangalore     1     4      DA Warner       S Dhawan   \n",
       "4       Royal Challengers Bangalore     1     5      DA Warner       S Dhawan   \n",
       "...                             ...   ...   ...            ...            ...   \n",
       "150455          Sunrisers Hyderabad    20     2    Sachin Baby      CJ Jordan   \n",
       "150456          Sunrisers Hyderabad    20     3    Sachin Baby      CJ Jordan   \n",
       "150457          Sunrisers Hyderabad    20     4  Iqbal Abdulla    Sachin Baby   \n",
       "150458          Sunrisers Hyderabad    20     5    Sachin Baby  Iqbal Abdulla   \n",
       "150459          Sunrisers Hyderabad    20     6  Iqbal Abdulla    Sachin Baby   \n",
       "\n",
       "          bowler  ...  bye_runs  legbye_runs  noball_runs  penalty_runs  \\\n",
       "0       TS Mills  ...         0            0            0             0   \n",
       "1       TS Mills  ...         0            0            0             0   \n",
       "2       TS Mills  ...         0            0            0             0   \n",
       "3       TS Mills  ...         0            0            0             0   \n",
       "4       TS Mills  ...         0            0            0             0   \n",
       "...          ...  ...       ...          ...          ...           ...   \n",
       "150455   B Kumar  ...         0            0            0             0   \n",
       "150456   B Kumar  ...         0            0            0             0   \n",
       "150457   B Kumar  ...         0            1            0             0   \n",
       "150458   B Kumar  ...         0            0            0             0   \n",
       "150459   B Kumar  ...         0            0            0             0   \n",
       "\n",
       "        batsman_runs  extra_runs  total_runs  player_dismissed  \\\n",
       "0                  0           0           0               NaN   \n",
       "1                  0           0           0               NaN   \n",
       "2                  4           0           4               NaN   \n",
       "3                  0           0           0               NaN   \n",
       "4                  0           2           2               NaN   \n",
       "...              ...         ...         ...               ...   \n",
       "150455             2           0           2               NaN   \n",
       "150456             0           0           0         CJ Jordan   \n",
       "150457             0           1           1               NaN   \n",
       "150458             1           0           1               NaN   \n",
       "150459             4           0           4               NaN   \n",
       "\n",
       "        dismissal_kind  fielder  \n",
       "0                  NaN      NaN  \n",
       "1                  NaN      NaN  \n",
       "2                  NaN      NaN  \n",
       "3                  NaN      NaN  \n",
       "4                  NaN      NaN  \n",
       "...                ...      ...  \n",
       "150455             NaN      NaN  \n",
       "150456         run out  NV Ojha  \n",
       "150457             NaN      NaN  \n",
       "150458             NaN      NaN  \n",
       "150459             NaN      NaN  \n",
       "\n",
       "[150460 rows x 22 columns]"
      ]
     },
     "execution_count": 29,
     "metadata": {},
     "output_type": "execute_result"
    }
   ],
   "source": [
    "Season"
   ]
  },
  {
   "cell_type": "code",
   "execution_count": 30,
   "id": "ced9dfc8",
   "metadata": {},
   "outputs": [
    {
     "data": {
      "text/html": [
       "<div>\n",
       "<style scoped>\n",
       "    .dataframe tbody tr th:only-of-type {\n",
       "        vertical-align: middle;\n",
       "    }\n",
       "\n",
       "    .dataframe tbody tr th {\n",
       "        vertical-align: top;\n",
       "    }\n",
       "\n",
       "    .dataframe thead th {\n",
       "        text-align: right;\n",
       "    }\n",
       "</style>\n",
       "<table border=\"1\" class=\"dataframe\">\n",
       "  <thead>\n",
       "    <tr style=\"text-align: right;\">\n",
       "      <th></th>\n",
       "      <th>total_runs</th>\n",
       "    </tr>\n",
       "    <tr>\n",
       "      <th>season</th>\n",
       "      <th></th>\n",
       "    </tr>\n",
       "  </thead>\n",
       "  <tbody>\n",
       "    <tr>\n",
       "      <th>2008</th>\n",
       "      <td>17937</td>\n",
       "    </tr>\n",
       "    <tr>\n",
       "      <th>2009</th>\n",
       "      <td>16353</td>\n",
       "    </tr>\n",
       "    <tr>\n",
       "      <th>2010</th>\n",
       "      <td>18883</td>\n",
       "    </tr>\n",
       "    <tr>\n",
       "      <th>2011</th>\n",
       "      <td>21154</td>\n",
       "    </tr>\n",
       "    <tr>\n",
       "      <th>2012</th>\n",
       "      <td>22453</td>\n",
       "    </tr>\n",
       "    <tr>\n",
       "      <th>2013</th>\n",
       "      <td>22602</td>\n",
       "    </tr>\n",
       "    <tr>\n",
       "      <th>2014</th>\n",
       "      <td>18931</td>\n",
       "    </tr>\n",
       "    <tr>\n",
       "      <th>2015</th>\n",
       "      <td>18353</td>\n",
       "    </tr>\n",
       "    <tr>\n",
       "      <th>2016</th>\n",
       "      <td>18862</td>\n",
       "    </tr>\n",
       "    <tr>\n",
       "      <th>2017</th>\n",
       "      <td>18786</td>\n",
       "    </tr>\n",
       "  </tbody>\n",
       "</table>\n",
       "</div>"
      ],
      "text/plain": [
       "        total_runs\n",
       "season            \n",
       "2008         17937\n",
       "2009         16353\n",
       "2010         18883\n",
       "2011         21154\n",
       "2012         22453\n",
       "2013         22602\n",
       "2014         18931\n",
       "2015         18353\n",
       "2016         18862\n",
       "2017         18786"
      ]
     },
     "execution_count": 30,
     "metadata": {},
     "output_type": "execute_result"
    }
   ],
   "source": [
    "RAS=Season.groupby(\"season\")[\"total_runs\"].sum().reset_index()\n",
    "RAS.set_index(\"season\",inplace=True)\n",
    "RAS"
   ]
  },
  {
   "cell_type": "code",
   "execution_count": 31,
   "id": "f629371f",
   "metadata": {},
   "outputs": [
    {
     "data": {
      "text/plain": [
       "<AxesSubplot:xlabel='season'>"
      ]
     },
     "execution_count": 31,
     "metadata": {},
     "output_type": "execute_result"
    },
    {
     "data": {
      "image/png": "[encoded data removed]",
      "text/plain": [
       "<Figure size 432x288 with 1 Axes>"
      ]
     },
     "metadata": {
      "needs_background": "light"
     },
     "output_type": "display_data"
    }
   ],
   "source": [
    "RAS.plot()"
   ]
  },
  {
   "cell_type": "markdown",
   "id": "4db40ac4",
   "metadata": {},
   "source": [
    "### AVG RUNS IN EACH SEASON"
   ]
  },
  {
   "cell_type": "code",
   "execution_count": 32,
   "id": "500f53a6",
   "metadata": {},
   "outputs": [],
   "source": [
    "avg=match_data.groupby(\"season\")[\"id\"].count().reset_index().rename(columns={'id':'matches'})\n"
   ]
  },
  {
   "cell_type": "code",
   "execution_count": 33,
   "id": "bca512d1",
   "metadata": {},
   "outputs": [
    {
     "data": {
      "text/html": [
       "<div>\n",
       "<style scoped>\n",
       "    .dataframe tbody tr th:only-of-type {\n",
       "        vertical-align: middle;\n",
       "    }\n",
       "\n",
       "    .dataframe tbody tr th {\n",
       "        vertical-align: top;\n",
       "    }\n",
       "\n",
       "    .dataframe thead th {\n",
       "        text-align: right;\n",
       "    }\n",
       "</style>\n",
       "<table border=\"1\" class=\"dataframe\">\n",
       "  <thead>\n",
       "    <tr style=\"text-align: right;\">\n",
       "      <th></th>\n",
       "      <th>season</th>\n",
       "      <th>matches</th>\n",
       "    </tr>\n",
       "  </thead>\n",
       "  <tbody>\n",
       "    <tr>\n",
       "      <th>0</th>\n",
       "      <td>2008</td>\n",
       "      <td>58</td>\n",
       "    </tr>\n",
       "    <tr>\n",
       "      <th>1</th>\n",
       "      <td>2009</td>\n",
       "      <td>57</td>\n",
       "    </tr>\n",
       "    <tr>\n",
       "      <th>2</th>\n",
       "      <td>2010</td>\n",
       "      <td>60</td>\n",
       "    </tr>\n",
       "    <tr>\n",
       "      <th>3</th>\n",
       "      <td>2011</td>\n",
       "      <td>73</td>\n",
       "    </tr>\n",
       "    <tr>\n",
       "      <th>4</th>\n",
       "      <td>2012</td>\n",
       "      <td>74</td>\n",
       "    </tr>\n",
       "    <tr>\n",
       "      <th>5</th>\n",
       "      <td>2013</td>\n",
       "      <td>76</td>\n",
       "    </tr>\n",
       "    <tr>\n",
       "      <th>6</th>\n",
       "      <td>2014</td>\n",
       "      <td>60</td>\n",
       "    </tr>\n",
       "    <tr>\n",
       "      <th>7</th>\n",
       "      <td>2015</td>\n",
       "      <td>59</td>\n",
       "    </tr>\n",
       "    <tr>\n",
       "      <th>8</th>\n",
       "      <td>2016</td>\n",
       "      <td>60</td>\n",
       "    </tr>\n",
       "    <tr>\n",
       "      <th>9</th>\n",
       "      <td>2017</td>\n",
       "      <td>59</td>\n",
       "    </tr>\n",
       "  </tbody>\n",
       "</table>\n",
       "</div>"
      ],
      "text/plain": [
       "   season  matches\n",
       "0    2008       58\n",
       "1    2009       57\n",
       "2    2010       60\n",
       "3    2011       73\n",
       "4    2012       74\n",
       "5    2013       76\n",
       "6    2014       60\n",
       "7    2015       59\n",
       "8    2016       60\n",
       "9    2017       59"
      ]
     },
     "execution_count": 33,
     "metadata": {},
     "output_type": "execute_result"
    }
   ],
   "source": [
    "avg"
   ]
  },
  {
   "cell_type": "code",
   "execution_count": 34,
   "id": "dd21aa08",
   "metadata": {},
   "outputs": [],
   "source": [
    "RAS.reset_index(inplace=True)"
   ]
  },
  {
   "cell_type": "code",
   "execution_count": 35,
   "id": "995f91a4",
   "metadata": {},
   "outputs": [
    {
     "data": {
      "text/html": [
       "<div>\n",
       "<style scoped>\n",
       "    .dataframe tbody tr th:only-of-type {\n",
       "        vertical-align: middle;\n",
       "    }\n",
       "\n",
       "    .dataframe tbody tr th {\n",
       "        vertical-align: top;\n",
       "    }\n",
       "\n",
       "    .dataframe thead th {\n",
       "        text-align: right;\n",
       "    }\n",
       "</style>\n",
       "<table border=\"1\" class=\"dataframe\">\n",
       "  <thead>\n",
       "    <tr style=\"text-align: right;\">\n",
       "      <th></th>\n",
       "      <th>season</th>\n",
       "      <th>matches</th>\n",
       "      <th>total_runs</th>\n",
       "    </tr>\n",
       "  </thead>\n",
       "  <tbody>\n",
       "    <tr>\n",
       "      <th>0</th>\n",
       "      <td>2008</td>\n",
       "      <td>58</td>\n",
       "      <td>17937</td>\n",
       "    </tr>\n",
       "    <tr>\n",
       "      <th>1</th>\n",
       "      <td>2009</td>\n",
       "      <td>57</td>\n",
       "      <td>16353</td>\n",
       "    </tr>\n",
       "    <tr>\n",
       "      <th>2</th>\n",
       "      <td>2010</td>\n",
       "      <td>60</td>\n",
       "      <td>18883</td>\n",
       "    </tr>\n",
       "    <tr>\n",
       "      <th>3</th>\n",
       "      <td>2011</td>\n",
       "      <td>73</td>\n",
       "      <td>21154</td>\n",
       "    </tr>\n",
       "    <tr>\n",
       "      <th>4</th>\n",
       "      <td>2012</td>\n",
       "      <td>74</td>\n",
       "      <td>22453</td>\n",
       "    </tr>\n",
       "    <tr>\n",
       "      <th>5</th>\n",
       "      <td>2013</td>\n",
       "      <td>76</td>\n",
       "      <td>22602</td>\n",
       "    </tr>\n",
       "    <tr>\n",
       "      <th>6</th>\n",
       "      <td>2014</td>\n",
       "      <td>60</td>\n",
       "      <td>18931</td>\n",
       "    </tr>\n",
       "    <tr>\n",
       "      <th>7</th>\n",
       "      <td>2015</td>\n",
       "      <td>59</td>\n",
       "      <td>18353</td>\n",
       "    </tr>\n",
       "    <tr>\n",
       "      <th>8</th>\n",
       "      <td>2016</td>\n",
       "      <td>60</td>\n",
       "      <td>18862</td>\n",
       "    </tr>\n",
       "    <tr>\n",
       "      <th>9</th>\n",
       "      <td>2017</td>\n",
       "      <td>59</td>\n",
       "      <td>18786</td>\n",
       "    </tr>\n",
       "  </tbody>\n",
       "</table>\n",
       "</div>"
      ],
      "text/plain": [
       "   season  matches  total_runs\n",
       "0    2008       58       17937\n",
       "1    2009       57       16353\n",
       "2    2010       60       18883\n",
       "3    2011       73       21154\n",
       "4    2012       74       22453\n",
       "5    2013       76       22602\n",
       "6    2014       60       18931\n",
       "7    2015       59       18353\n",
       "8    2016       60       18862\n",
       "9    2017       59       18786"
      ]
     },
     "execution_count": 35,
     "metadata": {},
     "output_type": "execute_result"
    }
   ],
   "source": [
    "final=pd.concat([avg,RAS.iloc[:,1]],axis=1)\n",
    "final"
   ]
  },
  {
   "cell_type": "code",
   "execution_count": 36,
   "id": "0b2cf169",
   "metadata": {},
   "outputs": [],
   "source": [
    "final[\"per_match_runs\"]=final[\"total_runs\"]/final[\"matches\"]"
   ]
  },
  {
   "cell_type": "code",
   "execution_count": 37,
   "id": "f9f4cbfd",
   "metadata": {},
   "outputs": [
    {
     "data": {
      "text/html": [
       "<div>\n",
       "<style scoped>\n",
       "    .dataframe tbody tr th:only-of-type {\n",
       "        vertical-align: middle;\n",
       "    }\n",
       "\n",
       "    .dataframe tbody tr th {\n",
       "        vertical-align: top;\n",
       "    }\n",
       "\n",
       "    .dataframe thead th {\n",
       "        text-align: right;\n",
       "    }\n",
       "</style>\n",
       "<table border=\"1\" class=\"dataframe\">\n",
       "  <thead>\n",
       "    <tr style=\"text-align: right;\">\n",
       "      <th></th>\n",
       "      <th>season</th>\n",
       "      <th>matches</th>\n",
       "      <th>total_runs</th>\n",
       "      <th>per_match_runs</th>\n",
       "    </tr>\n",
       "  </thead>\n",
       "  <tbody>\n",
       "    <tr>\n",
       "      <th>0</th>\n",
       "      <td>2008</td>\n",
       "      <td>58</td>\n",
       "      <td>17937</td>\n",
       "      <td>309.258621</td>\n",
       "    </tr>\n",
       "    <tr>\n",
       "      <th>1</th>\n",
       "      <td>2009</td>\n",
       "      <td>57</td>\n",
       "      <td>16353</td>\n",
       "      <td>286.894737</td>\n",
       "    </tr>\n",
       "    <tr>\n",
       "      <th>2</th>\n",
       "      <td>2010</td>\n",
       "      <td>60</td>\n",
       "      <td>18883</td>\n",
       "      <td>314.716667</td>\n",
       "    </tr>\n",
       "    <tr>\n",
       "      <th>3</th>\n",
       "      <td>2011</td>\n",
       "      <td>73</td>\n",
       "      <td>21154</td>\n",
       "      <td>289.780822</td>\n",
       "    </tr>\n",
       "    <tr>\n",
       "      <th>4</th>\n",
       "      <td>2012</td>\n",
       "      <td>74</td>\n",
       "      <td>22453</td>\n",
       "      <td>303.418919</td>\n",
       "    </tr>\n",
       "    <tr>\n",
       "      <th>5</th>\n",
       "      <td>2013</td>\n",
       "      <td>76</td>\n",
       "      <td>22602</td>\n",
       "      <td>297.394737</td>\n",
       "    </tr>\n",
       "    <tr>\n",
       "      <th>6</th>\n",
       "      <td>2014</td>\n",
       "      <td>60</td>\n",
       "      <td>18931</td>\n",
       "      <td>315.516667</td>\n",
       "    </tr>\n",
       "    <tr>\n",
       "      <th>7</th>\n",
       "      <td>2015</td>\n",
       "      <td>59</td>\n",
       "      <td>18353</td>\n",
       "      <td>311.067797</td>\n",
       "    </tr>\n",
       "    <tr>\n",
       "      <th>8</th>\n",
       "      <td>2016</td>\n",
       "      <td>60</td>\n",
       "      <td>18862</td>\n",
       "      <td>314.366667</td>\n",
       "    </tr>\n",
       "    <tr>\n",
       "      <th>9</th>\n",
       "      <td>2017</td>\n",
       "      <td>59</td>\n",
       "      <td>18786</td>\n",
       "      <td>318.406780</td>\n",
       "    </tr>\n",
       "  </tbody>\n",
       "</table>\n",
       "</div>"
      ],
      "text/plain": [
       "   season  matches  total_runs  per_match_runs\n",
       "0    2008       58       17937      309.258621\n",
       "1    2009       57       16353      286.894737\n",
       "2    2010       60       18883      314.716667\n",
       "3    2011       73       21154      289.780822\n",
       "4    2012       74       22453      303.418919\n",
       "5    2013       76       22602      297.394737\n",
       "6    2014       60       18931      315.516667\n",
       "7    2015       59       18353      311.067797\n",
       "8    2016       60       18862      314.366667\n",
       "9    2017       59       18786      318.406780"
      ]
     },
     "execution_count": 37,
     "metadata": {},
     "output_type": "execute_result"
    }
   ],
   "source": [
    "final"
   ]
  },
  {
   "cell_type": "code",
   "execution_count": 38,
   "id": "958bb803",
   "metadata": {},
   "outputs": [
    {
     "data": {
      "text/plain": [
       "<AxesSubplot:xlabel='season'>"
      ]
     },
     "execution_count": 38,
     "metadata": {},
     "output_type": "execute_result"
    },
    {
     "data": {
      "image/png": "[encoded data removed]",
      "text/plain": [
       "<Figure size 432x288 with 1 Axes>"
      ]
     },
     "metadata": {
      "needs_background": "light"
     },
     "output_type": "display_data"
    }
   ],
   "source": [
    "final.set_index(\"season\")[\"per_match_runs\"].plot()"
   ]
  },
  {
   "cell_type": "markdown",
   "id": "7ae48f32",
   "metadata": {},
   "source": [
    "### lucky"
   ]
  },
  {
   "cell_type": "code",
   "execution_count": 39,
   "id": "d48a9e00",
   "metadata": {},
   "outputs": [],
   "source": [
    "def lucky(match_data,team):\n",
    "    return match_data[match_data[\"winner\"]==team][\"venue\"].value_counts().nlargest(5)"
   ]
  },
  {
   "cell_type": "code",
   "execution_count": 40,
   "id": "36f05637",
   "metadata": {},
   "outputs": [
    {
     "data": {
      "text/plain": [
       "<AxesSubplot:>"
      ]
     },
     "execution_count": 40,
     "metadata": {},
     "output_type": "execute_result"
    },
    {
     "data": {
      "image/png": "[encoded data removed]",
      "text/plain": [
       "<Figure size 432x288 with 1 Axes>"
      ]
     },
     "metadata": {
      "needs_background": "light"
     },
     "output_type": "display_data"
    }
   ],
   "source": [
    "lucky(match_data,\"RCB\").plot(kind=\"bar\")"
   ]
  },
  {
   "cell_type": "code",
   "execution_count": null,
   "id": "42fc3373",
   "metadata": {},
   "outputs": [],
   "source": []
  },
  {
   "cell_type": "code",
   "execution_count": null,
   "id": "7590a1fe",
   "metadata": {},
   "outputs": [],
   "source": []
  },
  {
   "cell_type": "code",
   "execution_count": null,
   "id": "c9faa555",
   "metadata": {},
   "outputs": [],
   "source": []
  },
  {
   "cell_type": "code",
   "execution_count": null,
   "id": "125a9379",
   "metadata": {},
   "outputs": [],
   "source": []
  },
  {
   "cell_type": "code",
   "execution_count": null,
   "id": "c89ef89c",
   "metadata": {},
   "outputs": [],
   "source": []
  },
  {
   "cell_type": "code",
   "execution_count": null,
   "id": "5f3fdd40",
   "metadata": {},
   "outputs": [],
   "source": []
  },
  {
   "cell_type": "code",
   "execution_count": null,
   "id": "8fcfb23e",
   "metadata": {},
   "outputs": [],
   "source": []
  },
  {
   "cell_type": "code",
   "execution_count": null,
   "id": "d44e84ce",
   "metadata": {},
   "outputs": [],
   "source": []
  },
  {
   "cell_type": "code",
   "execution_count": null,
   "id": "384346f8",
   "metadata": {},
   "outputs": [],
   "source": []
  },
  {
   "cell_type": "code",
   "execution_count": null,
   "id": "56a8b0a8",
   "metadata": {},
   "outputs": [],
   "source": []
  },
  {
   "cell_type": "code",
   "execution_count": null,
   "id": "3a370ab0",
   "metadata": {},
   "outputs": [],
   "source": []
  },
  {
   "cell_type": "code",
   "execution_count": null,
   "id": "411bfa85",
   "metadata": {},
   "outputs": [],
   "source": []
  },
  {
   "cell_type": "code",
   "execution_count": null,
   "id": "4028c075",
   "metadata": {},
   "outputs": [],
   "source": []
  },
  {
   "cell_type": "code",
   "execution_count": null,
   "id": "e3be634f",
   "metadata": {},
   "outputs": [],
   "source": []
  },
  {
   "cell_type": "code",
   "execution_count": null,
   "id": "81e35f2f",
   "metadata": {},
   "outputs": [],
   "source": []
  },
  {
   "cell_type": "code",
   "execution_count": null,
   "id": "b203c7cc",
   "metadata": {},
   "outputs": [],
   "source": []
  },
  {
   "cell_type": "code",
   "execution_count": null,
   "id": "6a05643e",
   "metadata": {},
   "outputs": [],
   "source": []
  },
  {
   "cell_type": "code",
   "execution_count": null,
   "id": "689f046e",
   "metadata": {},
   "outputs": [],
   "source": []
  }
 ],
 "metadata": {
  "kernelspec": {
   "display_name": "Python 3 (ipykernel)",
   "language": "python",
   "name": "python3"
  },
  "language_info": {
   "codemirror_mode": {
    "name": "ipython",
    "version": 3
   },
   "file_extension": ".py",
   "mimetype": "text/x-python",
   "name": "python",
   "nbconvert_exporter": "python",
   "pygments_lexer": "ipython3",
   "version": "3.9.7"
  }
 },
 "nbformat": 4,
 "nbformat_minor": 5
}
